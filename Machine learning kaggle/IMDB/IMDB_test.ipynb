{
 "metadata": {
  "language_info": {
   "codemirror_mode": {
    "name": "ipython",
    "version": 3
   },
   "file_extension": ".py",
   "mimetype": "text/x-python",
   "name": "python",
   "nbconvert_exporter": "python",
   "pygments_lexer": "ipython3",
   "version": "3.7.0-final"
  },
  "orig_nbformat": 2,
  "kernelspec": {
   "name": "pycharm-a175d104",
   "display_name": "PyCharm (mine)"
  }
 },
 "nbformat": 4,
 "nbformat_minor": 2,
 "cells": [
  {
   "cell_type": "code",
   "execution_count": 16,
   "metadata": {},
   "outputs": [
    {
     "output_type": "stream",
     "name": "stdout",
     "text": [
      "d:\\OneDrive - zju.edu.cn\\Documents\\Git\\Machine-learning\\Machine learning kaggle\\IMDB\n"
     ]
    }
   ],
   "source": [
    "import os\n",
    "# print(os.getcwd())\n",
    "os.chdir('D:\\OneDrive - zju.edu.cn\\Documents\\Git\\Machine-learning\\Machine learning kaggle\\IMDB')\n",
    "print(os.getcwd())"
   ]
  },
  {
   "cell_type": "code",
   "execution_count": 17,
   "metadata": {},
   "outputs": [
    {
     "output_type": "stream",
     "name": "stdout",
     "text": [
      "       id  sentiment                                             review\n0  5814_8          1  With all this stuff going down at the moment w...\n1  2381_9          1  \\The Classic War of the Worlds\\\" by Timothy Hi...\n2  7759_3          0  The film starts with a manager (Nicholas Bell)...\n3  3630_4          0  It must be assumed that those who praised this...\n4  9495_8          1  Superbly trashy and wondrously unpretentious 8...\n         id                                             review\n0  12311_10  Naturally in a film who's main themes are of m...\n1    8348_2  This movie is a disaster within a disaster fil...\n2    5828_4  All in all, this is a movie for kids. We saw i...\n3    7186_2  Afraid of the Dark left me with the impression...\n4   12128_7  A very accurate depiction of small time mob li...\n"
     ]
    }
   ],
   "source": [
    "import pandas as pd\n",
    "\n",
    "train_data = pd.read_csv('datasets/labeledTrainData.tsv',delimiter='\\t')\n",
    "test_data = pd.read_csv('datasets/testData.tsv',delimiter='\\t')\n",
    "print(train_data.head())\n",
    "print(test_data.head())\n"
   ]
  },
  {
   "cell_type": "code",
   "execution_count": 18,
   "metadata": {},
   "outputs": [],
   "source": [
    "# review = train_data.loc[0,'review']\n",
    "# print('review:\\n',review)\n",
    "\n",
    "# stop_words = set(stopwords.words('english'))\n",
    "# def review_to_text(review,remove_stopwords):\n",
    "#     raw_text = BeautifulSoup(review,'html').get_text()\n",
    "#     letters = re.sub('[^a-zA-Z]',' ',raw_text)\n",
    "#     words = letters.lower().split()\n",
    "#     print('words:\\n',words)\n",
    "#     if remove_stopwords: \n",
    "#         words = [w for w in words if w not in stop_words]\n",
    "#     print('words:\\n',words)\n",
    "#     return words\n",
    "\n",
    "# x_train = []\n",
    "# x_train.append(' '.join(review_to_text(review,True)))\n",
    "# print('x_train:\\n',x_train)"
   ]
  },
  {
   "cell_type": "code",
   "execution_count": 20,
   "metadata": {},
   "outputs": [],
   "source": [
    "from bs4 import BeautifulSoup\n",
    "import re\n",
    "from nltk.corpus import stopwords\n",
    "\n",
    "stop_words = set(stopwords.words('english'))\n",
    "def review_to_text(review,remove_stopwords):\n",
    "    raw_text = BeautifulSoup(review,'html').get_text()\n",
    "    letters = re.sub('[^a-zA-Z]',' ',raw_text)\n",
    "    words = letters.lower().split()\n",
    "    if remove_stopwords: \n",
    "        words = [w for w in words if w not in stop_words]\n",
    "    return words\n",
    "\n",
    "x_train = []\n",
    "for review in train_data['review']:\n",
    "    x_train.append(' '.join(review_to_text(review,True)))\n",
    "x_test = []\n",
    "for review in test_data['review']:\n",
    "    x_test.append(' '.join(review_to_text(review,True)))\n",
    "\n",
    "y_train = train_data['sentiment']\n",
    "# print(x_train[:10])"
   ]
  },
  {
   "cell_type": "code",
   "execution_count": 25,
   "metadata": {},
   "outputs": [
    {
     "output_type": "stream",
     "name": "stdout",
     "text": [
      "Fitting 4 folds for each of 12 candidates, totalling 48 fits\n",
      "[Parallel(n_jobs=-1)]: Using backend LokyBackend with 12 concurrent workers.\n",
      "[Parallel(n_jobs=-1)]: Done  48 out of  48 | elapsed:   50.5s finished\n",
      "gs_count.best_score_: 0.88216\n",
      "gs_count.best_params_: {'count_vec__binary': True, 'count_vec__ngram_range': (1, 2), 'mnb__alpha': 1}\n",
      "Fitting 4 folds for each of 12 candidates, totalling 48 fits\n",
      "[Parallel(n_jobs=-1)]: Using backend LokyBackend with 12 concurrent workers.\n",
      "[Parallel(n_jobs=-1)]: Done  48 out of  48 | elapsed:   54.8s finished\n",
      "gs_tfidf.best_score_: 0.88712\n",
      "gs_tfidf.best_params_: {'mnb__alpha': 0.1, 'tfidf_vec__binary': True, 'tfidf_vec__ngram_range': (1, 2)}\n"
     ]
    }
   ],
   "source": [
    "from sklearn.feature_extraction.text import CountVectorizer,TfidfVectorizer\n",
    "from sklearn.naive_bayes import MultinomialNB\n",
    "from sklearn.pipeline import Pipeline\n",
    "from sklearn.model_selection import GridSearchCV\n",
    "\n",
    "pip_count = Pipeline([('count_vec',CountVectorizer(analyzer='word')),('mnb',MultinomialNB())])\n",
    "pip_tfidf = Pipeline([('tfidf_vec',TfidfVectorizer(analyzer='word')),('mnb',MultinomialNB())])\n",
    "\n",
    "params_count = {'count_vec__binary':[True,False],'count_vec__ngram_range':[(1,1),(1,2)],'mnb__alpha':[0.1,1,10.0]}\n",
    "params_tfidf = {'tfidf_vec__binary':[True,False],'tfidf_vec__ngram_range':[(1,1),(1,2)],'mnb__alpha':[0.1,1,10.0]}\n",
    "\n",
    "gs_count = GridSearchCV(pip_count,params_count,cv=4,n_jobs=-1,verbose=1)\n",
    "gs_count.fit(x_train,y_train)\n",
    "print('gs_count.best_score_:',gs_count.best_score_)\n",
    "print('gs_count.best_params_:',gs_count.best_params_)\n",
    "count_y_predict = gs_count.predict(x_test)\n",
    "\n",
    "gs_tfidf = GridSearchCV(pip_tfidf,params_tfidf,cv=4,n_jobs=-1,verbose=1)\n",
    "gs_tfidf.fit(x_train,y_train)\n",
    "print('gs_tfidf.best_score_:',gs_tfidf.best_score_)\n",
    "print('gs_tfidf.best_params_:',gs_tfidf.best_params_)\n",
    "tfidf_y_predict = gs_tfidf.predict(x_test)\n"
   ]
  },
  {
   "cell_type": "code",
   "execution_count": 28,
   "metadata": {},
   "outputs": [],
   "source": [
    "submission_count = pd.DataFrame({'id':test_data['id'],'sentiment':count_y_predict})\n",
    "submission_tfidf = pd.DataFrame({'id':test_data['id'],'sentiment':tfidf_y_predict})\n",
    "\n",
    "submission_count.to_csv('datasets/submission_count.csv',index=False)\n",
    "submission_tfidf.to_csv('datasets/submission_tfidf.csv',index=False)"
   ]
  },
  {
   "cell_type": "code",
   "execution_count": null,
   "metadata": {},
   "outputs": [],
   "source": []
  }
 ]
}