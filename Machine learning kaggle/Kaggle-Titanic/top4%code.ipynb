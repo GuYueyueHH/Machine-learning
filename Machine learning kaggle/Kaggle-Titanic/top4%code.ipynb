{
 "cells": [
  {
   "cell_type": "markdown",
   "metadata": {},
   "source": [
    "## Titanic"
   ]
  },
  {
   "cell_type": "code",
   "execution_count": 200,
   "metadata": {
    "collapsed": true
   },
   "outputs": [],
   "source": [
    "import numpy as np\n",
    "import pandas as pd\n",
    "import os\n",
    "import seaborn as sns\n",
    "import matplotlib.pyplot as plt\n",
    "%matplotlib inline\n",
    "\n",
    "from sklearn.preprocessing import LabelEncoder\n",
    "from sklearn.model_selection import train_test_split\n",
    "from sklearn.linear_model import LogisticRegression\n",
    "from sklearn.svm import SVC, LinearSVC\n",
    "from sklearn.ensemble import RandomForestClassifier\n",
    "from sklearn.neighbors import KNeighborsClassifier\n",
    "from sklearn.naive_bayes import GaussianNB\n",
    "from sklearn.linear_model import Perceptron\n",
    "from sklearn.linear_model import SGDClassifier\n",
    "from sklearn.tree import DecisionTreeClassifier\n",
    "from sklearn.ensemble import GradientBoostingClassifier\n",
    "from sklearn.model_selection import GridSearchCV, cross_val_score, StratifiedKFold, learning_curve\n",
    "from xgboost import XGBClassifier\n",
    "from lightgbm import LGBMClassifier\n",
    "import warnings\n",
    "warnings.filterwarnings('ignore')"
   ]
  },
  {
   "cell_type": "code",
   "execution_count": 201,
   "metadata": {},
   "outputs": [],
   "source": [
    "os.getcwd()\n",
    "os.chdir('d:\\\\OneDrive - zju.edu.cn\\\\Documents\\\\Git\\\\Machine-learning\\\\Machine learning kaggle')"
   ]
  },
  {
   "cell_type": "code",
   "execution_count": 202,
   "metadata": {
    "collapsed": true
   },
   "outputs": [
    {
     "output_type": "stream",
     "name": "stdout",
     "text": [
      "<class 'pandas.core.frame.DataFrame'>\nInt64Index: 1309 entries, 0 to 417\nData columns (total 12 columns):\n #   Column       Non-Null Count  Dtype  \n---  ------       --------------  -----  \n 0   PassengerId  1309 non-null   int64  \n 1   Survived     891 non-null    float64\n 2   Pclass       1309 non-null   int64  \n 3   Name         1309 non-null   object \n 4   Sex          1309 non-null   object \n 5   Age          1046 non-null   float64\n 6   SibSp        1309 non-null   int64  \n 7   Parch        1309 non-null   int64  \n 8   Ticket       1309 non-null   object \n 9   Fare         1308 non-null   float64\n 10  Cabin        295 non-null    object \n 11  Embarked     1307 non-null   object \ndtypes: float64(3), int64(4), object(5)\nmemory usage: 132.9+ KB\ncombined df: None\n"
     ]
    }
   ],
   "source": [
    "train_df = pd.read_csv('datasets/titanic/train.csv')\n",
    "test_df = pd.read_csv('datasets/titanic/test.csv')\n",
    "combine_df = pd.concat([train_df,test_df])\n",
    "print('combined df:',combine_df.info())"
   ]
  },
  {
   "cell_type": "code",
   "execution_count": 203,
   "metadata": {
    "collapsed": true
   },
   "outputs": [],
   "source": [
    "#Title\n",
    "combine_df['Title'] = combine_df['Name'].apply(lambda x: x.split(', ')[1]).apply(lambda x: x.split('.')[0])\n",
    "combine_df['Title'] = combine_df['Title'].replace(['Don','Dona', 'Major', 'Capt', 'Jonkheer', 'Rev', 'Col','Sir','Dr'],'Mr')\n",
    "combine_df['Title'] = combine_df['Title'].replace(['Mlle','Ms'], 'Miss')\n",
    "combine_df['Title'] = combine_df['Title'].replace(['the Countess','Mme','Lady','Dr'], 'Mrs')\n",
    "df = pd.get_dummies(combine_df['Title'],prefix='Title')\n",
    "combine_df = pd.concat([combine_df,df],axis=1)\n",
    "\n",
    "#Name_length\n",
    "combine_df['Name_Len'] = combine_df['Name'].apply(lambda x: len(x))\n",
    "combine_df['Name_Len'] = pd.qcut(combine_df['Name_Len'],20)\n",
    "\n",
    "\n",
    "#Dead_female_family & Survive_male_family\n",
    "combine_df['Surname'] = combine_df['Name'].apply(lambda x:x.split(',')[0])\n",
    "dead_female_surname = list(set(combine_df[(combine_df.Sex=='female') & (combine_df.Age>=12)\n",
    "                              & (combine_df.Survived==0) & ((combine_df.Parch>0) | (combine_df.SibSp > 0))]['Surname'].values))\n",
    "# survive_male_surname = list(set(combine_df[(combine_df.Sex=='male') & (combine_df.Age>=12)\n",
    "#                               & (combine_df.Survived==1) & ((combine_df.Parch>0) | (combine_df.SibSp > 0))]['Surname'].values))\n",
    "combine_df['Dead_female_family'] = np.where(combine_df['Surname'].isin(dead_female_surname),0,1)\n",
    "# combine_df['Survive_male_family'] = np.where(combine_df['Surname'].isin(survive_male_surname),0,1)\n",
    "combine_df = combine_df.drop(['Name','Surname'],axis=1)\n",
    "# combine_df = combine_df.drop(['Name'],axis=1)\n",
    "\n",
    "\n",
    "\n",
    "#Age & isChild\n",
    "# combine_df['Age_null'] = np.where(combine_df['Age'].isnull(),1,0)\n",
    "group = combine_df.groupby(['Title', 'Pclass'])['Age']\n",
    "combine_df['Age'] = group.transform(lambda x: x.fillna(x.median()))\n",
    "combine_df = combine_df.drop('Title',axis=1)\n",
    "combine_df['IsChild'] = np.where(combine_df['Age']<=12,1,0)\n",
    "combine_df['IsOld'] = np.where(combine_df['Age']>=60,1,0)\n",
    "combine_df['Age'] = pd.cut(combine_df['Age'],5)\n",
    "# combine_df = combine_df.drop('Age',axis=1)\n",
    "\n",
    "#ticket\n",
    "combine_df['Ticket_Lett'] = combine_df['Ticket'].apply(lambda x: str(x)[0])\n",
    "combine_df['Ticket_Lett'] = combine_df['Ticket_Lett'].apply(lambda x: str(x))\n",
    "\n",
    "combine_df['High_Survival_Ticket'] = np.where(combine_df['Ticket_Lett'].isin(['1', '2', 'P']),1,0)\n",
    "combine_df['Low_Survival_Ticket'] = np.where(combine_df['Ticket_Lett'].isin(['A','W','3','7']),1,0)\n",
    "# combine_df = combine_df.drop(['Ticket','Ticket_Lett'],axis=1)\n",
    "\n",
    "#Embarked\n",
    "#combine_df = combine_df.drop('Embarked',axis=1)\n",
    "combine_df.Embarked = combine_df.Embarked.fillna('S')\n",
    "df = pd.get_dummies(combine_df['Embarked'],prefix='Embarked')\n",
    "combine_df = pd.concat([combine_df,df],axis=1).drop('Embarked',axis=1)\n",
    "\n",
    "#FamilySize\n",
    "combine_df['FamilySize'] = np.where(combine_df['SibSp']+combine_df['Parch']==0, 'Alone',\n",
    "                                    np.where(combine_df['SibSp']+combine_df['Parch']<=3, 'Small', 'Big'))\n",
    "df = pd.get_dummies(combine_df['FamilySize'],prefix='FamilySize')\n",
    "combine_df = pd.concat([combine_df,df],axis=1).drop(['SibSp','Parch','FamilySize'],axis=1)\n",
    "\n",
    "\n",
    "#Cabin\n",
    "# combine_df['Cabin_isNull'] = np.where(combine_df['Cabin'].isnull(),0,1)\n",
    "combine_df = combine_df.drop('Cabin',axis=1)\n",
    "\n",
    "#PClass\n",
    "df = pd.get_dummies(combine_df['Pclass'],prefix='Pclass')\n",
    "combine_df = pd.concat([combine_df,df],axis=1).drop('Pclass',axis=1)\n",
    "\n",
    "\n",
    "#Sex\n",
    "df = pd.get_dummies(combine_df['Sex'],prefix='Sex')\n",
    "combine_df = pd.concat([combine_df,df],axis=1).drop('Sex',axis=1)\n",
    "\n",
    "#Fare\n",
    "combine_df['Fare'].fillna(combine_df['Fare'].dropna().median(),inplace=True)\n",
    "combine_df['Low_Fare'] = np.where(combine_df['Fare']<=8.662,1,0)\n",
    "combine_df['High_Fare'] = np.where(combine_df['Fare']>=26,1,0)\n",
    "combine_df = combine_df.drop('Fare',axis=1)"
   ]
  },
  {
   "cell_type": "code",
   "execution_count": 204,
   "metadata": {},
   "outputs": [
    {
     "output_type": "execute_result",
     "data": {
      "text/plain": [
       "Index(['PassengerId', 'Survived', 'Age', 'Ticket', 'Title_Master',\n",
       "       'Title_Miss', 'Title_Mr', 'Title_Mrs', 'Name_Len', 'Dead_female_family',\n",
       "       'IsChild', 'IsOld', 'Ticket_Lett', 'High_Survival_Ticket',\n",
       "       'Low_Survival_Ticket', 'Embarked_C', 'Embarked_Q', 'Embarked_S',\n",
       "       'FamilySize_Alone', 'FamilySize_Big', 'FamilySize_Small', 'Pclass_1',\n",
       "       'Pclass_2', 'Pclass_3', 'Sex_female', 'Sex_male', 'Low_Fare',\n",
       "       'High_Fare'],\n",
       "      dtype='object')"
      ]
     },
     "metadata": {},
     "execution_count": 204
    }
   ],
   "source": [
    "combine_df.columns"
   ]
  },
  {
   "cell_type": "code",
   "execution_count": 205,
   "metadata": {
    "collapsed": true
   },
   "outputs": [],
   "source": [
    "features = combine_df.drop([\"PassengerId\",\"Survived\"], axis=1).columns\n",
    "le = LabelEncoder()\n",
    "for feature in features:\n",
    "    le = le.fit(combine_df[feature])\n",
    "    combine_df[feature] = le.transform(combine_df[feature])"
   ]
  },
  {
   "cell_type": "code",
   "execution_count": 206,
   "metadata": {},
   "outputs": [
    {
     "output_type": "display_data",
     "data": {
      "text/plain": "<Figure size 432x288 with 1 Axes>",
      "image/svg+xml": "<?xml version=\"1.0\" encoding=\"utf-8\" standalone=\"no\"?>\r\n<!DOCTYPE svg PUBLIC \"-//W3C//DTD SVG 1.1//EN\"\r\n  \"http://www.w3.org/Graphics/SVG/1.1/DTD/svg11.dtd\">\r\n<!-- Created with matplotlib (https://matplotlib.org/) -->\r\n<svg height=\"279.391875pt\" version=\"1.1\" viewBox=\"0 0 440.389062 279.391875\" width=\"440.389062pt\" xmlns=\"http://www.w3.org/2000/svg\" xmlns:xlink=\"http://www.w3.org/1999/xlink\">\r\n <metadata>\r\n  <rdf:RDF xmlns:cc=\"http://creativecommons.org/ns#\" xmlns:dc=\"http://purl.org/dc/elements/1.1/\" xmlns:rdf=\"http://www.w3.org/1999/02/22-rdf-syntax-ns#\">\r\n   <cc:Work>\r\n    <dc:type rdf:resource=\"http://purl.org/dc/dcmitype/StillImage\"/>\r\n    <dc:date>2020-11-06T23:10:21.519628</dc:date>\r\n    <dc:format>image/svg+xml</dc:format>\r\n    <dc:creator>\r\n     <cc:Agent>\r\n      <dc:title>Matplotlib v3.3.2, https://matplotlib.org/</dc:title>\r\n     </cc:Agent>\r\n    </dc:creator>\r\n   </cc:Work>\r\n  </rdf:RDF>\r\n </metadata>\r\n <defs>\r\n  <style type=\"text/css\">*{stroke-linecap:butt;stroke-linejoin:round;}</style>\r\n </defs>\r\n <g id=\"figure_1\">\r\n  <g id=\"patch_1\">\r\n   <path d=\"M 0 279.391875 \r\nL 440.389062 279.391875 \r\nL 440.389062 0 \r\nL 0 0 \r\nz\r\n\" style=\"fill:none;\"/>\r\n  </g>\r\n  <g id=\"axes_1\">\r\n   <g id=\"patch_2\">\r\n    <path d=\"M 98.389062 240.2325 \r\nL 433.189062 240.2325 \r\nL 433.189062 22.7925 \r\nL 98.389062 22.7925 \r\nz\r\n\" style=\"fill:#ffffff;\"/>\r\n   </g>\r\n   <g id=\"patch_3\">\r\n    <path clip-path=\"url(#pf06477cfdb)\" d=\"M 98.389062 25.5105 \r\nL 391.167892 25.5105 \r\nL 391.167892 47.2545 \r\nL 98.389062 47.2545 \r\nz\r\n\" style=\"fill:#96cac1;\"/>\r\n   </g>\r\n   <g id=\"patch_4\">\r\n    <path clip-path=\"url(#pf06477cfdb)\" d=\"M 98.389062 52.6905 \r\nL 325.342951 52.6905 \r\nL 325.342951 74.4345 \r\nL 98.389062 74.4345 \r\nz\r\n\" style=\"fill:#f6f6bc;\"/>\r\n   </g>\r\n   <g id=\"patch_5\">\r\n    <path clip-path=\"url(#pf06477cfdb)\" d=\"M 98.389062 79.8705 \r\nL 352.047716 79.8705 \r\nL 352.047716 101.6145 \r\nL 98.389062 101.6145 \r\nz\r\n\" style=\"fill:#c1bed6;\"/>\r\n   </g>\r\n   <g id=\"patch_6\">\r\n    <path clip-path=\"url(#pf06477cfdb)\" d=\"M 98.389062 107.0505 \r\nL 389.621351 107.0505 \r\nL 389.621351 128.7945 \r\nL 98.389062 128.7945 \r\nz\r\n\" style=\"fill:#ea8e83;\"/>\r\n   </g>\r\n   <g id=\"patch_7\">\r\n    <path clip-path=\"url(#pf06477cfdb)\" d=\"M 98.389062 134.2305 \r\nL 391.951933 134.2305 \r\nL 391.951933 155.9745 \r\nL 98.389062 155.9745 \r\nz\r\n\" style=\"fill:#8aafc9;\"/>\r\n   </g>\r\n   <g id=\"patch_8\">\r\n    <path clip-path=\"url(#pf06477cfdb)\" d=\"M 98.389062 161.4105 \r\nL 402.002299 161.4105 \r\nL 402.002299 183.1545 \r\nL 98.389062 183.1545 \r\nz\r\n\" style=\"fill:#eab375;\"/>\r\n   </g>\r\n   <g id=\"patch_9\">\r\n    <path clip-path=\"url(#pf06477cfdb)\" d=\"M 98.389062 188.5905 \r\nL 396.970654 188.5905 \r\nL 396.970654 210.3345 \r\nL 98.389062 210.3345 \r\nz\r\n\" style=\"fill:#afcf78;\"/>\r\n   </g>\r\n   <g id=\"patch_10\">\r\n    <path clip-path=\"url(#pf06477cfdb)\" d=\"M 98.389062 215.7705 \r\nL 395.032092 215.7705 \r\nL 395.032092 237.5145 \r\nL 98.389062 237.5145 \r\nz\r\n\" style=\"fill:#f6d3e5;\"/>\r\n   </g>\r\n   <g id=\"matplotlib.axis_1\">\r\n    <g id=\"xtick_1\">\r\n     <g id=\"line2d_1\">\r\n      <defs>\r\n       <path d=\"M 0 0 \r\nL 0 3.5 \r\n\" id=\"mfff85c9a89\" style=\"stroke:#000000;stroke-width:0.8;\"/>\r\n      </defs>\r\n      <g>\r\n       <use style=\"stroke:#000000;stroke-width:0.8;\" x=\"98.389062\" xlink:href=\"#mfff85c9a89\" y=\"240.2325\"/>\r\n      </g>\r\n     </g>\r\n     <g id=\"text_1\">\r\n      <!-- 0.0 -->\r\n      <g transform=\"translate(91.321094 255.22625)scale(0.1 -0.1)\">\r\n       <defs>\r\n        <path d=\"M 4.4375 36.328125 \r\nQ 4.4375 56.34375 11.078125 66.625 \r\nQ 17.71875 76.90625 30.328125 76.90625 \r\nQ 54.34375 76.90625 54.34375 38.140625 \r\nQ 54.34375 19 47.578125 8.859375 \r\nQ 40.828125 -1.265625 28.609375 -1.265625 \r\nQ 17.09375 -1.265625 10.765625 8.34375 \r\nQ 4.4375 17.96875 4.4375 36.328125 \r\nz\r\nM 14.203125 36.765625 \r\nQ 14.203125 6.640625 29.5 6.640625 \r\nQ 44.53125 6.640625 44.53125 37.25 \r\nQ 44.53125 68.953125 29.78125 68.953125 \r\nQ 14.203125 68.953125 14.203125 36.765625 \r\nz\r\n\" id=\"MicrosoftYaHei-48\"/>\r\n        <path d=\"M 5.8125 5.03125 \r\nQ 5.8125 7.671875 7.609375 9.46875 \r\nQ 9.421875 11.28125 12.109375 11.28125 \r\nQ 14.84375 11.28125 16.640625 9.453125 \r\nQ 18.453125 7.625 18.453125 5.03125 \r\nQ 18.453125 2.484375 16.640625 0.65625 \r\nQ 14.84375 -1.171875 12.0625 -1.171875 \r\nQ 9.375 -1.171875 7.59375 0.65625 \r\nQ 5.8125 2.484375 5.8125 5.03125 \r\nz\r\n\" id=\"MicrosoftYaHei-46\"/>\r\n       </defs>\r\n       <use xlink:href=\"#MicrosoftYaHei-48\"/>\r\n       <use x=\"58.642578\" xlink:href=\"#MicrosoftYaHei-46\"/>\r\n       <use x=\"82.714844\" xlink:href=\"#MicrosoftYaHei-48\"/>\r\n      </g>\r\n     </g>\r\n    </g>\r\n    <g id=\"xtick_2\">\r\n     <g id=\"line2d_2\">\r\n      <g>\r\n       <use style=\"stroke:#000000;stroke-width:0.8;\" x=\"167.401861\" xlink:href=\"#mfff85c9a89\" y=\"240.2325\"/>\r\n      </g>\r\n     </g>\r\n     <g id=\"text_2\">\r\n      <!-- 0.2 -->\r\n      <g transform=\"translate(160.333893 255.22625)scale(0.1 -0.1)\">\r\n       <defs>\r\n        <path d=\"M 41.65625 55.8125 \r\nQ 41.65625 61.921875 37.796875 65.40625 \r\nQ 33.9375 68.890625 27.296875 68.890625 \r\nQ 22.609375 68.890625 17.8125 66.5 \r\nQ 13.03125 64.109375 8.890625 59.671875 \r\nL 8.890625 68.953125 \r\nQ 12.59375 72.796875 17.296875 74.84375 \r\nQ 22.015625 76.90625 28.375 76.90625 \r\nQ 38.625 76.90625 44.875 71.40625 \r\nQ 51.125 65.921875 51.125 56.546875 \r\nQ 51.125 48.1875 47.28125 42.078125 \r\nQ 43.453125 35.984375 34.1875 29.59375 \r\nQ 24.703125 23.046875 21.5 20.21875 \r\nQ 18.3125 17.390625 17.03125 14.796875 \r\nQ 15.765625 12.203125 15.765625 8.5 \r\nL 53.375 8.5 \r\nL 53.375 0 \r\nL 5.8125 0 \r\nL 5.8125 3.765625 \r\nQ 5.8125 10.296875 7.59375 14.859375 \r\nQ 9.375 19.4375 13.46875 23.75 \r\nQ 17.578125 28.078125 26.265625 34.125 \r\nQ 35.15625 40.375 38.40625 45.09375 \r\nQ 41.65625 49.8125 41.65625 55.8125 \r\nz\r\n\" id=\"MicrosoftYaHei-50\"/>\r\n       </defs>\r\n       <use xlink:href=\"#MicrosoftYaHei-48\"/>\r\n       <use x=\"58.642578\" xlink:href=\"#MicrosoftYaHei-46\"/>\r\n       <use x=\"82.714844\" xlink:href=\"#MicrosoftYaHei-50\"/>\r\n      </g>\r\n     </g>\r\n    </g>\r\n    <g id=\"xtick_3\">\r\n     <g id=\"line2d_3\">\r\n      <g>\r\n       <use style=\"stroke:#000000;stroke-width:0.8;\" x=\"236.41466\" xlink:href=\"#mfff85c9a89\" y=\"240.2325\"/>\r\n      </g>\r\n     </g>\r\n     <g id=\"text_3\">\r\n      <!-- 0.4 -->\r\n      <g transform=\"translate(229.346692 255.22625)scale(0.1 -0.1)\">\r\n       <defs>\r\n        <path d=\"M 45.40625 75.640625 \r\nL 45.40625 25.6875 \r\nL 56.734375 25.6875 \r\nL 56.734375 17.78125 \r\nL 45.40625 17.78125 \r\nL 45.40625 0 \r\nL 36.140625 0 \r\nL 36.140625 17.78125 \r\nL 0.828125 17.78125 \r\nL 0.828125 25.25 \r\nQ 10.25 35.84375 19.765625 49.65625 \r\nQ 29.296875 63.484375 35.5 75.640625 \r\nz\r\nM 11.578125 25.6875 \r\nL 36.140625 25.6875 \r\nL 36.140625 61.71875 \r\nQ 31.0625 52.59375 25.25 44.015625 \r\nQ 19.4375 35.453125 11.578125 25.6875 \r\nz\r\n\" id=\"MicrosoftYaHei-52\"/>\r\n       </defs>\r\n       <use xlink:href=\"#MicrosoftYaHei-48\"/>\r\n       <use x=\"58.642578\" xlink:href=\"#MicrosoftYaHei-46\"/>\r\n       <use x=\"82.714844\" xlink:href=\"#MicrosoftYaHei-52\"/>\r\n      </g>\r\n     </g>\r\n    </g>\r\n    <g id=\"xtick_4\">\r\n     <g id=\"line2d_4\">\r\n      <g>\r\n       <use style=\"stroke:#000000;stroke-width:0.8;\" x=\"305.427459\" xlink:href=\"#mfff85c9a89\" y=\"240.2325\"/>\r\n      </g>\r\n     </g>\r\n     <g id=\"text_4\">\r\n      <!-- 0.6 -->\r\n      <g transform=\"translate(298.359491 255.22625)scale(0.1 -0.1)\">\r\n       <defs>\r\n        <path d=\"M 49.703125 65.921875 \r\nQ 43.796875 68.953125 37.359375 68.953125 \r\nQ 27.546875 68.953125 21.578125 60.40625 \r\nQ 15.625 51.859375 15.53125 37.0625 \r\nL 15.765625 37.0625 \r\nQ 21.140625 47.46875 32.90625 47.46875 \r\nQ 42.71875 47.46875 48.578125 41.0625 \r\nQ 54.4375 34.671875 54.4375 24.078125 \r\nQ 54.4375 12.984375 47.671875 5.859375 \r\nQ 40.921875 -1.265625 30.421875 -1.265625 \r\nQ 18.890625 -1.265625 12.328125 7.734375 \r\nQ 5.765625 16.75 5.765625 33.296875 \r\nQ 5.765625 53.328125 14.375 65.109375 \r\nQ 23 76.90625 37.0625 76.90625 \r\nQ 45.125 76.90625 49.703125 74.703125 \r\nz\r\nM 16.109375 24.75 \r\nQ 16.109375 17.28125 20.09375 11.953125 \r\nQ 24.078125 6.640625 30.671875 6.640625 \r\nQ 36.921875 6.640625 40.828125 11.234375 \r\nQ 44.734375 15.828125 44.734375 23.046875 \r\nQ 44.734375 30.859375 41.046875 35.203125 \r\nQ 37.359375 39.546875 30.5625 39.546875 \r\nQ 24.125 39.546875 20.109375 35.15625 \r\nQ 16.109375 30.765625 16.109375 24.75 \r\nz\r\n\" id=\"MicrosoftYaHei-54\"/>\r\n       </defs>\r\n       <use xlink:href=\"#MicrosoftYaHei-48\"/>\r\n       <use x=\"58.642578\" xlink:href=\"#MicrosoftYaHei-46\"/>\r\n       <use x=\"82.714844\" xlink:href=\"#MicrosoftYaHei-54\"/>\r\n      </g>\r\n     </g>\r\n    </g>\r\n    <g id=\"xtick_5\">\r\n     <g id=\"line2d_5\">\r\n      <g>\r\n       <use style=\"stroke:#000000;stroke-width:0.8;\" x=\"374.440258\" xlink:href=\"#mfff85c9a89\" y=\"240.2325\"/>\r\n      </g>\r\n     </g>\r\n     <g id=\"text_5\">\r\n      <!-- 0.8 -->\r\n      <g transform=\"translate(367.37229 255.22625)scale(0.1 -0.1)\">\r\n       <defs>\r\n        <path d=\"M 4.78125 21.09375 \r\nQ 4.78125 27.640625 8.6875 33.15625 \r\nQ 12.59375 38.671875 18.75 41.015625 \r\nQ 13.8125 43.796875 10.9375 48.140625 \r\nQ 8.0625 52.484375 8.0625 57.5625 \r\nQ 8.0625 62.9375 10.8125 67.375 \r\nQ 13.578125 71.828125 18.484375 74.359375 \r\nQ 23.390625 76.90625 29.296875 76.90625 \r\nQ 35.25 76.90625 40.1875 74.390625 \r\nQ 45.125 71.875 47.859375 67.421875 \r\nQ 50.59375 62.984375 50.59375 57.5625 \r\nQ 50.59375 52.59375 47.78125 48.21875 \r\nQ 44.96875 43.84375 39.984375 41.015625 \r\nQ 46.140625 38.625 50 33.109375 \r\nQ 53.859375 27.59375 53.859375 21.09375 \r\nQ 53.859375 14.65625 50.78125 9.546875 \r\nQ 47.703125 4.4375 42.03125 1.609375 \r\nQ 36.375 -1.21875 29.296875 -1.21875 \r\nQ 22.265625 -1.21875 16.640625 1.609375 \r\nQ 11.03125 4.4375 7.90625 9.5625 \r\nQ 4.78125 14.703125 4.78125 21.09375 \r\nz\r\nM 14.15625 21.53125 \r\nQ 14.15625 14.796875 18.3125 10.734375 \r\nQ 22.46875 6.6875 29.34375 6.6875 \r\nQ 36.078125 6.6875 40.34375 10.8125 \r\nQ 44.625 14.9375 44.625 21.53125 \r\nQ 44.625 27.78125 40.296875 32.046875 \r\nQ 35.984375 36.328125 29.34375 36.328125 \r\nQ 22.75 36.328125 18.453125 32.15625 \r\nQ 14.15625 27.984375 14.15625 21.53125 \r\nz\r\nM 16.890625 56.78125 \r\nQ 16.890625 51.703125 20.5 48.0625 \r\nQ 24.125 44.4375 29.34375 44.4375 \r\nQ 34.46875 44.4375 38.203125 48.09375 \r\nQ 41.9375 51.765625 41.9375 56.78125 \r\nQ 41.9375 61.921875 38.34375 65.484375 \r\nQ 34.765625 69.046875 29.34375 69.046875 \r\nQ 23.96875 69.046875 20.421875 65.546875 \r\nQ 16.890625 62.0625 16.890625 56.78125 \r\nz\r\n\" id=\"MicrosoftYaHei-56\"/>\r\n       </defs>\r\n       <use xlink:href=\"#MicrosoftYaHei-48\"/>\r\n       <use x=\"58.642578\" xlink:href=\"#MicrosoftYaHei-46\"/>\r\n       <use x=\"82.714844\" xlink:href=\"#MicrosoftYaHei-56\"/>\r\n      </g>\r\n     </g>\r\n    </g>\r\n    <g id=\"text_6\">\r\n     <!-- Mean Accuracy -->\r\n     <g transform=\"translate(229.301562 269.648125)scale(0.1 -0.1)\">\r\n      <defs>\r\n       <path d=\"M 78.171875 0 \r\nL 78.171875 50.09375 \r\nQ 78.171875 56.296875 78.90625 64.984375 \r\nL 78.65625 64.984375 \r\nQ 77.390625 59.515625 76.421875 57.375 \r\nL 51.46875 0 \r\nL 46.046875 0 \r\nL 21.140625 56.9375 \r\nQ 20.265625 58.890625 18.890625 64.984375 \r\nL 18.609375 64.984375 \r\nQ 19.09375 59.71875 19.09375 49.65625 \r\nL 19.09375 0 \r\nL 9.765625 0 \r\nL 9.765625 75.640625 \r\nL 23 75.640625 \r\nL 45.3125 23.78125 \r\nQ 47.859375 17.828125 48.6875 14.5 \r\nL 49.03125 14.5 \r\nQ 51.5625 21.484375 52.59375 23.96875 \r\nL 75.296875 75.640625 \r\nL 87.890625 75.640625 \r\nL 87.890625 0 \r\nz\r\n\" id=\"MicrosoftYaHei-77\"/>\r\n       <path d=\"M 52.546875 24.5625 \r\nL 14.75 24.5625 \r\nQ 14.984375 15.921875 19.46875 11.203125 \r\nQ 23.96875 6.5 32.03125 6.5 \r\nQ 41.109375 6.5 48.6875 12.3125 \r\nL 48.6875 3.765625 \r\nQ 41.546875 -1.265625 29.78125 -1.265625 \r\nQ 18.0625 -1.265625 11.5 6.15625 \r\nQ 4.9375 13.578125 4.9375 26.765625 \r\nQ 4.9375 39.15625 12.140625 47.21875 \r\nQ 19.34375 55.28125 30.03125 55.28125 \r\nQ 40.625 55.28125 46.578125 48.46875 \r\nQ 52.546875 41.65625 52.546875 29.390625 \r\nz\r\nM 42.96875 32.234375 \r\nQ 42.921875 39.546875 39.5 43.546875 \r\nQ 36.078125 47.5625 29.890625 47.5625 \r\nQ 24.171875 47.5625 20 43.3125 \r\nQ 15.828125 39.0625 14.75 32.234375 \r\nz\r\n\" id=\"MicrosoftYaHei-101\"/>\r\n       <path d=\"M 9.8125 50.25 \r\nQ 17.875 55.28125 28.421875 55.28125 \r\nQ 47.953125 55.28125 47.953125 34.765625 \r\nL 47.953125 0 \r\nL 38.484375 0 \r\nL 38.484375 8.34375 \r\nL 38.234375 8.34375 \r\nQ 32.625 -1.265625 21.6875 -1.265625 \r\nQ 13.8125 -1.265625 9.171875 2.984375 \r\nQ 4.546875 7.234375 4.546875 14.453125 \r\nQ 4.546875 29.59375 22.46875 32.078125 \r\nL 38.484375 34.328125 \r\nQ 38.484375 47.5625 27.546875 47.5625 \r\nQ 17.828125 47.5625 9.8125 41.015625 \r\nz\r\nM 25.828125 25.390625 \r\nQ 19.1875 24.515625 16.671875 22.0625 \r\nQ 14.15625 19.625 14.15625 15.234375 \r\nQ 14.15625 11.375 16.890625 8.9375 \r\nQ 19.625 6.5 24.125 6.5 \r\nQ 30.375 6.5 34.421875 10.890625 \r\nQ 38.484375 15.28125 38.484375 21.921875 \r\nL 38.484375 27.09375 \r\nz\r\n\" id=\"MicrosoftYaHei-97\"/>\r\n       <path d=\"M 54.203125 0 \r\nL 44.671875 0 \r\nL 44.671875 30.71875 \r\nQ 44.671875 47.359375 32.515625 47.359375 \r\nQ 26.21875 47.359375 22.15625 42.671875 \r\nQ 18.109375 37.984375 18.109375 30.8125 \r\nL 18.109375 0 \r\nL 8.546875 0 \r\nL 8.546875 54 \r\nL 18.109375 54 \r\nL 18.109375 45.0625 \r\nL 18.3125 45.0625 \r\nQ 24.421875 55.28125 36.03125 55.28125 \r\nQ 44.921875 55.28125 49.5625 49.578125 \r\nQ 54.203125 43.890625 54.203125 33.015625 \r\nz\r\n\" id=\"MicrosoftYaHei-110\"/>\r\n       <path id=\"MicrosoftYaHei-32\"/>\r\n       <path d=\"M 69.1875 0 \r\nL 58.40625 0 \r\nL 50.6875 20.703125 \r\nL 19.1875 20.703125 \r\nL 11.921875 0 \r\nL 1.125 0 \r\nL 29.9375 75.640625 \r\nL 40.375 75.640625 \r\nz\r\nM 47.65625 29.25 \r\nL 36.234375 60.6875 \r\nQ 35.6875 62.203125 35.0625 65.96875 \r\nL 34.8125 65.96875 \r\nQ 34.28125 62.546875 33.59375 60.6875 \r\nL 22.265625 29.25 \r\nz\r\n\" id=\"MicrosoftYaHei-65\"/>\r\n       <path d=\"M 45.84375 2.4375 \r\nQ 39.65625 -1.265625 30.90625 -1.265625 \r\nQ 19.1875 -1.265625 12.0625 6.25 \r\nQ 4.9375 13.765625 4.9375 25.734375 \r\nQ 4.9375 39.015625 12.625 47.140625 \r\nQ 20.3125 55.28125 33.203125 55.28125 \r\nQ 40.625 55.28125 45.90625 52.640625 \r\nL 45.90625 43.171875 \r\nQ 40.1875 47.359375 33.203125 47.359375 \r\nQ 25 47.359375 19.84375 41.671875 \r\nQ 14.703125 35.984375 14.703125 26.515625 \r\nQ 14.703125 17.1875 19.5625 11.90625 \r\nQ 24.421875 6.640625 32.671875 6.640625 \r\nQ 39.65625 6.640625 45.84375 11.234375 \r\nz\r\n\" id=\"MicrosoftYaHei-99\"/>\r\n       <path d=\"M 53.125 0 \r\nL 43.5 0 \r\nL 43.5 8.5 \r\nL 43.3125 8.5 \r\nQ 37.890625 -1.265625 26.65625 -1.265625 \r\nQ 7.46875 -1.265625 7.46875 21.6875 \r\nL 7.46875 54 \r\nL 16.9375 54 \r\nL 16.9375 23.09375 \r\nQ 16.9375 6.640625 29.546875 6.640625 \r\nQ 35.796875 6.640625 39.640625 11.25 \r\nQ 43.5 15.875 43.5 22.90625 \r\nL 43.5 54 \r\nL 53.125 54 \r\nz\r\n\" id=\"MicrosoftYaHei-117\"/>\r\n       <path d=\"M 37.5 44.53125 \r\nQ 35.109375 46.234375 30.90625 46.234375 \r\nQ 25.34375 46.234375 21.71875 41.03125 \r\nQ 18.109375 35.84375 18.109375 27.34375 \r\nL 18.109375 0 \r\nL 8.546875 0 \r\nL 8.546875 54 \r\nL 18.109375 54 \r\nL 18.109375 43.015625 \r\nL 18.3125 43.015625 \r\nQ 22.40625 54.9375 32.46875 54.9375 \r\nQ 35.75 54.9375 37.5 54.203125 \r\nz\r\n\" id=\"MicrosoftYaHei-114\"/>\r\n       <path d=\"M 52.484375 54 \r\nL 27.984375 -8.15625 \r\nQ 21.140625 -25.4375 8.6875 -25.4375 \r\nQ 5.125 -25.4375 2.59375 -24.65625 \r\nL 2.59375 -16.265625 \r\nQ 5.375 -17.328125 7.953125 -17.328125 \r\nQ 14.453125 -17.328125 17.671875 -9.71875 \r\nL 21.828125 0.09375 \r\nL 0.640625 54 \r\nL 11.234375 54 \r\nL 25.34375 13.421875 \r\nL 26.515625 8.984375 \r\nL 26.765625 8.984375 \r\nQ 27.046875 10.5 27.9375 13.328125 \r\nL 42.671875 54 \r\nz\r\n\" id=\"MicrosoftYaHei-121\"/>\r\n      </defs>\r\n      <use xlink:href=\"#MicrosoftYaHei-77\"/>\r\n      <use x=\"97.705078\" xlink:href=\"#MicrosoftYaHei-101\"/>\r\n      <use x=\"154.443359\" xlink:href=\"#MicrosoftYaHei-97\"/>\r\n      <use x=\"209.716797\" xlink:href=\"#MicrosoftYaHei-110\"/>\r\n      <use x=\"271.337891\" xlink:href=\"#MicrosoftYaHei-32\"/>\r\n      <use x=\"300.927734\" xlink:href=\"#MicrosoftYaHei-65\"/>\r\n      <use x=\"371.289062\" xlink:href=\"#MicrosoftYaHei-99\"/>\r\n      <use x=\"421.435547\" xlink:href=\"#MicrosoftYaHei-99\"/>\r\n      <use x=\"471.582031\" xlink:href=\"#MicrosoftYaHei-117\"/>\r\n      <use x=\"533.203125\" xlink:href=\"#MicrosoftYaHei-114\"/>\r\n      <use x=\"571.386719\" xlink:href=\"#MicrosoftYaHei-97\"/>\r\n      <use x=\"626.660156\" xlink:href=\"#MicrosoftYaHei-99\"/>\r\n      <use x=\"676.806641\" xlink:href=\"#MicrosoftYaHei-121\"/>\r\n     </g>\r\n    </g>\r\n   </g>\r\n   <g id=\"matplotlib.axis_2\">\r\n    <g id=\"ytick_1\">\r\n     <g id=\"line2d_6\">\r\n      <defs>\r\n       <path d=\"M 0 0 \r\nL -3.5 0 \r\n\" id=\"m7bfd71d3dc\" style=\"stroke:#000000;stroke-width:0.8;\"/>\r\n      </defs>\r\n      <g>\r\n       <use style=\"stroke:#000000;stroke-width:0.8;\" x=\"98.389062\" xlink:href=\"#m7bfd71d3dc\" y=\"36.3825\"/>\r\n      </g>\r\n     </g>\r\n     <g id=\"text_7\">\r\n      <!-- LR -->\r\n      <g transform=\"translate(79.729687 40.379375)scale(0.1 -0.1)\">\r\n       <defs>\r\n        <path d=\"M 49.65625 0 \r\nL 9.765625 0 \r\nL 9.765625 75.640625 \r\nL 19.53125 75.640625 \r\nL 19.53125 8.640625 \r\nL 49.65625 8.640625 \r\nz\r\n\" id=\"MicrosoftYaHei-76\"/>\r\n        <path d=\"M 64.984375 0 \r\nL 53.46875 0 \r\nL 40.921875 21 \r\nQ 37.15625 27.296875 34.03125 29.5625 \r\nQ 30.90625 31.84375 26.5625 31.84375 \r\nL 19.53125 31.84375 \r\nL 19.53125 0 \r\nL 9.765625 0 \r\nL 9.765625 75.640625 \r\nL 32.8125 75.640625 \r\nQ 43.84375 75.640625 50.09375 70.3125 \r\nQ 56.34375 64.984375 56.34375 55.421875 \r\nQ 56.34375 39.703125 39.546875 35.015625 \r\nL 39.546875 34.765625 \r\nQ 42.671875 33.453125 44.9375 31 \r\nQ 47.21875 28.5625 50.828125 22.65625 \r\nz\r\nM 19.53125 67.09375 \r\nL 19.53125 40.375 \r\nL 31.0625 40.375 \r\nQ 37.75 40.375 41.921875 44.28125 \r\nQ 46.09375 48.1875 46.09375 54.546875 \r\nQ 46.09375 60.453125 42.28125 63.765625 \r\nQ 38.484375 67.09375 31.203125 67.09375 \r\nz\r\n\" id=\"MicrosoftYaHei-82\"/>\r\n       </defs>\r\n       <use xlink:href=\"#MicrosoftYaHei-76\"/>\r\n       <use x=\"51.318359\" xlink:href=\"#MicrosoftYaHei-82\"/>\r\n      </g>\r\n     </g>\r\n    </g>\r\n    <g id=\"ytick_2\">\r\n     <g id=\"line2d_7\">\r\n      <g>\r\n       <use style=\"stroke:#000000;stroke-width:0.8;\" x=\"98.389062\" xlink:href=\"#m7bfd71d3dc\" y=\"63.5625\"/>\r\n      </g>\r\n     </g>\r\n     <g id=\"text_8\">\r\n      <!-- SVC -->\r\n      <g transform=\"translate(72.390625 67.559375)scale(0.1 -0.1)\">\r\n       <defs>\r\n        <path d=\"M 6.25 14.203125 \r\nQ 9.71875 11.1875 15.53125 9.234375 \r\nQ 21.34375 7.28125 26.5625 7.28125 \r\nQ 42.484375 7.28125 42.484375 18.609375 \r\nQ 42.484375 21.78125 40.765625 24.3125 \r\nQ 39.0625 26.859375 36.078125 28.8125 \r\nQ 33.109375 30.765625 24.90625 34.8125 \r\nQ 13.53125 40.484375 9.90625 45.34375 \r\nQ 6.296875 50.203125 6.296875 56.453125 \r\nQ 6.296875 65.875 13.859375 71.390625 \r\nQ 21.4375 76.90625 32.953125 76.90625 \r\nQ 44.234375 76.90625 49.515625 74.171875 \r\nL 49.515625 63.53125 \r\nQ 42.671875 68.265625 32.234375 68.265625 \r\nQ 25.296875 68.265625 20.921875 65.359375 \r\nQ 16.546875 62.453125 16.546875 57.28125 \r\nQ 16.546875 52.6875 19.578125 49.796875 \r\nQ 22.609375 46.921875 32.71875 41.9375 \r\nQ 43.84375 36.625 48.28125 31.296875 \r\nQ 52.734375 25.984375 52.734375 19.34375 \r\nQ 52.734375 9.375 45.5 4.046875 \r\nQ 38.28125 -1.265625 25.4375 -1.265625 \r\nQ 20.953125 -1.265625 14.96875 -0.015625 \r\nQ 8.984375 1.21875 6.25 3.078125 \r\nz\r\n\" id=\"MicrosoftYaHei-83\"/>\r\n        <path d=\"M 66.75 75.640625 \r\nL 38.96875 0 \r\nL 28.125 0 \r\nL 0.875 75.640625 \r\nL 11.71875 75.640625 \r\nL 32.078125 16.5 \r\nQ 33.109375 13.578125 33.59375 9.71875 \r\nL 33.84375 9.71875 \r\nQ 34.234375 13.09375 35.546875 16.609375 \r\nL 56.296875 75.640625 \r\nz\r\n\" id=\"MicrosoftYaHei-86\"/>\r\n        <path d=\"M 61.53125 3.125 \r\nQ 53.171875 -1.265625 40.578125 -1.265625 \r\nQ 24.3125 -1.265625 14.59375 9.0625 \r\nQ 4.890625 19.390625 4.890625 36.375 \r\nQ 4.890625 54.640625 15.828125 65.765625 \r\nQ 26.765625 76.90625 43.609375 76.90625 \r\nQ 54.4375 76.90625 61.53125 73.828125 \r\nL 61.53125 63.625 \r\nQ 53.421875 68.109375 43.703125 68.109375 \r\nQ 31.0625 68.109375 23.09375 59.6875 \r\nQ 15.140625 51.265625 15.140625 36.96875 \r\nQ 15.140625 23.390625 22.5625 15.40625 \r\nQ 29.984375 7.421875 42 7.421875 \r\nQ 53.21875 7.421875 61.53125 12.5 \r\nz\r\n\" id=\"MicrosoftYaHei-67\"/>\r\n       </defs>\r\n       <use xlink:href=\"#MicrosoftYaHei-83\"/>\r\n       <use x=\"57.714844\" xlink:href=\"#MicrosoftYaHei-86\"/>\r\n       <use x=\"123.091797\" xlink:href=\"#MicrosoftYaHei-67\"/>\r\n      </g>\r\n     </g>\r\n    </g>\r\n    <g id=\"ytick_3\">\r\n     <g id=\"line2d_8\">\r\n      <g>\r\n       <use style=\"stroke:#000000;stroke-width:0.8;\" x=\"98.389062\" xlink:href=\"#m7bfd71d3dc\" y=\"90.7425\"/>\r\n      </g>\r\n     </g>\r\n     <g id=\"text_9\">\r\n      <!-- KNN -->\r\n      <g transform=\"translate(68.78125 94.739375)scale(0.1 -0.1)\">\r\n       <defs>\r\n        <path d=\"M 63.578125 0 \r\nL 50.203125 0 \r\nL 21.78125 34.375 \r\nQ 20.3125 36.1875 19.78125 37.203125 \r\nL 19.53125 37.203125 \r\nL 19.53125 0 \r\nL 9.765625 0 \r\nL 9.765625 75.640625 \r\nL 19.53125 75.640625 \r\nL 19.53125 40.046875 \r\nL 19.78125 40.046875 \r\nQ 20.609375 41.359375 21.78125 42.828125 \r\nL 49.21875 75.640625 \r\nL 61.28125 75.640625 \r\nL 29.546875 39.359375 \r\nz\r\n\" id=\"MicrosoftYaHei-75\"/>\r\n        <path d=\"M 71.53125 0 \r\nL 59.96875 0 \r\nL 21.921875 58.84375 \r\nQ 20.3125 61.328125 19.34375 63.765625 \r\nL 19.046875 63.765625 \r\nQ 19.4375 61.234375 19.4375 53.171875 \r\nL 19.4375 0 \r\nL 9.765625 0 \r\nL 9.765625 75.640625 \r\nL 22.015625 75.640625 \r\nL 59.03125 17.828125 \r\nQ 61.671875 13.71875 62.15625 12.59375 \r\nL 62.359375 12.59375 \r\nQ 61.859375 15.828125 61.859375 23.640625 \r\nL 61.859375 75.640625 \r\nL 71.53125 75.640625 \r\nz\r\n\" id=\"MicrosoftYaHei-78\"/>\r\n       </defs>\r\n       <use xlink:href=\"#MicrosoftYaHei-75\"/>\r\n       <use x=\"63.476562\" xlink:href=\"#MicrosoftYaHei-78\"/>\r\n       <use x=\"144.775391\" xlink:href=\"#MicrosoftYaHei-78\"/>\r\n      </g>\r\n     </g>\r\n    </g>\r\n    <g id=\"ytick_4\">\r\n     <g id=\"line2d_9\">\r\n      <g>\r\n       <use style=\"stroke:#000000;stroke-width:0.8;\" x=\"98.389062\" xlink:href=\"#m7bfd71d3dc\" y=\"117.9225\"/>\r\n      </g>\r\n     </g>\r\n     <g id=\"text_10\">\r\n      <!-- decision_tree -->\r\n      <g transform=\"translate(28.596875 121.919375)scale(0.1 -0.1)\">\r\n       <defs>\r\n        <path d=\"M 55.421875 0 \r\nL 45.84375 0 \r\nL 45.84375 8.984375 \r\nL 45.65625 8.984375 \r\nQ 39.75 -1.265625 27.296875 -1.265625 \r\nQ 17.046875 -1.265625 10.984375 6.03125 \r\nQ 4.9375 13.328125 4.9375 25.734375 \r\nQ 4.9375 39.109375 11.765625 47.1875 \r\nQ 18.609375 55.28125 29.640625 55.28125 \r\nQ 40.671875 55.28125 45.65625 46.6875 \r\nL 45.84375 46.6875 \r\nL 45.84375 79.9375 \r\nL 55.421875 79.9375 \r\nz\r\nM 45.90625 32.125 \r\nQ 45.90625 38.625 41.625 42.984375 \r\nQ 37.359375 47.359375 31.109375 47.359375 \r\nQ 23.484375 47.359375 19.09375 41.671875 \r\nQ 14.703125 35.984375 14.703125 26.171875 \r\nQ 14.703125 17.140625 18.921875 11.890625 \r\nQ 23.140625 6.640625 30.171875 6.640625 \r\nQ 37.109375 6.640625 41.5 11.78125 \r\nQ 45.90625 16.9375 45.90625 24.609375 \r\nz\r\n\" id=\"MicrosoftYaHei-100\"/>\r\n        <path d=\"M 7.375 73.046875 \r\nQ 7.375 75.59375 9.109375 77.3125 \r\nQ 10.84375 79.046875 13.375 79.046875 \r\nQ 15.96875 79.046875 17.75 77.34375 \r\nQ 19.53125 75.640625 19.53125 73.046875 \r\nQ 19.53125 70.515625 17.75 68.828125 \r\nQ 15.96875 67.140625 13.375 67.140625 \r\nQ 10.796875 67.140625 9.078125 68.828125 \r\nQ 7.375 70.515625 7.375 73.046875 \r\nz\r\nM 8.5 0 \r\nL 8.5 54 \r\nL 18.0625 54 \r\nL 18.0625 0 \r\nz\r\n\" id=\"MicrosoftYaHei-105\"/>\r\n        <path d=\"M 5.515625 11.671875 \r\nQ 12.75 6.453125 21.09375 6.453125 \r\nQ 32.28125 6.453125 32.28125 13.765625 \r\nQ 32.28125 16.890625 29.828125 18.921875 \r\nQ 27.390625 20.953125 19.921875 23.734375 \r\nQ 10.9375 27.34375 8.25 30.875 \r\nQ 5.5625 34.421875 5.5625 39.453125 \r\nQ 5.5625 46.625 11.640625 50.953125 \r\nQ 17.71875 55.28125 26.609375 55.28125 \r\nQ 33.5 55.28125 39.40625 52.875 \r\nL 39.40625 43.65625 \r\nQ 33.34375 47.5625 25.6875 47.5625 \r\nQ 21.09375 47.5625 18.203125 45.5625 \r\nQ 15.328125 43.5625 15.328125 40.28125 \r\nQ 15.328125 37.0625 17.40625 35.25 \r\nQ 19.484375 33.453125 26.609375 30.609375 \r\nQ 35.640625 27.25 38.8125 23.625 \r\nQ 42 20.015625 42 14.703125 \r\nQ 42 7.28125 35.90625 3 \r\nQ 29.828125 -1.265625 20.171875 -1.265625 \r\nQ 11.765625 -1.265625 5.515625 1.90625 \r\nz\r\n\" id=\"MicrosoftYaHei-115\"/>\r\n        <path d=\"M 4.9375 26.421875 \r\nQ 4.9375 39.796875 12.40625 47.53125 \r\nQ 19.875 55.28125 32.671875 55.28125 \r\nQ 44.828125 55.28125 51.734375 47.828125 \r\nQ 58.640625 40.375 58.640625 27.25 \r\nQ 58.640625 14.453125 51.265625 6.59375 \r\nQ 43.890625 -1.265625 31.5 -1.265625 \r\nQ 19.390625 -1.265625 12.15625 6.34375 \r\nQ 4.9375 13.96875 4.9375 26.421875 \r\nz\r\nM 14.703125 26.703125 \r\nQ 14.703125 17.390625 19.40625 12.015625 \r\nQ 24.125 6.640625 32.078125 6.640625 \r\nQ 40.28125 6.640625 44.578125 11.890625 \r\nQ 48.875 17.140625 48.875 26.953125 \r\nQ 48.875 36.8125 44.578125 42.078125 \r\nQ 40.28125 47.359375 32.078125 47.359375 \r\nQ 24.03125 47.359375 19.359375 41.84375 \r\nQ 14.703125 36.328125 14.703125 26.703125 \r\nz\r\n\" id=\"MicrosoftYaHei-111\"/>\r\n        <path d=\"M 44.828125 -25.53125 \r\nL 0 -25.53125 \r\nL 0 -19.234375 \r\nL 44.828125 -19.234375 \r\nz\r\n\" id=\"MicrosoftYaHei-95\"/>\r\n        <path d=\"M 34.46875 0.53125 \r\nQ 31.34375 -1.171875 26.03125 -1.171875 \r\nQ 11.53125 -1.171875 11.53125 14.890625 \r\nL 11.53125 46.09375 \r\nL 2.25 46.09375 \r\nL 2.25 54 \r\nL 11.53125 54 \r\nL 11.53125 67 \r\nL 21.046875 70.015625 \r\nL 21.046875 54 \r\nL 34.46875 54 \r\nL 34.46875 46.09375 \r\nL 21.046875 46.09375 \r\nL 21.046875 16.609375 \r\nQ 21.046875 11.28125 22.84375 8.984375 \r\nQ 24.65625 6.6875 28.859375 6.6875 \r\nQ 32.078125 6.6875 34.46875 8.5 \r\nz\r\n\" id=\"MicrosoftYaHei-116\"/>\r\n       </defs>\r\n       <use xlink:href=\"#MicrosoftYaHei-100\"/>\r\n       <use x=\"63.964844\" xlink:href=\"#MicrosoftYaHei-101\"/>\r\n       <use x=\"120.703125\" xlink:href=\"#MicrosoftYaHei-99\"/>\r\n       <use x=\"170.849609\" xlink:href=\"#MicrosoftYaHei-105\"/>\r\n       <use x=\"197.460938\" xlink:href=\"#MicrosoftYaHei-115\"/>\r\n       <use x=\"243.75\" xlink:href=\"#MicrosoftYaHei-105\"/>\r\n       <use x=\"270.361328\" xlink:href=\"#MicrosoftYaHei-111\"/>\r\n       <use x=\"333.935547\" xlink:href=\"#MicrosoftYaHei-110\"/>\r\n       <use x=\"395.556641\" xlink:href=\"#MicrosoftYaHei-95\"/>\r\n       <use x=\"440.380859\" xlink:href=\"#MicrosoftYaHei-116\"/>\r\n       <use x=\"477.636719\" xlink:href=\"#MicrosoftYaHei-114\"/>\r\n       <use x=\"514.445312\" xlink:href=\"#MicrosoftYaHei-101\"/>\r\n       <use x=\"571.183594\" xlink:href=\"#MicrosoftYaHei-101\"/>\r\n      </g>\r\n     </g>\r\n    </g>\r\n    <g id=\"ytick_5\">\r\n     <g id=\"line2d_10\">\r\n      <g>\r\n       <use style=\"stroke:#000000;stroke-width:0.8;\" x=\"98.389062\" xlink:href=\"#m7bfd71d3dc\" y=\"145.1025\"/>\r\n      </g>\r\n     </g>\r\n     <g id=\"text_11\">\r\n      <!-- random_forest -->\r\n      <g transform=\"translate(21.7375 149.157969)scale(0.1 -0.1)\">\r\n       <defs>\r\n        <path d=\"M 86.28125 0 \r\nL 76.703125 0 \r\nL 76.703125 31 \r\nQ 76.703125 39.796875 73.96875 43.578125 \r\nQ 71.234375 47.359375 64.984375 47.359375 \r\nQ 59.71875 47.359375 55.953125 42.421875 \r\nQ 52.203125 37.5 52.203125 30.765625 \r\nL 52.203125 0 \r\nL 42.625 0 \r\nL 42.625 31.984375 \r\nQ 42.625 47.359375 30.765625 47.359375 \r\nQ 25.296875 47.359375 21.703125 42.671875 \r\nQ 18.109375 37.984375 18.109375 30.71875 \r\nL 18.109375 0 \r\nL 8.546875 0 \r\nL 8.546875 54 \r\nL 18.109375 54 \r\nL 18.109375 45.453125 \r\nL 18.3125 45.453125 \r\nQ 24.078125 55.28125 35.15625 55.28125 \r\nQ 40.578125 55.28125 44.71875 52.296875 \r\nQ 48.875 49.3125 50.484375 44.234375 \r\nQ 56.5 55.28125 68.453125 55.28125 \r\nQ 86.28125 55.28125 86.28125 33.296875 \r\nz\r\n\" id=\"MicrosoftYaHei-109\"/>\r\n        <path d=\"M 36.234375 71.78125 \r\nQ 33.546875 73.1875 30.421875 73.1875 \r\nQ 21.4375 73.1875 21.4375 62.0625 \r\nL 21.4375 54 \r\nL 34.078125 54 \r\nL 34.078125 46.09375 \r\nL 21.4375 46.09375 \r\nL 21.4375 0 \r\nL 11.96875 0 \r\nL 11.96875 46.09375 \r\nL 2.734375 46.09375 \r\nL 2.734375 54 \r\nL 11.96875 54 \r\nL 11.96875 62.5 \r\nQ 11.96875 71.1875 16.96875 76.140625 \r\nQ 21.96875 81.109375 29.6875 81.109375 \r\nQ 33.796875 81.109375 36.234375 80.171875 \r\nz\r\n\" id=\"MicrosoftYaHei-102\"/>\r\n       </defs>\r\n       <use xlink:href=\"#MicrosoftYaHei-114\"/>\r\n       <use x=\"38.183594\" xlink:href=\"#MicrosoftYaHei-97\"/>\r\n       <use x=\"93.457031\" xlink:href=\"#MicrosoftYaHei-110\"/>\r\n       <use x=\"155.078125\" xlink:href=\"#MicrosoftYaHei-100\"/>\r\n       <use x=\"219.042969\" xlink:href=\"#MicrosoftYaHei-111\"/>\r\n       <use x=\"282.617188\" xlink:href=\"#MicrosoftYaHei-109\"/>\r\n       <use x=\"376.318359\" xlink:href=\"#MicrosoftYaHei-95\"/>\r\n       <use x=\"421.142578\" xlink:href=\"#MicrosoftYaHei-102\"/>\r\n       <use x=\"455.810547\" xlink:href=\"#MicrosoftYaHei-111\"/>\r\n       <use x=\"519.384766\" xlink:href=\"#MicrosoftYaHei-114\"/>\r\n       <use x=\"556.193359\" xlink:href=\"#MicrosoftYaHei-101\"/>\r\n       <use x=\"612.931641\" xlink:href=\"#MicrosoftYaHei-115\"/>\r\n       <use x=\"659.220703\" xlink:href=\"#MicrosoftYaHei-116\"/>\r\n      </g>\r\n     </g>\r\n    </g>\r\n    <g id=\"ytick_6\">\r\n     <g id=\"line2d_11\">\r\n      <g>\r\n       <use style=\"stroke:#000000;stroke-width:0.8;\" x=\"98.389062\" xlink:href=\"#m7bfd71d3dc\" y=\"172.2825\"/>\r\n      </g>\r\n     </g>\r\n     <g id=\"text_12\">\r\n      <!-- GBDT -->\r\n      <g transform=\"translate(64.815625 176.279375)scale(0.1 -0.1)\">\r\n       <defs>\r\n        <path d=\"M 66.9375 5.171875 \r\nQ 55.609375 -1.265625 41.359375 -1.265625 \r\nQ 24.953125 -1.265625 14.921875 9.109375 \r\nQ 4.890625 19.484375 4.890625 36.8125 \r\nQ 4.890625 54.34375 15.96875 65.625 \r\nQ 27.046875 76.90625 44.390625 76.90625 \r\nQ 56.640625 76.90625 65.140625 73 \r\nL 65.140625 62.453125 \r\nQ 56.0625 68.171875 43.5 68.171875 \r\nQ 31.15625 68.171875 23.140625 59.71875 \r\nQ 15.140625 51.265625 15.140625 37.453125 \r\nQ 15.140625 23.25 22.515625 15.328125 \r\nQ 29.890625 7.421875 42.4375 7.421875 \r\nQ 51.078125 7.421875 57.125 10.75 \r\nL 57.125 31.203125 \r\nL 40.71875 31.203125 \r\nL 40.71875 39.84375 \r\nL 66.9375 39.84375 \r\nz\r\n\" id=\"MicrosoftYaHei-71\"/>\r\n        <path d=\"M 9.765625 0 \r\nL 9.765625 75.640625 \r\nL 31.984375 75.640625 \r\nQ 41.9375 75.640625 47.890625 70.875 \r\nQ 53.859375 66.109375 53.859375 58.25 \r\nQ 53.859375 52 50.3125 47.21875 \r\nQ 46.78125 42.4375 40.578125 40.4375 \r\nL 40.578125 40.234375 \r\nQ 48.296875 39.359375 52.90625 34.390625 \r\nQ 57.515625 29.4375 57.515625 21.828125 \r\nQ 57.515625 12.0625 50.5 6.03125 \r\nQ 43.5 0 32.5625 0 \r\nz\r\nM 19.53125 67.09375 \r\nL 19.53125 43.40625 \r\nL 28.421875 43.40625 \r\nQ 35.5 43.40625 39.53125 46.84375 \r\nQ 43.5625 50.296875 43.5625 56.390625 \r\nQ 43.5625 67.09375 29.296875 67.09375 \r\nz\r\nM 19.53125 34.90625 \r\nL 19.53125 8.546875 \r\nL 31.25 8.546875 \r\nQ 38.921875 8.546875 43.09375 12.078125 \r\nQ 47.265625 15.625 47.265625 21.921875 \r\nQ 47.265625 34.90625 29.640625 34.90625 \r\nz\r\n\" id=\"MicrosoftYaHei-66\"/>\r\n        <path d=\"M 9.765625 0 \r\nL 9.765625 75.640625 \r\nL 31.34375 75.640625 \r\nQ 48.53125 75.640625 59.9375 65.625 \r\nQ 71.34375 55.609375 71.34375 38.765625 \r\nQ 71.34375 21.1875 59.9375 10.59375 \r\nQ 48.53125 0 30.5625 0 \r\nz\r\nM 19.53125 66.9375 \r\nL 19.53125 8.640625 \r\nL 30.515625 8.640625 \r\nQ 44.921875 8.640625 53 16.5 \r\nQ 61.078125 24.359375 61.078125 38.53125 \r\nQ 61.078125 52.6875 52.78125 59.8125 \r\nQ 44.484375 66.9375 30.953125 66.9375 \r\nz\r\n\" id=\"MicrosoftYaHei-68\"/>\r\n        <path d=\"M 55.46875 66.9375 \r\nL 33.640625 66.9375 \r\nL 33.640625 0 \r\nL 23.828125 0 \r\nL 23.828125 66.9375 \r\nL 2.09375 66.9375 \r\nL 2.09375 75.640625 \r\nL 55.46875 75.640625 \r\nz\r\n\" id=\"MicrosoftYaHei-84\"/>\r\n       </defs>\r\n       <use xlink:href=\"#MicrosoftYaHei-71\"/>\r\n       <use x=\"74.365234\" xlink:href=\"#MicrosoftYaHei-66\"/>\r\n       <use x=\"137.109375\" xlink:href=\"#MicrosoftYaHei-68\"/>\r\n       <use x=\"208.40625\" xlink:href=\"#MicrosoftYaHei-84\"/>\r\n      </g>\r\n     </g>\r\n    </g>\r\n    <g id=\"ytick_7\">\r\n     <g id=\"line2d_12\">\r\n      <g>\r\n       <use style=\"stroke:#000000;stroke-width:0.8;\" x=\"98.389062\" xlink:href=\"#m7bfd71d3dc\" y=\"199.4625\"/>\r\n      </g>\r\n     </g>\r\n     <g id=\"text_13\">\r\n      <!-- xgbGBDT -->\r\n      <g transform=\"translate(47.05 203.459375)scale(0.1 -0.1)\">\r\n       <defs>\r\n        <path d=\"M 49.421875 54 \r\nL 31.34375 26.8125 \r\nL 49.171875 0 \r\nL 38.03125 0 \r\nL 27.734375 17.1875 \r\nQ 26.90625 18.5625 25.390625 21.390625 \r\nL 25.203125 21.390625 \r\nQ 25.140625 21.09375 22.75 17.1875 \r\nL 12.25 0 \r\nL 1.265625 0 \r\nL 19.625 26.515625 \r\nL 2.09375 54 \r\nL 13.234375 54 \r\nL 23.34375 35.9375 \r\nQ 24.265625 34.28125 25.59375 31.640625 \r\nL 25.78125 31.640625 \r\nL 38.921875 54 \r\nz\r\n\" id=\"MicrosoftYaHei-120\"/>\r\n        <path d=\"M 55.421875 4.546875 \r\nQ 55.421875 -25.4375 26.3125 -25.4375 \r\nQ 16.265625 -25.4375 8.84375 -21.6875 \r\nL 8.84375 -12.453125 \r\nQ 17.875 -17.484375 26.171875 -17.484375 \r\nQ 45.84375 -17.484375 45.84375 3.21875 \r\nL 45.84375 8.9375 \r\nL 45.65625 8.9375 \r\nQ 39.5 -1.265625 27.296875 -1.265625 \r\nQ 17.140625 -1.265625 11.03125 6 \r\nQ 4.9375 13.28125 4.9375 25.296875 \r\nQ 4.9375 39.109375 11.671875 47.1875 \r\nQ 18.40625 55.28125 29.640625 55.28125 \r\nQ 40.4375 55.28125 45.65625 46.6875 \r\nL 45.84375 46.6875 \r\nL 45.84375 54 \r\nL 55.421875 54 \r\nz\r\nM 45.84375 32.125 \r\nQ 45.90625 38.375 41.65625 42.859375 \r\nQ 37.40625 47.359375 31.203125 47.359375 \r\nQ 23.390625 47.359375 19.046875 41.625 \r\nQ 14.703125 35.890625 14.703125 25.875 \r\nQ 14.703125 17.28125 18.890625 11.953125 \r\nQ 23.09375 6.640625 30.03125 6.640625 \r\nQ 37.015625 6.640625 41.453125 11.71875 \r\nQ 45.90625 16.796875 45.84375 24.609375 \r\nz\r\n\" id=\"MicrosoftYaHei-103\"/>\r\n        <path d=\"M 18.109375 7.625 \r\nL 18.109375 0 \r\nL 8.546875 0 \r\nL 8.546875 79.9375 \r\nL 18.109375 79.9375 \r\nL 18.109375 44.671875 \r\nL 18.3125 44.671875 \r\nQ 24.65625 55.28125 36.859375 55.28125 \r\nQ 47.015625 55.28125 53 48.125 \r\nQ 58.984375 40.96875 58.984375 28.5625 \r\nQ 58.984375 14.890625 52.265625 6.8125 \r\nQ 45.5625 -1.265625 34.375 -1.265625 \r\nQ 23.828125 -1.265625 18.3125 7.625 \r\nz\r\nM 18.0625 22.21875 \r\nQ 18.0625 15.671875 22.3125 11.15625 \r\nQ 26.5625 6.640625 32.953125 6.640625 \r\nQ 40.578125 6.640625 44.875 12.5 \r\nQ 49.171875 18.359375 49.171875 28.71875 \r\nQ 49.171875 37.25 45.15625 42.296875 \r\nQ 41.15625 47.359375 34.234375 47.359375 \r\nQ 27.203125 47.359375 22.625 42.328125 \r\nQ 18.0625 37.3125 18.0625 29.546875 \r\nz\r\n\" id=\"MicrosoftYaHei-98\"/>\r\n       </defs>\r\n       <use xlink:href=\"#MicrosoftYaHei-120\"/>\r\n       <use x=\"49.808594\" xlink:href=\"#MicrosoftYaHei-103\"/>\r\n       <use x=\"113.773438\" xlink:href=\"#MicrosoftYaHei-98\"/>\r\n       <use x=\"177.640625\" xlink:href=\"#MicrosoftYaHei-71\"/>\r\n       <use x=\"252.005859\" xlink:href=\"#MicrosoftYaHei-66\"/>\r\n       <use x=\"314.75\" xlink:href=\"#MicrosoftYaHei-68\"/>\r\n       <use x=\"386.046875\" xlink:href=\"#MicrosoftYaHei-84\"/>\r\n      </g>\r\n     </g>\r\n    </g>\r\n    <g id=\"ytick_8\">\r\n     <g id=\"line2d_13\">\r\n      <g>\r\n       <use style=\"stroke:#000000;stroke-width:0.8;\" x=\"98.389062\" xlink:href=\"#m7bfd71d3dc\" y=\"226.6425\"/>\r\n      </g>\r\n     </g>\r\n     <g id=\"text_14\">\r\n      <!-- LGB -->\r\n      <g transform=\"translate(72.896875 230.639375)scale(0.1 -0.1)\">\r\n       <use xlink:href=\"#MicrosoftYaHei-76\"/>\r\n       <use x=\"47.818359\" xlink:href=\"#MicrosoftYaHei-71\"/>\r\n       <use x=\"122.183594\" xlink:href=\"#MicrosoftYaHei-66\"/>\r\n      </g>\r\n     </g>\r\n    </g>\r\n    <g id=\"text_15\">\r\n     <!-- Algorithm -->\r\n     <g transform=\"translate(15.19375 155.604687)rotate(-90)scale(0.1 -0.1)\">\r\n      <defs>\r\n       <path d=\"M 8.5 0 \r\nL 8.5 79.9375 \r\nL 18.0625 79.9375 \r\nL 18.0625 0 \r\nz\r\n\" id=\"MicrosoftYaHei-108\"/>\r\n       <path d=\"M 54.15625 0 \r\nL 44.625 0 \r\nL 44.625 31.0625 \r\nQ 44.625 47.359375 32.515625 47.359375 \r\nQ 26.3125 47.359375 22.203125 42.59375 \r\nQ 18.109375 37.84375 18.109375 30.609375 \r\nL 18.109375 0 \r\nL 8.546875 0 \r\nL 8.546875 79.9375 \r\nL 18.109375 79.9375 \r\nL 18.109375 45.125 \r\nL 18.3125 45.125 \r\nQ 24.515625 55.28125 35.9375 55.28125 \r\nQ 54.15625 55.28125 54.15625 33.25 \r\nz\r\n\" id=\"MicrosoftYaHei-104\"/>\r\n      </defs>\r\n      <use xlink:href=\"#MicrosoftYaHei-65\"/>\r\n      <use x=\"70.361328\" xlink:href=\"#MicrosoftYaHei-108\"/>\r\n      <use x=\"96.972656\" xlink:href=\"#MicrosoftYaHei-103\"/>\r\n      <use x=\"160.9375\" xlink:href=\"#MicrosoftYaHei-111\"/>\r\n      <use x=\"224.511719\" xlink:href=\"#MicrosoftYaHei-114\"/>\r\n      <use x=\"262.695312\" xlink:href=\"#MicrosoftYaHei-105\"/>\r\n      <use x=\"289.306641\" xlink:href=\"#MicrosoftYaHei-116\"/>\r\n      <use x=\"326.5625\" xlink:href=\"#MicrosoftYaHei-104\"/>\r\n      <use x=\"388.134766\" xlink:href=\"#MicrosoftYaHei-109\"/>\r\n     </g>\r\n    </g>\r\n   </g>\r\n   <g id=\"LineCollection_1\">\r\n    <path clip-path=\"url(#pf06477cfdb)\" d=\"M 378.387302 36.3825 \r\nL 403.948483 36.3825 \r\n\" style=\"fill:none;stroke:#000000;stroke-width:1.5;\"/>\r\n    <path clip-path=\"url(#pf06477cfdb)\" d=\"M 312.322067 63.5625 \r\nL 338.363834 63.5625 \r\n\" style=\"fill:none;stroke:#000000;stroke-width:1.5;\"/>\r\n    <path clip-path=\"url(#pf06477cfdb)\" d=\"M 337.374148 90.7425 \r\nL 366.721284 90.7425 \r\n\" style=\"fill:none;stroke:#000000;stroke-width:1.5;\"/>\r\n    <path clip-path=\"url(#pf06477cfdb)\" d=\"M 378.594314 117.9225 \r\nL 400.648388 117.9225 \r\n\" style=\"fill:none;stroke:#000000;stroke-width:1.5;\"/>\r\n    <path clip-path=\"url(#pf06477cfdb)\" d=\"M 379.718497 145.1025 \r\nL 404.185369 145.1025 \r\n\" style=\"fill:none;stroke:#000000;stroke-width:1.5;\"/>\r\n    <path clip-path=\"url(#pf06477cfdb)\" d=\"M 386.758392 172.2825 \r\nL 417.246205 172.2825 \r\n\" style=\"fill:none;stroke:#000000;stroke-width:1.5;\"/>\r\n    <path clip-path=\"url(#pf06477cfdb)\" d=\"M 384.439952 199.4625 \r\nL 409.501356 199.4625 \r\n\" style=\"fill:none;stroke:#000000;stroke-width:1.5;\"/>\r\n    <path clip-path=\"url(#pf06477cfdb)\" d=\"M 381.653675 226.6425 \r\nL 408.410509 226.6425 \r\n\" style=\"fill:none;stroke:#000000;stroke-width:1.5;\"/>\r\n   </g>\r\n   <g id=\"line2d_14\">\r\n    <path clip-path=\"url(#pf06477cfdb)\" d=\"M 0 0 \r\n\" style=\"fill:none;stroke:#424242;stroke-linecap:square;stroke-width:2.7;\"/>\r\n   </g>\r\n   <g id=\"line2d_15\">\r\n    <path clip-path=\"url(#pf06477cfdb)\" d=\"M 0 0 \r\n\" style=\"fill:none;stroke:#424242;stroke-linecap:square;stroke-width:2.7;\"/>\r\n   </g>\r\n   <g id=\"line2d_16\">\r\n    <path clip-path=\"url(#pf06477cfdb)\" d=\"M 0 0 \r\n\" style=\"fill:none;stroke:#424242;stroke-linecap:square;stroke-width:2.7;\"/>\r\n   </g>\r\n   <g id=\"line2d_17\">\r\n    <path clip-path=\"url(#pf06477cfdb)\" d=\"M 0 0 \r\n\" style=\"fill:none;stroke:#424242;stroke-linecap:square;stroke-width:2.7;\"/>\r\n   </g>\r\n   <g id=\"line2d_18\">\r\n    <path clip-path=\"url(#pf06477cfdb)\" d=\"M 0 0 \r\n\" style=\"fill:none;stroke:#424242;stroke-linecap:square;stroke-width:2.7;\"/>\r\n   </g>\r\n   <g id=\"line2d_19\">\r\n    <path clip-path=\"url(#pf06477cfdb)\" d=\"M 0 0 \r\n\" style=\"fill:none;stroke:#424242;stroke-linecap:square;stroke-width:2.7;\"/>\r\n   </g>\r\n   <g id=\"line2d_20\">\r\n    <path clip-path=\"url(#pf06477cfdb)\" d=\"M 0 0 \r\n\" style=\"fill:none;stroke:#424242;stroke-linecap:square;stroke-width:2.7;\"/>\r\n   </g>\r\n   <g id=\"line2d_21\">\r\n    <path clip-path=\"url(#pf06477cfdb)\" d=\"M 0 0 \r\n\" style=\"fill:none;stroke:#424242;stroke-linecap:square;stroke-width:2.7;\"/>\r\n   </g>\r\n   <g id=\"patch_11\">\r\n    <path d=\"M 98.389062 240.2325 \r\nL 98.389062 22.7925 \r\n\" style=\"fill:none;stroke:#000000;stroke-linecap:square;stroke-linejoin:miter;stroke-width:0.8;\"/>\r\n   </g>\r\n   <g id=\"patch_12\">\r\n    <path d=\"M 433.189062 240.2325 \r\nL 433.189062 22.7925 \r\n\" style=\"fill:none;stroke:#000000;stroke-linecap:square;stroke-linejoin:miter;stroke-width:0.8;\"/>\r\n   </g>\r\n   <g id=\"patch_13\">\r\n    <path d=\"M 98.389062 240.2325 \r\nL 433.189062 240.2325 \r\n\" style=\"fill:none;stroke:#000000;stroke-linecap:square;stroke-linejoin:miter;stroke-width:0.8;\"/>\r\n   </g>\r\n   <g id=\"patch_14\">\r\n    <path d=\"M 98.389062 22.7925 \r\nL 433.189062 22.7925 \r\n\" style=\"fill:none;stroke:#000000;stroke-linecap:square;stroke-linejoin:miter;stroke-width:0.8;\"/>\r\n   </g>\r\n   <g id=\"text_16\">\r\n    <!-- Cross validation scores -->\r\n    <g transform=\"translate(200.615938 16.7925)scale(0.12 -0.12)\">\r\n     <defs>\r\n      <path d=\"M 52.046875 54 \r\nL 30.671875 0 \r\nL 21 0 \r\nL 0.6875 54 \r\nL 11.140625 54 \r\nL 24.3125 15.4375 \r\nQ 25.921875 10.796875 26.21875 7.671875 \r\nL 26.46875 7.671875 \r\nQ 26.953125 11.765625 28.171875 15.234375 \r\nL 42 54 \r\nz\r\n\" id=\"MicrosoftYaHei-118\"/>\r\n     </defs>\r\n     <use xlink:href=\"#MicrosoftYaHei-67\"/>\r\n     <use x=\"66.894531\" xlink:href=\"#MicrosoftYaHei-114\"/>\r\n     <use x=\"103.703125\" xlink:href=\"#MicrosoftYaHei-111\"/>\r\n     <use x=\"167.277344\" xlink:href=\"#MicrosoftYaHei-115\"/>\r\n     <use x=\"213.566406\" xlink:href=\"#MicrosoftYaHei-115\"/>\r\n     <use x=\"259.855469\" xlink:href=\"#MicrosoftYaHei-32\"/>\r\n     <use x=\"289.445312\" xlink:href=\"#MicrosoftYaHei-118\"/>\r\n     <use x=\"339.935547\" xlink:href=\"#MicrosoftYaHei-97\"/>\r\n     <use x=\"395.208984\" xlink:href=\"#MicrosoftYaHei-108\"/>\r\n     <use x=\"421.820312\" xlink:href=\"#MicrosoftYaHei-105\"/>\r\n     <use x=\"448.431641\" xlink:href=\"#MicrosoftYaHei-100\"/>\r\n     <use x=\"512.396484\" xlink:href=\"#MicrosoftYaHei-97\"/>\r\n     <use x=\"567.669922\" xlink:href=\"#MicrosoftYaHei-116\"/>\r\n     <use x=\"604.925781\" xlink:href=\"#MicrosoftYaHei-105\"/>\r\n     <use x=\"631.537109\" xlink:href=\"#MicrosoftYaHei-111\"/>\r\n     <use x=\"695.111328\" xlink:href=\"#MicrosoftYaHei-110\"/>\r\n     <use x=\"756.732422\" xlink:href=\"#MicrosoftYaHei-32\"/>\r\n     <use x=\"786.322266\" xlink:href=\"#MicrosoftYaHei-115\"/>\r\n     <use x=\"832.611328\" xlink:href=\"#MicrosoftYaHei-99\"/>\r\n     <use x=\"882.757812\" xlink:href=\"#MicrosoftYaHei-111\"/>\r\n     <use x=\"946.332031\" xlink:href=\"#MicrosoftYaHei-114\"/>\r\n     <use x=\"983.140625\" xlink:href=\"#MicrosoftYaHei-101\"/>\r\n     <use x=\"1039.878906\" xlink:href=\"#MicrosoftYaHei-115\"/>\r\n    </g>\r\n   </g>\r\n  </g>\r\n </g>\r\n <defs>\r\n  <clipPath id=\"pf06477cfdb\">\r\n   <rect height=\"217.44\" width=\"334.8\" x=\"98.389062\" y=\"22.7925\"/>\r\n  </clipPath>\r\n </defs>\r\n</svg>\r\n",
      "image/png": "[encoded data removed]"
     },
     "metadata": {
      "needs_background": "light"
     }
    }
   ],
   "source": [
    "X_all = combine_df.iloc[:891,:].drop([\"PassengerId\",\"Survived\"], axis=1)\n",
    "Y_all = combine_df.iloc[:891,:][\"Survived\"]\n",
    "X_test = combine_df.iloc[891:,:].drop([\"PassengerId\",\"Survived\"], axis=1)\n",
    "\n",
    "logreg = LogisticRegression()\n",
    "svc = SVC(kernel='rbf')\n",
    "knn = KNeighborsClassifier(n_neighbors = 5)\n",
    "decision_tree = DecisionTreeClassifier()\n",
    "random_forest = RandomForestClassifier(n_estimators=300,min_samples_leaf=4,class_weight={0:0.745,1:0.255})\n",
    "gbdt = GradientBoostingClassifier(n_estimators=500,learning_rate=0.03,max_depth=3)\n",
    "xgb = XGBClassifier(max_depth=3, n_estimators=300, learning_rate=0.03)\n",
    "lgb = LGBMClassifier(max_depth=3, n_estimators=500, learning_rate=0.02)\n",
    "clfs = [logreg, svc, knn, decision_tree, random_forest, gbdt, xgb, lgb]\n",
    "\n",
    "kfold = 10\n",
    "cv_results = []\n",
    "for classifier in clfs :\n",
    "    cv_results.append(cross_val_score(classifier, X_all.values, y = Y_all.values, scoring = \"accuracy\", cv = kfold, n_jobs=-1))\n",
    "\n",
    "cv_means = []\n",
    "cv_std = []\n",
    "for cv_result in cv_results:\n",
    "    cv_means.append(cv_result.mean())\n",
    "    cv_std.append(cv_result.std())\n",
    "\n",
    "ag = [\"LR\",\"SVC\",'KNN','decision_tree',\"random_forest\",\"GBDT\",\"xgbGBDT\", \"LGB\"]\n",
    "cv_res = pd.DataFrame({\"CrossValMeans\":cv_means,\"CrossValerrors\": cv_std,\n",
    "                       \"Algorithm\":ag})\n",
    "\n",
    "g = sns.barplot(\"CrossValMeans\",\"Algorithm\",data = cv_res, palette=\"Set3\",orient = \"h\",**{'xerr':cv_std})\n",
    "g.set_xlabel(\"Mean Accuracy\")\n",
    "g = g.set_title(\"Cross validation scores\")"
   ]
  },
  {
   "cell_type": "code",
   "execution_count": 207,
   "metadata": {},
   "outputs": [
    {
     "output_type": "stream",
     "name": "stdout",
     "text": [
      "LR 0.8484769038701623\nSVC 0.6577153558052434\nKNN 0.7351061173533083\ndecision_tree 0.8439950062421973\nrandom_forest 0.8507490636704119\nGBDT 0.8798751560549313\nxgbGBDT 0.8652933832709113\n"
     ]
    }
   ],
   "source": [
    "for i in range(7):\n",
    "    print(ag[i],cv_means[i])"
   ]
  },
  {
   "cell_type": "code",
   "execution_count": 208,
   "metadata": {
    "collapsed": true
   },
   "outputs": [],
   "source": [
    "from sklearn.metrics import precision_score\n",
    "\n",
    "class Bagging(object):\n",
    "    \n",
    "    def __init__(self,estimators):\n",
    "        self.estimator_names = []\n",
    "        self.estimators = []\n",
    "        for i in estimators:\n",
    "            self.estimator_names.append(i[0])\n",
    "            self.estimators.append(i[1])\n",
    "        self.clf = LogisticRegression()\n",
    "    \n",
    "    def fit(self, train_x, train_y):\n",
    "        for i in self.estimators:\n",
    "            i.fit(train_x,train_y)\n",
    "        x = np.array([i.predict(train_x) for i in self.estimators]).T\n",
    "        y = train_y\n",
    "        self.clf.fit(x, y)\n",
    "    \n",
    "    def predict(self,x):\n",
    "        x = np.array([i.predict(x) for i in self.estimators]).T\n",
    "        #print(x)\n",
    "        return self.clf.predict(x)\n",
    "        \n",
    "    \n",
    "    def score(self,x,y):\n",
    "        s = precision_score(y,self.predict(x))\n",
    "        #print(s)\n",
    "        return s"
   ]
  },
  {
   "cell_type": "code",
   "execution_count": 209,
   "metadata": {
    "collapsed": true
   },
   "outputs": [],
   "source": [
    "lr = LogisticRegression()\n",
    "decision_tree = DecisionTreeClassifier()\n",
    "rf = RandomForestClassifier(n_estimators=300,min_samples_leaf=4,class_weight={0:0.745,1:0.255})\n",
    "gbdt = GradientBoostingClassifier(n_estimators=500,learning_rate=0.03,max_depth=3)\n",
    "xgbGBDT = XGBClassifier(max_depth=3, n_estimators=500, learning_rate=0.03)\n",
    "lgb = LGBMClassifier(max_depth=3, n_estimators=500, learning_rate=0.02)\n",
    "clfs = [logreg, svc, knn, decision_tree, random_forest, gbdt, xgb]\n",
    "\n",
    "# bag = Bagging([('gbdt',gbdt)])\n",
    "bag = Bagging([('lr',lr),('rf',rf),('gbdt',gbdt), (\"lgb\", lgb)])\n",
    "\n",
    "from sklearn.metrics import precision_score"
   ]
  },
  {
   "cell_type": "code",
   "execution_count": 212,
   "metadata": {},
   "outputs": [
    {
     "output_type": "stream",
     "name": "stdout",
     "text": [
      "80.86\n",
      "86.75\n",
      "76.8\n",
      "80.81\n",
      "80.0\n",
      "84.3\n",
      "85.31\n",
      "85.8\n",
      "83.12\n",
      "85.03\n",
      "81.62\n",
      "82.17\n",
      "81.5\n",
      "82.47\n",
      "79.63\n",
      "81.25\n",
      "85.53\n",
      "81.07\n",
      "79.75\n",
      "83.75\n",
      "83.12\n",
      "84.71\n",
      "86.16\n",
      "86.52\n",
      "80.0\n",
      "80.62\n",
      "84.43\n",
      "83.02\n",
      "85.06\n",
      "77.59\n",
      "79.17\n",
      "77.51\n",
      "81.88\n",
      "83.54\n",
      "80.0\n",
      "86.93\n",
      "79.41\n",
      "87.41\n",
      "83.55\n",
      "84.0\n",
      "84.52\n",
      "80.39\n",
      "83.82\n",
      "79.44\n",
      "85.71\n",
      "81.99\n",
      "82.58\n",
      "81.82\n",
      "80.59\n",
      "84.62\n"
     ]
    },
    {
     "output_type": "execute_result",
     "data": {
      "text/plain": [
       "82.5526"
      ]
     },
     "metadata": {},
     "execution_count": 212
    }
   ],
   "source": [
    "score = 0\n",
    "for i in range(0,50):\n",
    "    num_test = 0.50\n",
    "    X_train, X_cv, Y_train, Y_cv = train_test_split(X_all.values, Y_all.values, test_size=num_test)\n",
    "    bag.fit(X_train, Y_train)\n",
    "    #Y_test = bag.predict(X_test)\n",
    "    acc_xgb = round(bag.score(X_cv, Y_cv) * 100, 2)\n",
    "    score+=acc_xgb\n",
    "    print(acc_xgb)\n",
    "score/50\n"
   ]
  },
  {
   "cell_type": "code",
   "execution_count": 211,
   "metadata": {
    "collapsed": true
   },
   "outputs": [
    {
     "output_type": "stream",
     "name": "stdout",
     "text": [
      "0.9329268292682927\n"
     ]
    }
   ],
   "source": [
    "bag.fit(X_all.values, Y_all.values)\n",
    "print(bag.score(X_all.values, Y_all.values))\n",
    "Y_test = bag.predict(X_test.values).astype(int)\n",
    "submission = pd.DataFrame({\n",
    "        \"PassengerId\": test_df[\"PassengerId\"],\n",
    "        \"Survived\": Y_test\n",
    "    })\n",
    "submission.to_csv(r'Kaggle-Titanic/Kaggle_submission.csv', index=False)"
   ]
  },
  {
   "cell_type": "code",
   "execution_count": null,
   "metadata": {
    "collapsed": true
   },
   "outputs": [],
   "source": []
  }
 ],
 "metadata": {
  "kernelspec": {
   "name": "Python 3.7.0 64-bit",
   "display_name": "Python 3.7.0 64-bit",
   "metadata": {
    "interpreter": {
     "hash": "f1c71cc3dc11ed7894cec80361760695c1760aa2f839e161bb52223b35033c8b"
    }
   }
  },
  "language_info": {
   "codemirror_mode": {
    "name": "ipython",
    "version": 3
   },
   "file_extension": ".py",
   "mimetype": "text/x-python",
   "name": "python",
   "nbconvert_exporter": "python",
   "pygments_lexer": "ipython3",
   "version": "3.7.0-final"
  }
 },
 "nbformat": 4,
 "nbformat_minor": 2
}