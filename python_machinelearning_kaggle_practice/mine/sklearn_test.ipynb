{
 "cells": [
  {
   "cell_type": "code",
   "execution_count": null,
   "metadata": {
    "collapsed": true
   },
   "outputs": [],
   "source": [
    "print('sklearn test!')"
   ]
  },
  {
   "cell_type": "code",
   "execution_count": 6,
   "outputs": [
    {
     "output_type": "stream",
     "name": "stdout",
     "text": [
      "Logistic regression test begin\nlr--report:\n               precision    recall  f1-score   support\n\n           2       0.96      0.99      0.98       100\n           4       0.99      0.94      0.96        71\n\n    accuracy                           0.97       171\n   macro avg       0.97      0.97      0.97       171\nweighted avg       0.97      0.97      0.97       171\n\nsgdc--report:\n               precision    recall  f1-score   support\n\n           2       0.93      0.99      0.96       100\n           4       0.98      0.90      0.94        71\n\n    accuracy                           0.95       171\n   macro avg       0.96      0.95      0.95       171\nweighted avg       0.95      0.95      0.95       171\n\nLogistic regression test end\n"
     ]
    }
   ],
   "source": [
    "print('LR and SGD test begin!')\n",
    "# logistic regression\n",
    "# SGD 分类\n",
    "# 乳腺癌肿瘤预测\n",
    "\n",
    "import pandas as pd\n",
    "import numpy as np\n",
    "# import matplotlib.pyplot as plt\n",
    "\n",
    "column_names = ['code number','feature1','feature2','feature3','feature4','feature5','feature6','feature7','feature8','feature9','class_label']\n",
    "# dataset =pd.read_csv('https://archive.ics.uci.edu/ml/machine-learning-databases/breast-cancer-wisconsin/breast-cancer-wisconsin.data',names=column_names)\n",
    "# 导入数据\n",
    "dataset = pd.read_csv('./dataset/breast-cancer-wisconsin.csv')\n",
    "dataset = dataset.replace('?',np.nan)\n",
    "# print('dataset shape:',dataset.shape)\n",
    "dataset = dataset.dropna(how='any')\n",
    "# print('dataset shape:',dataset.shape)\n",
    "\n",
    "# cross_validation 交叉检验\n",
    "from sklearn.model_selection import train_test_split\n",
    "x_train,x_test,y_train,y_test = train_test_split(dataset[column_names[1:9]], dataset[column_names[-1]], test_size=0.25, random_state=33)\n",
    "# print(x_train.shape,x_test.shape,y_train.shape,y_test.shape)\n",
    "\n",
    "# 归一化处理 standardscaler\n",
    "from sklearn.preprocessing import StandardScaler\n",
    "ss = StandardScaler()\n",
    "# print(x_train)\n",
    "x_train = ss.fit_transform(x_train)\n",
    "x_test  = ss.fit_transform(x_test)\n",
    "# print(x_train)\n",
    "\n",
    "# LogisticRegression和SGDclassifier\n",
    "from sklearn.linear_model import LogisticRegression\n",
    "from sklearn.linear_model import SGDClassifier\n",
    "\n",
    "# 实例化\n",
    "lr = LogisticRegression()\n",
    "sgdc = SGDClassifier()\n",
    "\n",
    "# 模型拟合\n",
    "lr.fit(x_train,y_train)\n",
    "sgdc.fit(x_train,y_train)\n",
    "\n",
    "# 预测\n",
    "lr_y_predict = lr.predict(x_test)\n",
    "sgdc_y_predict = sgdc.predict(x_test)\n",
    "\n",
    "# 模型报告\n",
    "from sklearn.metrics import classification_report\n",
    "lr_report = classification_report(y_test, lr_y_predict, target_names=['2','4'])\n",
    "sgdc_report = classification_report(y_test, sgdc_y_predict, target_names=['2','4'])\n",
    "print('lr--report:\\n',lr_report)\n",
    "print('sgdc--report:\\n',sgdc_report)\n",
    "\n",
    "print('LR and SGD test end!')"
   ],
   "metadata": {
    "collapsed": false,
    "pycharm": {
     "name": "#%%\n"
    }
   }
  },
  {
   "cell_type": "code",
   "execution_count": 8,
   "metadata": {},
   "outputs": [
    {
     "output_type": "error",
     "ename": "SyntaxError",
     "evalue": "invalid syntax (<ipython-input-8-407f11a16448>, line 4)",
     "traceback": [
      "\u001B[1;36m  File \u001B[1;32m\"<ipython-input-8-407f11a16448>\"\u001B[1;36m, line \u001B[1;32m4\u001B[0m\n\u001B[1;33m    import sklearn.datasets import load_digits\u001B[0m\n\u001B[1;37m                                 ^\u001B[0m\n\u001B[1;31mSyntaxError\u001B[0m\u001B[1;31m:\u001B[0m invalid syntax\n"
     ]
    }
   ],
   "source": [
    "print('SVC test begin!')\n",
    "import pandas as pd\n",
    "\n",
    "from sklearn.datasets import load_digits\n",
    "# dataset = \n",
    "\n",
    "print(load_digits)\n",
    "\n",
    "\n",
    "print('SVC test end!')"
   ]
  }
 ],
 "metadata": {
  "kernelspec": {
   "name": "pycharm-a175d104",
   "language": "python",
   "display_name": "PyCharm (mine)"
  },
  "language_info": {
   "codemirror_mode": {
    "name": "ipython",
    "version": 2
   },
   "file_extension": ".py",
   "mimetype": "text/x-python",
   "name": "python",
   "nbconvert_exporter": "python",
   "pygments_lexer": "ipython2",
   "version": "3.7.0-final"
  }
 },
 "nbformat": 4,
 "nbformat_minor": 0
}