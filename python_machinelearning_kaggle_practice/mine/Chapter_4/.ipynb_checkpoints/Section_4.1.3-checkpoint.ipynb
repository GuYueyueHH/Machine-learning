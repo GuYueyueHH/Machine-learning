{
 "cells": [
  {
   "cell_type": "code",
   "execution_count": 1,
   "metadata": {},
   "outputs": [
    {
     "name": "stdout",
     "output_type": "stream",
     "text": [
      "Iteration 1, loss = 2.32469395\n",
      "Iteration 2, loss = 2.05415122\n",
      "Iteration 3, loss = 2.00532552\n",
      "Iteration 4, loss = 1.98549796\n",
      "Iteration 5, loss = 1.96340655\n",
      "Iteration 6, loss = 1.94566670\n",
      "Iteration 7, loss = 1.96346077\n",
      "Iteration 8, loss = 1.93171452\n",
      "Iteration 9, loss = 1.94371729\n",
      "Iteration 10, loss = 1.86250983\n",
      "Iteration 11, loss = 1.82326621\n",
      "Iteration 12, loss = 1.78178156\n",
      "Iteration 13, loss = 1.74630579\n",
      "Iteration 14, loss = 1.73016710\n",
      "Iteration 15, loss = 1.68613544\n",
      "Iteration 16, loss = 1.62917623\n",
      "Iteration 17, loss = 1.46010905\n",
      "Iteration 18, loss = 1.38474587\n",
      "Iteration 19, loss = 1.34488362\n",
      "Iteration 20, loss = 1.32943948\n",
      "Iteration 21, loss = 1.29359690\n",
      "Iteration 22, loss = 1.28288788\n",
      "Iteration 23, loss = 1.26134341\n",
      "Iteration 24, loss = 1.25751285\n",
      "Iteration 25, loss = 1.23608173\n",
      "Iteration 26, loss = 1.22211405\n",
      "Iteration 27, loss = 1.20225363\n",
      "Iteration 28, loss = 1.19540335\n",
      "Iteration 29, loss = 1.18756393\n",
      "Iteration 30, loss = 1.18721165\n"
     ]
    },
    {
     "name": "stderr",
     "output_type": "stream",
     "text": [
      "/Users/michael/anaconda/lib/python2.7/site-packages/sklearn/neural_network/multilayer_perceptron.py:562: ConvergenceWarning: Stochastic Optimizer: Maximum iterations (30) reached and the optimization hasn't converged yet.\n",
      "  % self.max_iter, ConvergenceWarning)\n"
     ]
    },
    {
     "name": "stdout",
     "output_type": "stream",
     "text": [
      "分类准确率为：0.478700\n"
     ]
    }
   ],
   "source": [
    "'''\n",
    "这个案例是使用sklearn内置的多层神经网络，进行时装图像的分类；图像的特征没有进行标准化处理。\n",
    "'''\n",
    "import pandas as pd\n",
    "import numpy as np\n",
    "from sklearn.neural_network import MLPClassifier\n",
    "from sklearn.metrics import accuracy_score\n",
    "\n",
    "\n",
    "train = pd.read_csv('datasets/fashionmnist/fashion-mnist_train.csv')\n",
    "test = pd.read_csv('datasets/fashionmnist/fashion-mnist_test.csv')\n",
    "\n",
    "# 图像的特征没有进行标准化处理。\n",
    "y_train = train['label']\n",
    "y_test = test['label']\n",
    "X_train = train.drop('label', axis=1)\n",
    "X_test = test.drop('label', axis=1)\n",
    "\n",
    "mlpc = MLPClassifier(hidden_layer_sizes=(300, 10), verbose=True, max_iter=30, activation='relu', momentum=0.9, batch_size=256)\n",
    "mlpc.fit(X_train, y_train)\n",
    "\n",
    "y_pred = mlpc.predict(X_test)\n",
    "\n",
    "print '分类准确率为：%f' % accuracy_score(y_test, y_pred)"
   ]
  },
  {
   "cell_type": "code",
   "execution_count": 2,
   "metadata": {},
   "outputs": [
    {
     "name": "stderr",
     "output_type": "stream",
     "text": [
      "/Users/michael/anaconda/lib/python2.7/site-packages/sklearn/preprocessing/data.py:617: DataConversionWarning: Data with input dtype int64 were all converted to float64 by StandardScaler.\n",
      "  return self.partial_fit(X, y)\n",
      "/Users/michael/anaconda/lib/python2.7/site-packages/sklearn/base.py:462: DataConversionWarning: Data with input dtype int64 were all converted to float64 by StandardScaler.\n",
      "  return self.fit(X, **fit_params).transform(X)\n",
      "/Users/michael/anaconda/lib/python2.7/site-packages/ipykernel_launcher.py:22: DataConversionWarning: Data with input dtype int64 were all converted to float64 by StandardScaler.\n"
     ]
    },
    {
     "name": "stdout",
     "output_type": "stream",
     "text": [
      "Iteration 1, loss = 0.62768044\n",
      "Iteration 2, loss = 0.36121108\n",
      "Iteration 3, loss = 0.31303241\n",
      "Iteration 4, loss = 0.28427659\n",
      "Iteration 5, loss = 0.25932889\n",
      "Iteration 6, loss = 0.23955464\n",
      "Iteration 7, loss = 0.22242454\n",
      "Iteration 8, loss = 0.20863668\n",
      "Iteration 9, loss = 0.19113425\n",
      "Iteration 10, loss = 0.17876745\n",
      "Iteration 11, loss = 0.16946849\n",
      "Iteration 12, loss = 0.15865026\n",
      "Iteration 13, loss = 0.14749496\n",
      "Iteration 14, loss = 0.13481688\n",
      "Iteration 15, loss = 0.12811019\n",
      "Iteration 16, loss = 0.12018237\n",
      "Iteration 17, loss = 0.11510769\n",
      "Iteration 18, loss = 0.10704023\n",
      "Iteration 19, loss = 0.10021274\n",
      "Iteration 20, loss = 0.09616394\n",
      "Iteration 21, loss = 0.09004706\n",
      "Iteration 22, loss = 0.08610600\n",
      "Iteration 23, loss = 0.07870434\n",
      "Iteration 24, loss = 0.07790458\n",
      "Iteration 25, loss = 0.07539631\n",
      "Iteration 26, loss = 0.06786238\n",
      "Iteration 27, loss = 0.06199856\n",
      "Iteration 28, loss = 0.06054053\n",
      "Iteration 29, loss = 0.05635075\n",
      "Iteration 30, loss = 0.06216156\n",
      "分类准确率为：0.894500\n"
     ]
    }
   ],
   "source": [
    "'''\n",
    "这个案例是使用sklearn内置的多层神经网络，进行时装图像的分类；图像的特征进行了标准化处理。\n",
    "'''\n",
    "import pandas as pd\n",
    "import numpy as np\n",
    "from sklearn.preprocessing import StandardScaler\n",
    "from sklearn.neural_network import MLPClassifier\n",
    "from sklearn.metrics import accuracy_score\n",
    "\n",
    "\n",
    "train = pd.read_csv('datasets/fashionmnist/fashion-mnist_train.csv')\n",
    "test = pd.read_csv('datasets/fashionmnist/fashion-mnist_test.csv')\n",
    "\n",
    "y_train = train['label']\n",
    "y_test = test['label']\n",
    "X_train = train.drop('label', axis=1)\n",
    "X_test = test.drop('label', axis=1)\n",
    "\n",
    "#这里对图像的特征进行标准化处理；尽量保证特征均值为0，方差为1。\n",
    "s_scaler = StandardScaler()\n",
    "X_train = s_scaler.fit_transform(X_train)\n",
    "X_test = s_scaler.transform(X_test)\n",
    "\n",
    "mlpc = MLPClassifier(hidden_layer_sizes=(300, 10), verbose=True, max_iter=30, activation='relu', momentum=0.9, batch_size=256)\n",
    "mlpc.fit(X_train, y_train)\n",
    "\n",
    "y_pred = mlpc.predict(X_test)\n",
    "\n",
    "print '分类准确率为：%f' % accuracy_score(y_test, y_pred)"
   ]
  },
  {
   "cell_type": "code",
   "execution_count": 3,
   "metadata": {},
   "outputs": [
    {
     "name": "stderr",
     "output_type": "stream",
     "text": [
      "/Users/michael/anaconda/lib/python2.7/site-packages/sklearn/preprocessing/data.py:323: DataConversionWarning: Data with input dtype int64 were all converted to float64 by MinMaxScaler.\n",
      "  return self.partial_fit(X, y)\n"
     ]
    },
    {
     "name": "stdout",
     "output_type": "stream",
     "text": [
      "Iteration 1, loss = 0.77623423\n",
      "Iteration 2, loss = 0.44339402\n",
      "Iteration 3, loss = 0.39165007\n",
      "Iteration 4, loss = 0.36302898\n",
      "Iteration 5, loss = 0.34052168\n",
      "Iteration 6, loss = 0.32260646\n",
      "Iteration 7, loss = 0.30738799\n",
      "Iteration 8, loss = 0.30068508\n",
      "Iteration 9, loss = 0.28349850\n",
      "Iteration 10, loss = 0.27620474\n",
      "Iteration 11, loss = 0.26459168\n",
      "Iteration 12, loss = 0.25514953\n",
      "Iteration 13, loss = 0.24696584\n",
      "Iteration 14, loss = 0.23972049\n",
      "Iteration 15, loss = 0.23309376\n",
      "Iteration 16, loss = 0.22683089\n",
      "Iteration 17, loss = 0.21879975\n",
      "Iteration 18, loss = 0.21353766\n",
      "Iteration 19, loss = 0.20807386\n",
      "Iteration 20, loss = 0.20131543\n",
      "Iteration 21, loss = 0.20019967\n",
      "Iteration 22, loss = 0.19352239\n",
      "Iteration 23, loss = 0.18516597\n",
      "Iteration 24, loss = 0.18255296\n",
      "Iteration 25, loss = 0.17768372\n",
      "Iteration 26, loss = 0.17717303\n",
      "Iteration 27, loss = 0.16807948\n",
      "Iteration 28, loss = 0.16213664\n",
      "Iteration 29, loss = 0.15818434\n",
      "Iteration 30, loss = 0.15533143\n",
      "分类准确率为：0.889400\n"
     ]
    }
   ],
   "source": [
    "'''\n",
    "这个案例是使用sklearn内置的多层神经网络，进行时装图像的分类；图像的特征进行了归一化处理。\n",
    "'''\n",
    "import pandas as pd\n",
    "import numpy as np\n",
    "from sklearn.preprocessing import MinMaxScaler\n",
    "from sklearn.neural_network import MLPClassifier\n",
    "from sklearn.metrics import accuracy_score\n",
    "\n",
    "\n",
    "train = pd.read_csv('datasets/fashionmnist/fashion-mnist_train.csv')\n",
    "test = pd.read_csv('datasets/fashionmnist/fashion-mnist_test.csv')\n",
    "\n",
    "y_train = train['label']\n",
    "y_test = test['label']\n",
    "X_train = train.drop('label', axis=1)\n",
    "X_test = test.drop('label', axis=1)\n",
    "\n",
    "#这里对图像的特征进行归一化处理；保证每列特征的缩放范围为(0,1)。\n",
    "mm_scaler = MinMaxScaler(feature_range=(0,1))\n",
    "X_train = mm_scaler.fit_transform(X_train)\n",
    "X_test = mm_scaler.transform(X_test)\n",
    "\n",
    "mlpc = MLPClassifier(hidden_layer_sizes=(300, 10), verbose=True, max_iter=30, activation='relu', momentum=0.9, batch_size=256)\n",
    "mlpc.fit(X_train, y_train)\n",
    "\n",
    "y_pred = mlpc.predict(X_test)\n",
    "\n",
    "print '分类准确率为：%f' % accuracy_score(y_test, y_pred)"
   ]
  },
  {
   "cell_type": "code",
   "execution_count": null,
   "metadata": {
    "collapsed": true
   },
   "outputs": [],
   "source": []
  }
 ],
 "metadata": {
  "kernelspec": {
   "display_name": "Python 2",
   "language": "python",
   "name": "python2"
  },
  "language_info": {
   "codemirror_mode": {
    "name": "ipython",
    "version": 2
   },
   "file_extension": ".py",
   "mimetype": "text/x-python",
   "name": "python",
   "nbconvert_exporter": "python",
   "pygments_lexer": "ipython2",
   "version": "2.7.13"
  }
 },
 "nbformat": 4,
 "nbformat_minor": 2
}
