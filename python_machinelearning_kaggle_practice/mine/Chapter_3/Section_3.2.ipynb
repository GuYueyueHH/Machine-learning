{
 "cells": [
  {
   "cell_type": "code",
   "execution_count": 1,
   "metadata": {
    "collapsed": true
   },
   "outputs": [],
   "source": [
    "# 前馈神经网络。\n",
    "######################################"
   ]
  },
  {
   "cell_type": "code",
   "execution_count": 2,
   "metadata": {},
   "outputs": [
    {
     "name": "stderr",
     "output_type": "stream",
     "text": [
      "/Users/michael/anaconda/lib/python2.7/site-packages/sklearn/preprocessing/data.py:617: DataConversionWarning: Data with input dtype int64 were all converted to float64 by StandardScaler.\n",
      "  return self.partial_fit(X, y)\n",
      "/Users/michael/anaconda/lib/python2.7/site-packages/sklearn/base.py:462: DataConversionWarning: Data with input dtype int64 were all converted to float64 by StandardScaler.\n",
      "  return self.fit(X, **fit_params).transform(X)\n",
      "/Users/michael/anaconda/lib/python2.7/site-packages/ipykernel_launcher.py:22: DataConversionWarning: Data with input dtype int64 were all converted to float64 by StandardScaler.\n"
     ]
    },
    {
     "name": "stdout",
     "output_type": "stream",
     "text": [
      "Iteration 1, loss = 0.64891610\n",
      "Iteration 2, loss = 0.36036537\n",
      "Iteration 3, loss = 0.31196546\n",
      "Iteration 4, loss = 0.28178653\n",
      "Iteration 5, loss = 0.25920956\n",
      "Iteration 6, loss = 0.23914386\n",
      "Iteration 7, loss = 0.22273256\n",
      "Iteration 8, loss = 0.21029295\n",
      "Iteration 9, loss = 0.19518701\n",
      "Iteration 10, loss = 0.18419156\n",
      "Iteration 11, loss = 0.17073466\n",
      "Iteration 12, loss = 0.16279051\n",
      "Iteration 13, loss = 0.15433216\n",
      "Iteration 14, loss = 0.14476532\n",
      "Iteration 15, loss = 0.13227259\n",
      "Iteration 16, loss = 0.12629775\n",
      "Iteration 17, loss = 0.11875410\n",
      "Iteration 18, loss = 0.11049637\n",
      "Iteration 19, loss = 0.10680316\n",
      "Iteration 20, loss = 0.11000878\n",
      "Iteration 21, loss = 0.10391220\n",
      "Iteration 22, loss = 0.09106821\n",
      "Iteration 23, loss = 0.08868570\n",
      "Iteration 24, loss = 0.08439613\n",
      "Iteration 25, loss = 0.07733864\n",
      "Iteration 26, loss = 0.07291795\n",
      "Iteration 27, loss = 0.07171856\n",
      "Iteration 28, loss = 0.07061174\n",
      "Iteration 29, loss = 0.06284936\n",
      "Iteration 30, loss = 0.05995603\n"
     ]
    },
    {
     "name": "stderr",
     "output_type": "stream",
     "text": [
      "/Users/michael/anaconda/lib/python2.7/site-packages/sklearn/neural_network/multilayer_perceptron.py:562: ConvergenceWarning: Stochastic Optimizer: Maximum iterations (30) reached and the optimization hasn't converged yet.\n",
      "  % self.max_iter, ConvergenceWarning)\n"
     ]
    },
    {
     "name": "stdout",
     "output_type": "stream",
     "text": [
      "分类准确率为：0.886300\n"
     ]
    }
   ],
   "source": [
    "'''\n",
    "这个案例是使用sklearn内置的多层神经网络，进行时装图像的分类；图像的特征进行了标准化处理。\n",
    "'''\n",
    "import pandas as pd\n",
    "import numpy as np\n",
    "from sklearn.preprocessing import StandardScaler\n",
    "from sklearn.neural_network import MLPClassifier\n",
    "from sklearn.metrics import accuracy_score\n",
    "\n",
    "\n",
    "train = pd.read_csv('datasets/fashionmnist/fashion-mnist_train.csv')\n",
    "test = pd.read_csv('datasets/fashionmnist/fashion-mnist_test.csv')\n",
    "\n",
    "y_train = train['label']\n",
    "y_test = test['label']\n",
    "X_train = train.drop('label', axis=1)\n",
    "X_test = test.drop('label', axis=1)\n",
    "\n",
    "#这里对图像的特征进行标准化处理；尽量保证特征均值为0，方差为1。\n",
    "ss = StandardScaler()\n",
    "X_train = ss.fit_transform(X_train)\n",
    "X_test = ss.transform(X_test)\n",
    "\n",
    "mlpc = MLPClassifier(hidden_layer_sizes=(300, 10), verbose=True, max_iter=50, activation='relu', momentum=0.9, batch_size=256)\n",
    "mlpc.fit(X_train, y_train)\n",
    "\n",
    "y_pred = mlpc.predict(X_test)\n",
    "\n",
    "print '分类准确率为：%f' % accuracy_score(y_test, y_pred)"
   ]
  },
  {
   "cell_type": "code",
   "execution_count": 3,
   "metadata": {
    "collapsed": true
   },
   "outputs": [],
   "source": [
    "##############################"
   ]
  },
  {
   "cell_type": "code",
   "execution_count": 4,
   "metadata": {},
   "outputs": [
    {
     "name": "stderr",
     "output_type": "stream",
     "text": [
      "/Users/michael/anaconda/lib/python2.7/site-packages/h5py/__init__.py:34: FutureWarning: Conversion of the second argument of issubdtype from `float` to `np.floating` is deprecated. In future, it will be treated as `np.float64 == np.dtype(float).type`.\n",
      "  from ._conv import register_converters as _register_converters\n",
      "/Users/michael/anaconda/lib/python2.7/site-packages/ipykernel_launcher.py:39: DataConversionWarning: Data with input dtype int64 were all converted to float64 by StandardScaler.\n"
     ]
    },
    {
     "name": "stdout",
     "output_type": "stream",
     "text": [
      "Iteration 1, loss = 0.577067\n",
      "Iteration 2, loss = 0.496639\n",
      "Iteration 3, loss = 0.458209\n",
      "Iteration 4, loss = 0.435095\n",
      "Iteration 5, loss = 0.414758\n",
      "Iteration 6, loss = 0.401343\n",
      "Iteration 7, loss = 0.389962\n",
      "Iteration 8, loss = 0.381411\n",
      "Iteration 9, loss = 0.370728\n",
      "Iteration 10, loss = 0.364026\n",
      "Iteration 11, loss = 0.357159\n",
      "Iteration 12, loss = 0.350565\n",
      "Iteration 13, loss = 0.345582\n",
      "Iteration 14, loss = 0.339722\n",
      "Iteration 15, loss = 0.334863\n",
      "Iteration 16, loss = 0.329999\n",
      "Iteration 17, loss = 0.325815\n",
      "Iteration 18, loss = 0.322130\n",
      "Iteration 19, loss = 0.318093\n",
      "Iteration 20, loss = 0.314374\n",
      "Iteration 21, loss = 0.310942\n",
      "Iteration 22, loss = 0.308298\n",
      "Iteration 23, loss = 0.304303\n",
      "Iteration 24, loss = 0.300820\n",
      "Iteration 25, loss = 0.298250\n",
      "Iteration 26, loss = 0.295116\n",
      "Iteration 27, loss = 0.292166\n",
      "Iteration 28, loss = 0.289828\n",
      "Iteration 29, loss = 0.287523\n",
      "Iteration 30, loss = 0.284579\n",
      "分类准确率为：0.881500\n"
     ]
    }
   ],
   "source": [
    "'''\n",
    "采用TensorFlow，自行手动构建一个前馈神经网络层模块，进行时装图像的分类。\n",
    "'''\n",
    "import tensorflow as tf\n",
    "        \n",
    "\n",
    "#自行手动构建一个前馈神经网络层模块。\n",
    "def ffn_layer(X, n_outputs, name, activation=None):\n",
    "    with tf.name_scope(name):\n",
    "        n_inputs = int(X.get_shape()[1])\n",
    "        stddev = 2.0 / np.sqrt(n_inputs + n_outputs)\n",
    "        init = tf.truncated_normal((n_inputs, n_outputs), stddev=stddev)\n",
    "        W = tf.Variable(init, name='weights')\n",
    "        b = tf.Variable(tf.zeros([n_outputs]), name='bias')\n",
    "        \n",
    "        V = tf.matmul(X, W) + b\n",
    "        \n",
    "        if activation:\n",
    "            return activation(V)\n",
    "        else:\n",
    "            return V\n",
    "        \n",
    "import pandas as pd\n",
    "import numpy as np\n",
    "from sklearn.preprocessing import StandardScaler\n",
    "from sklearn.metrics import accuracy_score\n",
    "\n",
    "train = pd.read_csv('datasets/fashionmnist/fashion-mnist_train.csv')\n",
    "test = pd.read_csv('datasets/fashionmnist/fashion-mnist_test.csv')\n",
    "\n",
    "y_train = train['label'].values\n",
    "y_test = test['label'].values\n",
    "\n",
    "X_train = train.drop('label', axis=1)\n",
    "X_test = test.drop('label', axis=1)\n",
    "\n",
    "ss = StandardScaler()\n",
    "X_train = ss.fit_transform(X_train)\n",
    "X_test = ss.transform(X_test)\n",
    "\n",
    "train_samples, n_features = np.shape(X_train)\n",
    "test_samples = len(X_test)\n",
    "\n",
    "n_inputs = n_features\n",
    "n_hidden = 300\n",
    "n_outputs = 10\n",
    "batch_size = 256\n",
    "n_batches = train_samples / batch_size\n",
    "n_epochs = 50\n",
    "\n",
    "X = tf.placeholder(tf.float32, shape=(None, n_inputs), name='X')\n",
    "y = tf.placeholder(tf.int32, shape=(None), name='y')\n",
    "\n",
    "hidden = ffn_layer(X, n_hidden, name='hidden', activation=tf.nn.relu)\n",
    "logits = ffn_layer(hidden, n_outputs, name='outputs')\n",
    "\n",
    "xentropy = tf.nn.sparse_softmax_cross_entropy_with_logits(labels=y, logits=logits)\n",
    "\n",
    "loss = tf.reduce_mean(xentropy, name='loss')\n",
    "\n",
    "learning_rate = 1e-3\n",
    "\n",
    "optimizer = tf.train.MomentumOptimizer(learning_rate=learning_rate, momentum=0.9)\n",
    "\n",
    "training_op = optimizer.minimize(loss)\n",
    "\n",
    "correct = tf.nn.in_top_k(logits, y, 1)\n",
    "\n",
    "accuracy = tf.reduce_mean(tf.cast(correct, tf.float32))\n",
    "\n",
    "init = tf.global_variables_initializer()\n",
    "\n",
    "with tf.Session() as sess:\n",
    "    init.run()\n",
    "    \n",
    "    for iteration in range(n_epochs):\n",
    "        for i in range(n_batches):\n",
    "            np.random.seed(iteration * n_batches + i)\n",
    "            indices = np.random.randint(train_samples, size=batch_size)\n",
    "            X_batch = X_train[indices]\n",
    "            y_batch = y_train[indices]\n",
    "            sess.run(training_op, feed_dict={X: X_batch, y: y_batch})\n",
    "        print 'Iteration %d, loss = %f' % (iteration + 1, loss.eval(feed_dict = {X: X_train, y: y_train}))\n",
    "    print '分类准确率为：%f' % accuracy.eval(feed_dict = {X: X_test, y: y_test})"
   ]
  },
  {
   "cell_type": "code",
   "execution_count": 5,
   "metadata": {
    "collapsed": true
   },
   "outputs": [],
   "source": [
    "##############################"
   ]
  },
  {
   "cell_type": "code",
   "execution_count": 6,
   "metadata": {},
   "outputs": [
    {
     "name": "stderr",
     "output_type": "stream",
     "text": [
      "/Users/michael/anaconda/lib/python2.7/site-packages/ipykernel_launcher.py:20: DataConversionWarning: Data with input dtype int64 were all converted to float64 by StandardScaler.\n"
     ]
    },
    {
     "name": "stdout",
     "output_type": "stream",
     "text": [
      "Iteration 1, loss = 0.590411\n",
      "Iteration 2, loss = 0.505205\n",
      "Iteration 3, loss = 0.465082\n",
      "Iteration 4, loss = 0.441471\n",
      "Iteration 5, loss = 0.421341\n",
      "Iteration 6, loss = 0.407483\n",
      "Iteration 7, loss = 0.395882\n",
      "Iteration 8, loss = 0.386541\n",
      "Iteration 9, loss = 0.376986\n",
      "Iteration 10, loss = 0.369645\n",
      "Iteration 11, loss = 0.363313\n",
      "Iteration 12, loss = 0.357098\n",
      "Iteration 13, loss = 0.351824\n",
      "Iteration 14, loss = 0.346092\n",
      "Iteration 15, loss = 0.341439\n",
      "Iteration 16, loss = 0.336669\n",
      "Iteration 17, loss = 0.332495\n",
      "Iteration 18, loss = 0.328933\n",
      "Iteration 19, loss = 0.324563\n",
      "Iteration 20, loss = 0.320958\n",
      "Iteration 21, loss = 0.317798\n",
      "Iteration 22, loss = 0.314866\n",
      "Iteration 23, loss = 0.311352\n",
      "Iteration 24, loss = 0.307879\n",
      "Iteration 25, loss = 0.305185\n",
      "Iteration 26, loss = 0.302094\n",
      "Iteration 27, loss = 0.299294\n",
      "Iteration 28, loss = 0.296721\n",
      "Iteration 29, loss = 0.294581\n",
      "Iteration 30, loss = 0.291754\n",
      "分类准确率为：0.881300\n"
     ]
    }
   ],
   "source": [
    "'''\n",
    "采用TensorFlow内置的前馈神经网络模块，自行手动构建一个前馈神经网络层模块，进行时装图像的分类。\n",
    "'''\n",
    "import pandas as pd\n",
    "import numpy as np\n",
    "from sklearn.preprocessing import StandardScaler\n",
    "from sklearn.metrics import accuracy_score\n",
    "\n",
    "train = pd.read_csv('datasets/fashionmnist/fashion-mnist_train.csv')\n",
    "test = pd.read_csv('datasets/fashionmnist/fashion-mnist_test.csv')\n",
    "\n",
    "y_train = train['label'].values\n",
    "y_test = test['label'].values\n",
    "\n",
    "X_train = train.drop('label', axis=1)\n",
    "X_test = test.drop('label', axis=1)\n",
    "\n",
    "ss = StandardScaler()\n",
    "X_train = ss.fit_transform(X_train)\n",
    "X_test = ss.transform(X_test)\n",
    "\n",
    "train_samples, n_features = np.shape(X_train)\n",
    "test_samples = len(X_test)\n",
    "\n",
    "import tensorflow as tf\n",
    "        \n",
    "n_inputs = n_features\n",
    "n_hidden = 300\n",
    "n_outputs = 10\n",
    "batch_size = 256\n",
    "n_batches = train_samples / batch_size\n",
    "n_epochs = 50\n",
    "\n",
    "\n",
    "X = tf.placeholder(tf.float32, shape=(None, n_inputs), name='X')\n",
    "y = tf.placeholder(tf.int32, shape=(None), name='y')\n",
    "\n",
    "#采用TensorFlow内置的前馈神经网络模块，搭建网络。\n",
    "hidden = tf.layers.dense(X, n_hidden, name='hidden', activation=tf.nn.relu)\n",
    "logits = tf.layers.dense(hidden, n_outputs, name='outputs')\n",
    "\n",
    "xentropy = tf.nn.sparse_softmax_cross_entropy_with_logits(labels=y, logits=logits)\n",
    "\n",
    "loss = tf.reduce_mean(xentropy, name='loss')\n",
    "\n",
    "learning_rate = 1e-3\n",
    "\n",
    "optimizer = tf.train.MomentumOptimizer(learning_rate=learning_rate, momentum=0.9)\n",
    "\n",
    "training_op = optimizer.minimize(loss)\n",
    "\n",
    "correct = tf.nn.in_top_k(logits, y, 1)\n",
    "\n",
    "accuracy = tf.reduce_mean(tf.cast(correct, tf.float32))\n",
    "\n",
    "init = tf.global_variables_initializer()\n",
    "\n",
    "saver = tf.train.Saver()\n",
    "\n",
    "with tf.Session() as sess:\n",
    "    init.run()\n",
    "    \n",
    "    for iteration in range(n_epochs):\n",
    "        for i in range(n_batches):\n",
    "            np.random.seed(iteration * n_batches + i)\n",
    "            indices = np.random.randint(train_samples, size=batch_size)\n",
    "            X_batch = X_train[indices]\n",
    "            y_batch = y_train[indices]\n",
    "            sess.run(training_op, feed_dict={X: X_batch, y: y_batch})\n",
    "        print 'Iteration %d, loss = %f' % (iteration + 1, loss.eval(feed_dict = {X: X_train, y: y_train}))\n",
    "    \n",
    "    saver.save(sess, 'models/section_3.2/my_final_model.ckpt')\n",
    "    \n",
    "    print '分类准确率为：%f' % accuracy.eval(feed_dict = {X: X_test, y: y_test})\n",
    "    "
   ]
  },
  {
   "cell_type": "code",
   "execution_count": 7,
   "metadata": {},
   "outputs": [
    {
     "name": "stderr",
     "output_type": "stream",
     "text": [
      "/Users/michael/anaconda/lib/python2.7/site-packages/ipykernel_launcher.py:20: DataConversionWarning: Data with input dtype int64 were all converted to float64 by StandardScaler.\n"
     ]
    },
    {
     "name": "stdout",
     "output_type": "stream",
     "text": [
      "INFO:tensorflow:Restoring parameters from models/section_3.2/my_final_model.ckpt\n",
      "分类准确率为：0.881300\n"
     ]
    }
   ],
   "source": [
    "'''\n",
    "采用TensorFlow内置的模型存储功能，复用之前训练好的神经网络结构和参数。\n",
    "'''\n",
    "import pandas as pd\n",
    "import numpy as np\n",
    "from sklearn.preprocessing import StandardScaler\n",
    "from sklearn.metrics import accuracy_score\n",
    "\n",
    "train = pd.read_csv('datasets/fashionmnist/fashion-mnist_train.csv')\n",
    "test = pd.read_csv('datasets/fashionmnist/fashion-mnist_test.csv')\n",
    "\n",
    "y_train = train['label'].values\n",
    "y_test = test['label'].values\n",
    "\n",
    "X_train = train.drop('label', axis=1)\n",
    "X_test = test.drop('label', axis=1)\n",
    "\n",
    "ss = StandardScaler()\n",
    "X_train = ss.fit_transform(X_train)\n",
    "X_test = ss.transform(X_test)\n",
    "\n",
    "train_samples, n_features = np.shape(X_train)\n",
    "test_samples = len(X_test)\n",
    "\n",
    "import tensorflow as tf\n",
    "\n",
    "# 读取神经网络结构（图）。\n",
    "saver = tf.train.import_meta_graph('models/section_3.2/my_final_model.ckpt.meta')\n",
    "\n",
    "with tf.Session() as sess:\n",
    "    # 加载所有相关参数。\n",
    "    saver.restore(sess, 'models/section_3.2/my_final_model.ckpt')\n",
    "    \n",
    "    # 重现分类准确率。\n",
    "    print '分类准确率为：%f' % accuracy.eval(feed_dict = {X: X_test, y: y_test})\n",
    "    "
   ]
  },
  {
   "cell_type": "code",
   "execution_count": null,
   "metadata": {
    "collapsed": true
   },
   "outputs": [],
   "source": []
  }
 ],
 "metadata": {
  "kernelspec": {
   "display_name": "Python 2",
   "language": "python",
   "name": "python2"
  },
  "language_info": {
   "codemirror_mode": {
    "name": "ipython",
    "version": 2
   },
   "file_extension": ".py",
   "mimetype": "text/x-python",
   "name": "python",
   "nbconvert_exporter": "python",
   "pygments_lexer": "ipython2",
   "version": "2.7.13"
  }
 },
 "nbformat": 4,
 "nbformat_minor": 2
}
