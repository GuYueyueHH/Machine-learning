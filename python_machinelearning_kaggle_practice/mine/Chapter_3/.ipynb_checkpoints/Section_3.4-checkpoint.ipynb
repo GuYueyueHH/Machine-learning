{
 "cells": [
  {
   "cell_type": "code",
   "execution_count": 1,
   "metadata": {},
   "outputs": [
    {
     "name": "stderr",
     "output_type": "stream",
     "text": [
      "/Users/michael/anaconda/lib/python2.7/site-packages/sklearn/preprocessing/data.py:617: DataConversionWarning: Data with input dtype int64 were all converted to float64 by StandardScaler.\n",
      "  return self.partial_fit(X, y)\n",
      "/Users/michael/anaconda/lib/python2.7/site-packages/sklearn/base.py:462: DataConversionWarning: Data with input dtype int64 were all converted to float64 by StandardScaler.\n",
      "  return self.fit(X, **fit_params).transform(X)\n",
      "/Users/michael/anaconda/lib/python2.7/site-packages/ipykernel_launcher.py:19: DataConversionWarning: Data with input dtype int64 were all converted to float64 by StandardScaler.\n"
     ]
    }
   ],
   "source": [
    "# 残差神经网络。\n",
    "'''\n",
    "准备数据阶段。\n",
    "'''\n",
    "import pandas as pd\n",
    "import numpy as np\n",
    "from sklearn.preprocessing import StandardScaler\n",
    "\n",
    "train = pd.read_csv('datasets/fashionmnist/fashion-mnist_train.csv')\n",
    "test = pd.read_csv('datasets/fashionmnist/fashion-mnist_test.csv')\n",
    "\n",
    "y_train = train['label'].values\n",
    "y_test = test['label'].values\n",
    "\n",
    "X_train = train.drop('label', axis=1)\n",
    "X_test = test.drop('label', axis=1)\n",
    "\n",
    "ss = StandardScaler()\n",
    "X_train = ss.fit_transform(X_train)\n",
    "X_test = ss.transform(X_test)\n",
    "\n",
    "train_samples, n_features = np.shape(X_train)\n",
    "test_samples = len(X_test)"
   ]
  },
  {
   "cell_type": "code",
   "execution_count": 2,
   "metadata": {},
   "outputs": [
    {
     "name": "stderr",
     "output_type": "stream",
     "text": [
      "/Users/michael/anaconda/lib/python2.7/site-packages/h5py/__init__.py:34: FutureWarning: Conversion of the second argument of issubdtype from `float` to `np.floating` is deprecated. In future, it will be treated as `np.float64 == np.dtype(float).type`.\n",
      "  from ._conv import register_converters as _register_converters\n"
     ]
    }
   ],
   "source": [
    "'''\n",
    "构建卷积神经网络阶段（Construction Phase)。\n",
    "'''\n",
    "import tensorflow as tf\n",
    "\n",
    "batch_size = 1024\n",
    "n_batches = train_samples / batch_size\n",
    "n_epochs = 50\n",
    "learning_rate = 1e-2\n",
    "\n",
    "\n",
    "X = tf.placeholder(tf.float32, [None, 784])\n",
    "y = tf.placeholder(tf.int32)\n",
    "\n",
    "X_images = tf.reshape(X, [-1, 28, 28, 1])\n",
    "\n",
    "#conv_0 28 * 28\n",
    "conv_0 = tf.layers.conv2d(inputs=X_images, filters=16, kernel_size=3, strides=1, padding='SAME', activation=tf.nn.relu, name='C0')\n",
    "\n",
    "#resnet_1 14 * 14\n",
    "\n",
    "conv_1 = tf.layers.conv2d(inputs=conv_0, filters=32, kernel_size=3, strides=2, padding='SAME', activation=tf.nn.relu, name='C1')\n",
    "\n",
    "conv_0_down = tf.layers.conv2d(inputs=conv_0, filters=32, kernel_size=1, strides=2, padding='SAME', activation=tf.nn.relu, name='C0_down')\n",
    "\n",
    "res_1 = conv_1 + conv_0_down\n",
    "\n",
    "#resnet_2 7 * 7 \n",
    "\n",
    "conv_2 = tf.layers.conv2d(inputs=res_1, filters=64, kernel_size=3, strides=2, padding='SAME', activation=tf.nn.relu, name='C2')\n",
    "\n",
    "conv_1_down = tf.layers.conv2d(inputs=res_1, filters=64, kernel_size=1, strides=2, padding='SAME', activation=tf.nn.relu, name='C1_down')\n",
    "\n",
    "res_2 = conv_2 + conv_1_down\n",
    "\n",
    "\n",
    "#fc_1\n",
    "res_2_flat = tf.reshape(res_2, [-1, 64 * 7 * 7])\n",
    "\n",
    "fc_1 = tf.layers.dense(inputs=res_2_flat, units=100, activation=tf.nn.relu, name='FC_1')\n",
    "\n",
    "logits = tf.layers.dense(inputs=fc_1, units=10, activation=None, name='FC_2')\n",
    "\n",
    "xentropy = tf.nn.sparse_softmax_cross_entropy_with_logits(labels=y, logits=logits)\n",
    "\n",
    "loss = tf.reduce_mean(xentropy, name='loss')\n",
    "\n",
    "optimizer = tf.train.AdamOptimizer(learning_rate=learning_rate)\n",
    "\n",
    "training_op = optimizer.minimize(loss)\n",
    "\n",
    "correct = tf.nn.in_top_k(logits, y, 1)\n",
    "\n",
    "accuracy = tf.reduce_mean(tf.cast(correct, tf.float32))\n"
   ]
  },
  {
   "cell_type": "code",
   "execution_count": 3,
   "metadata": {},
   "outputs": [
    {
     "name": "stdout",
     "output_type": "stream",
     "text": [
      "Iteration 1, loss = 0.408027\n",
      "Iteration 2, loss = 0.318039\n",
      "Iteration 3, loss = 0.282976\n",
      "Iteration 4, loss = 0.259912\n",
      "Iteration 5, loss = 0.233980\n",
      "Iteration 6, loss = 0.219634\n",
      "Iteration 7, loss = 0.201804\n",
      "Iteration 8, loss = 0.185846\n",
      "Iteration 9, loss = 0.170002\n",
      "Iteration 10, loss = 0.161863\n",
      "Iteration 11, loss = 0.151641\n",
      "Iteration 12, loss = 0.132036\n",
      "Iteration 13, loss = 0.135684\n",
      "Iteration 14, loss = 0.126233\n",
      "Iteration 15, loss = 0.118723\n",
      "Iteration 16, loss = 0.112496\n",
      "Iteration 17, loss = 0.103044\n",
      "Iteration 18, loss = 0.101096\n",
      "Iteration 19, loss = 0.079763\n",
      "Iteration 20, loss = 0.084523\n",
      "Iteration 21, loss = 0.084178\n",
      "Iteration 22, loss = 0.074242\n",
      "Iteration 23, loss = 0.066431\n",
      "Iteration 24, loss = 0.066408\n",
      "Iteration 25, loss = 0.065242\n",
      "Iteration 26, loss = 0.060844\n",
      "Iteration 27, loss = 0.053606\n",
      "Iteration 28, loss = 0.058177\n",
      "Iteration 29, loss = 0.065722\n",
      "Iteration 30, loss = 0.050259\n",
      "Iteration 31, loss = 0.049816\n",
      "Iteration 32, loss = 0.054844\n",
      "Iteration 33, loss = 0.058168\n",
      "Iteration 34, loss = 0.037974\n",
      "Iteration 35, loss = 0.049390\n",
      "Iteration 36, loss = 0.053335\n",
      "Iteration 37, loss = 0.049956\n",
      "Iteration 38, loss = 0.043080\n",
      "Iteration 39, loss = 0.042308\n",
      "Iteration 40, loss = 0.038050\n",
      "Iteration 41, loss = 0.039427\n",
      "Iteration 42, loss = 0.055007\n",
      "Iteration 43, loss = 0.040453\n",
      "Iteration 44, loss = 0.072048\n",
      "Iteration 45, loss = 0.057357\n",
      "Iteration 46, loss = 0.032253\n",
      "Iteration 47, loss = 0.032198\n",
      "Iteration 48, loss = 0.029829\n",
      "Iteration 49, loss = 0.046921\n",
      "Iteration 50, loss = 0.030005\n",
      "分类准确率为：0.897100\n"
     ]
    }
   ],
   "source": [
    "init = tf.global_variables_initializer()\n",
    "\n",
    "with tf.Session() as sess:\n",
    "    init.run()\n",
    "    \n",
    "    for iteration in range(n_epochs):\n",
    "        for i in range(n_batches):\n",
    "            np.random.seed(iteration * n_batches + i)\n",
    "            indices = np.random.randint(train_samples, size=batch_size)\n",
    "            X_batch = X_train[indices]\n",
    "            y_batch = y_train[indices]\n",
    "            sess.run(training_op, feed_dict={X: X_batch, y: y_batch})\n",
    "        print 'Iteration %d, loss = %f' % (iteration + 1, loss.eval(feed_dict = {X: X_train, y: y_train}))\n",
    "    print '分类准确率为：%f' % accuracy.eval(feed_dict = {X: X_test, y: y_test})"
   ]
  },
  {
   "cell_type": "code",
   "execution_count": null,
   "metadata": {
    "collapsed": true
   },
   "outputs": [],
   "source": []
  }
 ],
 "metadata": {
  "kernelspec": {
   "display_name": "Python 2",
   "language": "python",
   "name": "python2"
  },
  "language_info": {
   "codemirror_mode": {
    "name": "ipython",
    "version": 2
   },
   "file_extension": ".py",
   "mimetype": "text/x-python",
   "name": "python",
   "nbconvert_exporter": "python",
   "pygments_lexer": "ipython2",
   "version": "2.7.13"
  }
 },
 "nbformat": 4,
 "nbformat_minor": 2
}
