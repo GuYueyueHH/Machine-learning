{
 "cells": [
  {
   "cell_type": "code",
   "execution_count": 1,
   "metadata": {},
   "outputs": [
    {
     "name": "stderr",
     "output_type": "stream",
     "text": [
      "/Users/michael/anaconda/lib/python2.7/site-packages/sklearn/preprocessing/data.py:617: DataConversionWarning: Data with input dtype int64 were all converted to float64 by StandardScaler.\n",
      "  return self.partial_fit(X, y)\n",
      "/Users/michael/anaconda/lib/python2.7/site-packages/sklearn/base.py:462: DataConversionWarning: Data with input dtype int64 were all converted to float64 by StandardScaler.\n",
      "  return self.fit(X, **fit_params).transform(X)\n",
      "/Users/michael/anaconda/lib/python2.7/site-packages/ipykernel_launcher.py:20: DataConversionWarning: Data with input dtype int64 were all converted to float64 by StandardScaler.\n"
     ]
    }
   ],
   "source": [
    "# 卷积神经网络。\n",
    "'''\n",
    "准备数据阶段。\n",
    "'''\n",
    "import pandas as pd\n",
    "import numpy as np\n",
    "from sklearn.preprocessing import StandardScaler\n",
    "\n",
    "train = pd.read_csv('datasets/fashionmnist/fashion-mnist_train.csv')\n",
    "test = pd.read_csv('datasets/fashionmnist/fashion-mnist_test.csv')\n",
    "\n",
    "y_train = train['label'].values\n",
    "y_test = test['label'].values\n",
    "\n",
    "X_train = train.drop('label', axis=1)\n",
    "X_test = test.drop('label', axis=1)\n",
    "\n",
    "ss = StandardScaler()\n",
    "X_train = ss.fit_transform(X_train)\n",
    "X_test = ss.transform(X_test)\n",
    "\n",
    "train_samples, n_features = np.shape(X_train)\n",
    "test_samples = len(X_test)"
   ]
  },
  {
   "cell_type": "code",
   "execution_count": 2,
   "metadata": {},
   "outputs": [
    {
     "name": "stderr",
     "output_type": "stream",
     "text": [
      "/Users/michael/anaconda/lib/python2.7/site-packages/h5py/__init__.py:34: FutureWarning: Conversion of the second argument of issubdtype from `float` to `np.floating` is deprecated. In future, it will be treated as `np.float64 == np.dtype(float).type`.\n",
      "  from ._conv import register_converters as _register_converters\n"
     ]
    }
   ],
   "source": [
    "'''\n",
    "构建卷积神经网络阶段（Construction Phase)。\n",
    "'''\n",
    "import tensorflow as tf\n",
    "\n",
    "batch_size = 1024\n",
    "n_batches = train_samples / batch_size\n",
    "n_epochs = 50\n",
    "learning_rate = 1e-2\n",
    "\n",
    "\n",
    "X = tf.placeholder(tf.float32, [None, 784])\n",
    "y = tf.placeholder(tf.int32)\n",
    "\n",
    "x_images = tf.reshape(X, [-1, 28, 28, 1])\n",
    "\n",
    "conv_1 = tf.layers.conv2d(inputs=x_images, filters=16, kernel_size=3, strides=[1, 1], padding='SAME', activation=tf.nn.relu, name='C1')\n",
    "\n",
    "pool_1 = tf.layers.average_pooling2d(inputs=conv_1, pool_size=2, strides=[2,2], padding='SAME', name='P1')\n",
    "\n",
    "conv_2 = tf.layers.conv2d(inputs=pool_1, filters=32, kernel_size=3, strides=[1, 1], padding='SAME', activation=tf.nn.relu, name='C2')\n",
    "\n",
    "pool_2 = tf.layers.average_pooling2d(inputs=conv_2, pool_size=2, strides=[2,2], padding='SAME', name='P2')\n",
    "\n",
    "conv_3 = tf.layers.conv2d(inputs=pool_2, filters=64, kernel_size=3, strides=[1, 1], padding='SAME', activation=tf.nn.relu, name='C3')\n",
    "\n",
    "conv_3_flat = tf.reshape(conv_3, [-1, 64 * 7 * 7])\n",
    "\n",
    "fc_1 = tf.layers.dense(inputs=conv_3_flat, units=100, activation=tf.nn.relu, name='FC_1')\n",
    "\n",
    "logits = tf.layers.dense(inputs=fc_1, units=10, activation=None, name='FC_2')\n",
    "\n",
    "xentropy = tf.nn.sparse_softmax_cross_entropy_with_logits(labels=y, logits=logits)\n",
    "\n",
    "loss = tf.reduce_mean(xentropy, name='loss')\n",
    "\n",
    "optimizer = tf.train.AdamOptimizer(learning_rate=learning_rate)\n",
    "\n",
    "training_op = optimizer.minimize(loss)\n",
    "\n",
    "correct = tf.nn.in_top_k(logits, y, 1)\n",
    "\n",
    "accuracy = tf.reduce_mean(tf.cast(correct, tf.float32))\n"
   ]
  },
  {
   "cell_type": "code",
   "execution_count": 3,
   "metadata": {},
   "outputs": [
    {
     "name": "stdout",
     "output_type": "stream",
     "text": [
      "Iteration 1, loss = 0.409995\n",
      "Iteration 2, loss = 0.331029\n",
      "Iteration 3, loss = 0.281554\n",
      "Iteration 4, loss = 0.269625\n",
      "Iteration 5, loss = 0.241079\n",
      "Iteration 6, loss = 0.210189\n",
      "Iteration 7, loss = 0.204927\n",
      "Iteration 8, loss = 0.189737\n",
      "Iteration 9, loss = 0.179260\n",
      "Iteration 10, loss = 0.178017\n",
      "Iteration 11, loss = 0.164557\n",
      "Iteration 12, loss = 0.149476\n",
      "Iteration 13, loss = 0.142690\n",
      "Iteration 14, loss = 0.135314\n",
      "Iteration 15, loss = 0.125756\n",
      "Iteration 16, loss = 0.115268\n",
      "Iteration 17, loss = 0.116492\n",
      "Iteration 18, loss = 0.102194\n",
      "Iteration 19, loss = 0.093544\n",
      "Iteration 20, loss = 0.096244\n",
      "Iteration 21, loss = 0.103793\n",
      "Iteration 22, loss = 0.090217\n",
      "Iteration 23, loss = 0.091461\n",
      "Iteration 24, loss = 0.079020\n",
      "Iteration 25, loss = 0.067001\n",
      "Iteration 26, loss = 0.076006\n",
      "Iteration 27, loss = 0.067567\n",
      "Iteration 28, loss = 0.086709\n",
      "Iteration 29, loss = 0.067914\n",
      "Iteration 30, loss = 0.054917\n",
      "Iteration 31, loss = 0.057110\n",
      "Iteration 32, loss = 0.065969\n",
      "Iteration 33, loss = 0.056372\n",
      "Iteration 34, loss = 0.067014\n",
      "Iteration 35, loss = 0.053518\n",
      "Iteration 36, loss = 0.053415\n",
      "Iteration 37, loss = 0.049125\n",
      "Iteration 38, loss = 0.053063\n",
      "Iteration 39, loss = 0.041839\n",
      "Iteration 40, loss = 0.036865\n",
      "Iteration 41, loss = 0.038709\n",
      "Iteration 42, loss = 0.044182\n",
      "Iteration 43, loss = 0.060168\n",
      "Iteration 44, loss = 0.055365\n",
      "Iteration 45, loss = 0.054364\n",
      "Iteration 46, loss = 0.055077\n",
      "Iteration 47, loss = 0.061973\n",
      "Iteration 48, loss = 0.051865\n",
      "Iteration 49, loss = 0.043222\n",
      "Iteration 50, loss = 0.032418\n",
      "测试集上的分类准确率为：0.910200\n"
     ]
    }
   ],
   "source": [
    "'''\n",
    "执行训练网络阶段（Executation Phase)。\n",
    "'''\n",
    "init = tf.global_variables_initializer()\n",
    "\n",
    "with tf.Session() as sess:\n",
    "    init.run()\n",
    "    \n",
    "    for iteration in range(n_epochs):\n",
    "        for i in range(n_batches):\n",
    "            np.random.seed(iteration * n_batches + i)\n",
    "            indices = np.random.randint(train_samples, size=batch_size)\n",
    "            X_batch = X_train[indices]\n",
    "            y_batch = y_train[indices]\n",
    "            sess.run(training_op, feed_dict={X: X_batch, y: y_batch})\n",
    "        print 'Iteration %d, loss = %f' % (iteration + 1, loss.eval(feed_dict = {X: X_train, y: y_train}))\n",
    "    print '测试集上的分类准确率为：%f' % accuracy.eval(feed_dict = {X: X_test, y: y_test})"
   ]
  },
  {
   "cell_type": "code",
   "execution_count": null,
   "metadata": {
    "collapsed": true
   },
   "outputs": [],
   "source": []
  }
 ],
 "metadata": {
  "kernelspec": {
   "display_name": "Python 2",
   "language": "python",
   "name": "python2"
  },
  "language_info": {
   "codemirror_mode": {
    "name": "ipython",
    "version": 2
   },
   "file_extension": ".py",
   "mimetype": "text/x-python",
   "name": "python",
   "nbconvert_exporter": "python",
   "pygments_lexer": "ipython2",
   "version": "2.7.13"
  }
 },
 "nbformat": 4,
 "nbformat_minor": 2
}
