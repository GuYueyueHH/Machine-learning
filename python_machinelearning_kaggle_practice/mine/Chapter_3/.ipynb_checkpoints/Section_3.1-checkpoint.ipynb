{
 "cells": [
  {
   "cell_type": "code",
   "execution_count": 1,
   "metadata": {},
   "outputs": [
    {
     "name": "stderr",
     "output_type": "stream",
     "text": [
      "/Users/michael/anaconda/lib/python2.7/site-packages/h5py/__init__.py:34: FutureWarning: Conversion of the second argument of issubdtype from `float` to `np.floating` is deprecated. In future, it will be treated as `np.float64 == np.dtype(float).type`.\n",
      "  from ._conv import register_converters as _register_converters\n"
     ]
    }
   ],
   "source": [
    "#人工智能发展简史，以及TensorFlow基本用法。\n",
    "\n",
    "import tensorflow as tf"
   ]
  },
  {
   "cell_type": "code",
   "execution_count": 2,
   "metadata": {},
   "outputs": [
    {
     "name": "stdout",
     "output_type": "stream",
     "text": [
      "Tensor(\"Sqrt:0\", shape=(), dtype=float32)\n"
     ]
    }
   ],
   "source": [
    "'''\n",
    "求根号2的值\n",
    "'''\n",
    "root = tf.sqrt(2.0)\n",
    "\n",
    "# 仅仅只是构图，并没有执行。\n",
    "print root"
   ]
  },
  {
   "cell_type": "code",
   "execution_count": 3,
   "metadata": {},
   "outputs": [
    {
     "name": "stdout",
     "output_type": "stream",
     "text": [
      "1.4142135\n"
     ]
    }
   ],
   "source": [
    "#执行2.0的求根操作。\n",
    "with tf.Session() as sess:\n",
    "    print sess.run(root)"
   ]
  },
  {
   "cell_type": "code",
   "execution_count": 4,
   "metadata": {
    "collapsed": true
   },
   "outputs": [],
   "source": [
    "'''\n",
    "迭代求根号2的值。\n",
    "'''\n",
    "\n",
    "root = tf.Variable(0.1)\n",
    "\n",
    "new_root = (2.0 / root + root) / 2.0\n",
    "\n",
    "update = tf.assign(root, new_root)\n",
    "\n",
    "error = tf.abs(new_root-root)"
   ]
  },
  {
   "cell_type": "code",
   "execution_count": 5,
   "metadata": {},
   "outputs": [
    {
     "name": "stdout",
     "output_type": "stream",
     "text": [
      "The root of 2.0 is: 1.41421354\n",
      "Number of Iterations: 8\n"
     ]
    }
   ],
   "source": [
    "init = tf.global_variables_initializer()\n",
    "i = 0\n",
    "\n",
    "with tf.Session() as sess:\n",
    "    sess.run(init)\n",
    "    \n",
    "    while True:\n",
    "        root_value = root.eval()\n",
    "        new_root_value = new_root.eval()\n",
    "        if sess.run(error) < 1e-8:\n",
    "            break\n",
    "        else:\n",
    "            sess.run(update)\n",
    "            i += 1\n",
    "            \n",
    "    print 'The root of 2.0 is: %.8f' % sess.run(root)\n",
    "    print 'Number of Iterations: %d' % i"
   ]
  },
  {
   "cell_type": "code",
   "execution_count": 6,
   "metadata": {},
   "outputs": [
    {
     "name": "stdout",
     "output_type": "stream",
     "text": [
      "The root of 18.000000 is: 4.2426405\n",
      "Number of Iterations: 19\n"
     ]
    }
   ],
   "source": [
    "'''\n",
    "二分迭代逼近法，求根号x的值。\n",
    "'''\n",
    "import tensorflow as tf \n",
    "\n",
    "#这里重点突出placeholder\n",
    "x = tf.placeholder(tf.float32, shape=(), name = 'x')\n",
    "\n",
    "root = tf.Variable(1e-4)\n",
    "\n",
    "new_root = (x / root + root) / 2.0\n",
    "\n",
    "update = tf.assign(root, new_root)\n",
    "\n",
    "error = tf.abs(new_root-root)\n",
    "\n",
    "init = tf.global_variables_initializer()\n",
    "i = 0\n",
    "\n",
    "\n",
    "value = 18.0\n",
    "with tf.Session() as sess:\n",
    "    sess.run(init)\n",
    "    \n",
    "    while True:\n",
    "        if sess.run(error, feed_dict={x: value}) < 1e-11:\n",
    "            break\n",
    "        else:\n",
    "            sess.run(update, feed_dict={x: value})\n",
    "            i += 1\n",
    "            \n",
    "    print 'The root of %f is: %.7f' % (value, root.eval())\n",
    "    print 'Number of Iterations: %d' % i"
   ]
  },
  {
   "cell_type": "code",
   "execution_count": 7,
   "metadata": {},
   "outputs": [
    {
     "name": "stdout",
     "output_type": "stream",
     "text": [
      "The root of 18.000000 is: 4.2426410\n",
      "Number of Iterations: 19\n"
     ]
    }
   ],
   "source": [
    "'''\n",
    "牛顿迭代逼近法，求根号x的值。\n",
    "'''\n",
    "\n",
    "import tensorflow as tf\n",
    "\n",
    "x = tf.placeholder(tf.float32, shape=(), name='x')\n",
    "\n",
    "root = tf.Variable(1e-4)\n",
    "\n",
    "func = tf.square(root) - x\n",
    "\n",
    "#这里重点突出tf.gradients函数。\n",
    "func_graident = tf.gradients(func, [root])\n",
    "\n",
    "new_root = root - func/func_graident[0]\n",
    "\n",
    "update = tf.assign(root, new_root)\n",
    "\n",
    "error = tf.abs(new_root-root)\n",
    "\n",
    "init = tf.global_variables_initializer()\n",
    "j = 0\n",
    "\n",
    "value = 18.0\n",
    "with tf.Session() as sess:\n",
    "    sess.run(init)\n",
    "    \n",
    "    while True:\n",
    "        if sess.run(error, feed_dict={x: value}) < 1e-11:\n",
    "            break\n",
    "        else:\n",
    "            sess.run(update, feed_dict={x: value})\n",
    "            j += 1\n",
    "            \n",
    "    print 'The root of %f is: %.7f' % (value, root.eval())\n",
    "    print 'Number of Iterations: %d' % j"
   ]
  },
  {
   "cell_type": "code",
   "execution_count": null,
   "metadata": {
    "collapsed": true
   },
   "outputs": [],
   "source": []
  }
 ],
 "metadata": {
  "kernelspec": {
   "display_name": "Python 2",
   "language": "python",
   "name": "python2"
  },
  "language_info": {
   "codemirror_mode": {
    "name": "ipython",
    "version": 2
   },
   "file_extension": ".py",
   "mimetype": "text/x-python",
   "name": "python",
   "nbconvert_exporter": "python",
   "pygments_lexer": "ipython2",
   "version": "2.7.13"
  }
 },
 "nbformat": 4,
 "nbformat_minor": 2
}
