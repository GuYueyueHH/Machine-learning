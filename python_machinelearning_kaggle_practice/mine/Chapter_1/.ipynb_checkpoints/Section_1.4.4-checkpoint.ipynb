{
 "cells": [
  {
   "cell_type": "code",
   "execution_count": 1,
   "metadata": {},
   "outputs": [
    {
     "name": "stdout",
     "output_type": "stream",
     "text": [
      "Variable b is True!\n"
     ]
    }
   ],
   "source": [
    "'''分支语句'''\n",
    "\n",
    "b = True\n",
    "\n",
    "if b:\n",
    "    print \"Variable b is True!\"\n",
    "else:\n",
    "    print \"Variable b is False!\""
   ]
  },
  {
   "cell_type": "code",
   "execution_count": 2,
   "metadata": {},
   "outputs": [
    {
     "name": "stdout",
     "output_type": "stream",
     "text": [
      "Variable b is True! And a is False!\n"
     ]
    }
   ],
   "source": [
    "a = False\n",
    "b = True\n",
    "c = True\n",
    "\n",
    "if a:\n",
    "    print \"Variable a is True!\"\n",
    "elif b:\n",
    "    '''\n",
    "    如果执行到此处，说明a一定是False，b一定是True，但是不清楚c的真假。\n",
    "    因为一旦分支语句中其中一条被执行，整体分支语句就会结束，根本没有机会执行后续的elif和else。\n",
    "    '''\n",
    "    print 'Variable b is True! And a is False!'\n",
    "elif c:\n",
    "    print 'Variable c is True! But a and b are both False!'\n",
    "else:\n",
    "    print 'All variables are False!'"
   ]
  },
  {
   "cell_type": "code",
   "execution_count": 3,
   "metadata": {},
   "outputs": [
    {
     "name": "stdout",
     "output_type": "stream",
     "text": [
      "Variable c is True! But a and b are both False!\n"
     ]
    }
   ],
   "source": [
    "a = False\n",
    "b = False\n",
    "c = True\n",
    "\n",
    "if a:\n",
    "    print \"Variable a is True!\"\n",
    "elif b:\n",
    "    print 'Variable b is True! And a is False!'\n",
    "elif c:\n",
    "    '''\n",
    "    如果执行到此处，说明a一定是False，b也必须是False，同时c的值为True。\n",
    "    因为一旦分支语句中其中一条被执行，整体分支语句就会结束，根本没有机会执行后续的else。\n",
    "    '''\n",
    "    print 'Variable c is True! But a and b are both False!'\n",
    "else:\n",
    "    print 'All variables are False!'"
   ]
  },
  {
   "cell_type": "code",
   "execution_count": 4,
   "metadata": {},
   "outputs": [
    {
     "name": "stdout",
     "output_type": "stream",
     "text": [
      "1 : 1\n",
      "abc : 0.1\n",
      "0.4 : 80\n"
     ]
    }
   ],
   "source": [
    "'''循环语句'''\n",
    "\n",
    "# 对字典d的键进行循环遍历，输出每组键值对。\n",
    "d = {1: '1', 'abc': 0.1, 0.4:80}\n",
    "for k in d:\n",
    "    print k, \":\", d[k]\n"
   ]
  },
  {
   "cell_type": "code",
   "execution_count": null,
   "metadata": {
    "collapsed": true
   },
   "outputs": [],
   "source": []
  }
 ],
 "metadata": {
  "kernelspec": {
   "display_name": "Python 2",
   "language": "python",
   "name": "python2"
  },
  "language_info": {
   "codemirror_mode": {
    "name": "ipython",
    "version": 2
   },
   "file_extension": ".py",
   "mimetype": "text/x-python",
   "name": "python",
   "nbconvert_exporter": "python",
   "pygments_lexer": "ipython2",
   "version": "2.7.13"
  }
 },
 "nbformat": 4,
 "nbformat_minor": 2
}
