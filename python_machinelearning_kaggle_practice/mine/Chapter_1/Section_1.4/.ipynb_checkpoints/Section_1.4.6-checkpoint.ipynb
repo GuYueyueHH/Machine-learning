{
 "cells": [
  {
   "cell_type": "code",
   "execution_count": 1,
   "metadata": {
    "collapsed": true
   },
   "outputs": [],
   "source": [
    "class Student:\n",
    "    '所有学生对象的基类'\n",
    "    \n",
    "    #count是一个类变量，它的值将在这个类的所有实例之间共享。\n",
    "    count = 0\n",
    "    \n",
    "    #学费退税比例\n",
    "    __tax_discount_rate = 0.1\n",
    "    \n",
    "    def __init__(self, name, age, sex, fee, is_married):\n",
    "        \"\"\"\n",
    "        Student类的初始化函数\n",
    "\n",
    "        参数\n",
    "        ----\n",
    "        name（姓名）: str（字符串类型）\n",
    "        age（年龄）: int （整型数）\n",
    "        sex（性别）: str（字符串类型）\n",
    "        fee（学费）: float（浮点型）\n",
    "        is_married（是否已经结婚）: bool（布尔型）\n",
    "        \"\"\"\n",
    "        \n",
    "        #name, age, sex都属于公开属性。\n",
    "        self.name = name\n",
    "        self.age = age\n",
    "        self.sex = sex\n",
    "        \n",
    "        #__fee和__is_married都属于私有属性，类外部无法直接访问。\n",
    "        self.__fee = fee\n",
    "        self.__is_married = is_married\n",
    "        \n",
    "        #每初始化一个实例，类变量count增加一个计数。\n",
    "        Student.count += 1\n",
    "    \n",
    "\n",
    "    def display_student(self):\n",
    "        print '姓名: %s, 年龄: %d, 性别: %s' %(self.name, self.age, self.sex)\n",
    "        \n",
    "    def display_fee(self):\n",
    "        print '%s的学费为%f' %(self.name, self.__fee)\n",
    "    \n",
    "    def __get_is_single(self):\n",
    "        if self.__is_married:\n",
    "            return False\n",
    "        else:\n",
    "            return True\n",
    "    \n",
    "    def get_tax_return(self):\n",
    "        \"\"\"\n",
    "        如果是单身，就有一定的退税额度。\n",
    "        \"\"\"\n",
    "        if self.__get_is_single():   \n",
    "            return self.__fee * Student.__tax_discount_rate\n",
    "        else:\n",
    "            return 0.0\n",
    "    \n",
    "    def display_tax_return(self):\n",
    "        print '%s的退税额度为：%f' %(self.name, self.get_tax_return())"
   ]
  },
  {
   "cell_type": "code",
   "execution_count": 2,
   "metadata": {},
   "outputs": [
    {
     "name": "stdout",
     "output_type": "stream",
     "text": [
      "姓名: 范淼, 年龄: 27, 性别: 男\n",
      "姓名: 刘晓龙, 年龄: 29, 性别: 男\n",
      "学生总数为2人\n",
      "学生总数为4人\n"
     ]
    }
   ],
   "source": [
    "if __name__ == '__main__':\n",
    "    student_1 = Student('范淼', 27, '男', 5000.0, False)\n",
    "    student_2 = Student('刘晓龙', 29, '男', 5500.0, False)\n",
    "\n",
    "\n",
    "    student_1.display_student()\n",
    "    student_2.display_student()\n",
    "\n",
    "    print '学生总数为%d人' % Student.count\n",
    "\n",
    "    student_3 = Student('孙华枭', 28, '男', 5600.0, True)\n",
    "    student_4 = Student('陈蓓', 25, '女', 4500.0, True)\n",
    "\n",
    "    print '学生总数为%d人' % Student.count"
   ]
  },
  {
   "cell_type": "code",
   "execution_count": 3,
   "metadata": {},
   "outputs": [
    {
     "name": "stdout",
     "output_type": "stream",
     "text": [
      "姓名: 范淼, 年龄: 26, 性别: 男\n"
     ]
    }
   ],
   "source": [
    "student_1.age = 26\n",
    "student_1.display_student()"
   ]
  },
  {
   "cell_type": "code",
   "execution_count": 4,
   "metadata": {},
   "outputs": [
    {
     "ename": "AttributeError",
     "evalue": "Student instance has no attribute '__fee'",
     "output_type": "error",
     "traceback": [
      "\u001b[0;31m---------------------------------------------------------------------------\u001b[0m",
      "\u001b[0;31mAttributeError\u001b[0m                            Traceback (most recent call last)",
      "\u001b[0;32m<ipython-input-4-4cfb6b1fedee>\u001b[0m in \u001b[0;36m<module>\u001b[0;34m()\u001b[0m\n\u001b[0;32m----> 1\u001b[0;31m \u001b[0;32mprint\u001b[0m \u001b[0mstudent_3\u001b[0m\u001b[0;34m.\u001b[0m\u001b[0m__fee\u001b[0m\u001b[0;34m\u001b[0m\u001b[0m\n\u001b[0m",
      "\u001b[0;31mAttributeError\u001b[0m: Student instance has no attribute '__fee'"
     ]
    }
   ],
   "source": [
    "print student_3.__fee"
   ]
  },
  {
   "cell_type": "code",
   "execution_count": 5,
   "metadata": {},
   "outputs": [
    {
     "name": "stdout",
     "output_type": "stream",
     "text": [
      "孙华枭的学费为5600.000000\n"
     ]
    }
   ],
   "source": [
    "student_3.display_fee()"
   ]
  },
  {
   "cell_type": "code",
   "execution_count": 6,
   "metadata": {},
   "outputs": [
    {
     "ename": "AttributeError",
     "evalue": "class Student has no attribute '__tax_discount_rate'",
     "output_type": "error",
     "traceback": [
      "\u001b[0;31m---------------------------------------------------------------------------\u001b[0m",
      "\u001b[0;31mAttributeError\u001b[0m                            Traceback (most recent call last)",
      "\u001b[0;32m<ipython-input-6-dcc80ade2829>\u001b[0m in \u001b[0;36m<module>\u001b[0;34m()\u001b[0m\n\u001b[0;32m----> 1\u001b[0;31m \u001b[0;32mprint\u001b[0m \u001b[0mStudent\u001b[0m\u001b[0;34m.\u001b[0m\u001b[0m__tax_discount_rate\u001b[0m\u001b[0;34m\u001b[0m\u001b[0m\n\u001b[0m",
      "\u001b[0;31mAttributeError\u001b[0m: class Student has no attribute '__tax_discount_rate'"
     ]
    }
   ],
   "source": [
    "print Student.__tax_discount_rate"
   ]
  },
  {
   "cell_type": "code",
   "execution_count": 8,
   "metadata": {},
   "outputs": [
    {
     "ename": "AttributeError",
     "evalue": "Student instance has no attribute '__get_is_single'",
     "output_type": "error",
     "traceback": [
      "\u001b[0;31m---------------------------------------------------------------------------\u001b[0m",
      "\u001b[0;31mAttributeError\u001b[0m                            Traceback (most recent call last)",
      "\u001b[0;32m<ipython-input-8-b793d60e2bd2>\u001b[0m in \u001b[0;36m<module>\u001b[0;34m()\u001b[0m\n\u001b[0;32m----> 1\u001b[0;31m \u001b[0mstudent_4\u001b[0m\u001b[0;34m.\u001b[0m\u001b[0m__get_is_single\u001b[0m\u001b[0;34m(\u001b[0m\u001b[0;34m)\u001b[0m\u001b[0;34m\u001b[0m\u001b[0m\n\u001b[0m",
      "\u001b[0;31mAttributeError\u001b[0m: Student instance has no attribute '__get_is_single'"
     ]
    }
   ],
   "source": [
    "student_4.__get_is_single()"
   ]
  },
  {
   "cell_type": "code",
   "execution_count": 9,
   "metadata": {},
   "outputs": [
    {
     "name": "stdout",
     "output_type": "stream",
     "text": [
      "陈蓓的退税额度为：0.000000\n"
     ]
    }
   ],
   "source": [
    "student_4.display_tax_return()"
   ]
  },
  {
   "cell_type": "code",
   "execution_count": 10,
   "metadata": {},
   "outputs": [
    {
     "name": "stdout",
     "output_type": "stream",
     "text": [
      "范淼的退税额度为：500.000000\n"
     ]
    }
   ],
   "source": [
    "print '%s的退税额度为：%f' %(student_1.name, student_1.get_tax_return())"
   ]
  },
  {
   "cell_type": "code",
   "execution_count": null,
   "metadata": {
    "collapsed": true
   },
   "outputs": [],
   "source": []
  }
 ],
 "metadata": {
  "kernelspec": {
   "display_name": "Python 2",
   "language": "python",
   "name": "python2"
  },
  "language_info": {
   "codemirror_mode": {
    "name": "ipython",
    "version": 2
   },
   "file_extension": ".py",
   "mimetype": "text/x-python",
   "name": "python",
   "nbconvert_exporter": "python",
   "pygments_lexer": "ipython2",
   "version": "2.7.13"
  }
 },
 "nbformat": 4,
 "nbformat_minor": 2
}
