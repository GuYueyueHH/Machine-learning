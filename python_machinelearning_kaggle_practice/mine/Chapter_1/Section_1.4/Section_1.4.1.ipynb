{
 "cells": [
  {
   "cell_type": "code",
   "execution_count": 1,
   "metadata": {},
   "outputs": [
    {
     "name": "stdout",
     "output_type": "stream",
     "text": [
      "推荐您购买《Python机器学习实践：从零开始通往Kaggle竞赛之路》！\n"
     ]
    }
   ],
   "source": [
    "is_ML_Geek = True\n",
    "\n",
    "'''\n",
    "如果您是一位机器学习爱好者，\n",
    "系统会输出：”推荐您购买《Python机器学习实践：从零开始通往Kaggle竞赛之路》！”\n",
    "'''\n",
    "\n",
    "if is_ML_Geek:\n",
    "    print '推荐您购买《Python机器学习实践：从零开始通往Kaggle竞赛之路》！'"
   ]
  },
  {
   "cell_type": "code",
   "execution_count": null,
   "metadata": {
    "collapsed": true
   },
   "outputs": [],
   "source": [
    "\n",
    "    "
   ]
  }
 ],
 "metadata": {
  "kernelspec": {
   "display_name": "Python 2",
   "language": "python",
   "name": "python2"
  },
  "language_info": {
   "codemirror_mode": {
    "name": "ipython",
    "version": 2
   },
   "file_extension": ".py",
   "mimetype": "text/x-python",
   "name": "python",
   "nbconvert_exporter": "python",
   "pygments_lexer": "ipython2",
   "version": "2.7.13"
  }
 },
 "nbformat": 4,
 "nbformat_minor": 2
}
