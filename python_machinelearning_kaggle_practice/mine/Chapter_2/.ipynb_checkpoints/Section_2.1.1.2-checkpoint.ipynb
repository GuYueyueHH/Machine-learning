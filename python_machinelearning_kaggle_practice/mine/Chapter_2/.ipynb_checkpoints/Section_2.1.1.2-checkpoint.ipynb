{
 "cells": [
  {
   "cell_type": "code",
   "execution_count": 1,
   "metadata": {},
   "outputs": [],
   "source": [
    "#导入pandas包，并重命名为pd。\n",
    "import pandas as pd\n"
   ]
  },
  {
   "cell_type": "code",
   "execution_count": 2,
   "metadata": {},
   "outputs": [],
   "source": [
    "#通过查阅breast-cancer-wisconsin.names文件，给出每个特征列的名称。\n",
    "column_names = ['Sample code number', 'Clump Thickness', 'Uniformity of Cell Size', 'Uniformity of Cell Shape', 'Marginal Adhesion', 'Single Epithelial Cell Size', 'Bare Nuclei', 'Bland Chromatin', 'Normal Nucleoli', 'Mitoses', 'Class']\n",
    "#采用read_csv函数读取breast-cancer-wisconsin.data文件，默认用逗号分隔数据；并存入变量data。\n",
    "data = pd.read_csv('datasets/breast-cancer-wisconsin/breast-cancer-wisconsin.data', names=column_names)"
   ]
  },
  {
   "cell_type": "code",
   "execution_count": 3,
   "metadata": {},
   "outputs": [],
   "source": [
    "#导入numpy包，并重命名为np。\n",
    "import numpy as np\n",
    "#舍弃掉16行有空值的数据。\n",
    "data = data.replace(to_replace='?', value=np.nan)\n",
    "data = data.dropna(how='any')\n"
   ]
  },
  {
   "cell_type": "code",
   "execution_count": 4,
   "metadata": {},
   "outputs": [],
   "source": [
    "from sklearn.model_selection import train_test_split\n",
    "#采用与2.1.1.1节相同的方式分割数据；随机种子值保持为2019。\n",
    "X_train, X_test, y_train, y_test = train_test_split(data[column_names[1:10]], data[column_names[10]], test_size=0.25, random_state=2019)\n"
   ]
  },
  {
   "cell_type": "code",
   "execution_count": 5,
   "metadata": {},
   "outputs": [
    {
     "name": "stdout",
     "output_type": "stream",
     "text": [
      "使用支持向量分类器的准确率为: 0.970760\n"
     ]
    }
   ],
   "source": [
    "# 从sklearn.svm导入SVC，用来构建支持向量分类器。\n",
    "from sklearn.svm import SVC\n",
    "# 从sklearn.metrics导入accuracy_score，用来做分类准确率的评估。\n",
    "from sklearn.metrics import accuracy_score\n",
    "\n",
    "# 初始化支持向量分类器，采用linear核函数。\n",
    "svc = SVC(kernel='linear')\n",
    "\n",
    "svc.fit(X_train, y_train)\n",
    "\n",
    "y_predict = svc.predict(X_test)\n",
    "\n",
    "# 采用支持向量分类器，在相同的训练集和测试集的条件下，比逻辑斯蒂回归模型准确率提高了0.5%左右。\n",
    "print '%s: %f' %('使用支持向量分类器的准确率为', accuracy_score(y_test, y_predict))"
   ]
  },
  {
   "cell_type": "code",
   "execution_count": null,
   "metadata": {},
   "outputs": [],
   "source": []
  }
 ],
 "metadata": {
  "kernelspec": {
   "display_name": "Python 2",
   "language": "python",
   "name": "python2"
  },
  "language_info": {
   "codemirror_mode": {
    "name": "ipython",
    "version": 2
   },
   "file_extension": ".py",
   "mimetype": "text/x-python",
   "name": "python",
   "nbconvert_exporter": "python",
   "pygments_lexer": "ipython2",
   "version": "2.7.15"
  }
 },
 "nbformat": 4,
 "nbformat_minor": 2
}
