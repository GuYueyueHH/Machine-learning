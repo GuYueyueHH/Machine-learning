{
 "cells": [
  {
   "cell_type": "code",
   "execution_count": 4,
   "metadata": {},
   "outputs": [
    {
     "data": {
      "text/plain": [
       "(42000, 785)"
      ]
     },
     "execution_count": 4,
     "metadata": {},
     "output_type": "execute_result"
    }
   ],
   "source": [
    "import pandas as pd\n",
    "\n",
    "labeled_mnist = pd.read_csv('../datasets/mnist/labeled.csv')\n",
    "\n",
    "unlabeled_mnist = pd.read_csv('../datasets/mnist/unlabeled.csv')\n",
    "\n",
    "labeled_mnist.shape"
   ]
  },
  {
   "cell_type": "code",
   "execution_count": 5,
   "metadata": {},
   "outputs": [
    {
     "data": {
      "text/plain": [
       "(28000, 784)"
      ]
     },
     "execution_count": 5,
     "metadata": {},
     "output_type": "execute_result"
    }
   ],
   "source": [
    "unlabeled_mnist.shape"
   ]
  },
  {
   "cell_type": "code",
   "execution_count": 6,
   "metadata": {
    "collapsed": true
   },
   "outputs": [],
   "source": [
    "labeled_y = labeled_mnist['label']\n",
    "labeled_X = labeled_mnist.drop('label', axis=1)\n",
    "\n",
    "unlabeled_X = unlabeled_mnist\n"
   ]
  },
  {
   "cell_type": "code",
   "execution_count": 7,
   "metadata": {
    "collapsed": true
   },
   "outputs": [],
   "source": [
    "from sklearn.model_selection import train_test_split"
   ]
  },
  {
   "cell_type": "code",
   "execution_count": 8,
   "metadata": {
    "collapsed": true
   },
   "outputs": [],
   "source": [
    "labeled_X_train, X_test, labeled_y_train, y_test = train_test_split(labeled_X, labeled_y, test_size=0.3, random_state=2019)"
   ]
  },
  {
   "cell_type": "code",
   "execution_count": 9,
   "metadata": {},
   "outputs": [
    {
     "data": {
      "text/plain": [
       "((29400, 784), (29400,), (12600, 784))"
      ]
     },
     "execution_count": 9,
     "metadata": {},
     "output_type": "execute_result"
    }
   ],
   "source": [
    "labeled_X_train.shape, labeled_y_train.shape, X_test.shape"
   ]
  },
  {
   "cell_type": "code",
   "execution_count": 11,
   "metadata": {},
   "outputs": [
    {
     "name": "stderr",
     "output_type": "stream",
     "text": [
      "/Users/michael/anaconda/lib/python2.7/site-packages/sklearn/preprocessing/data.py:617: DataConversionWarning: Data with input dtype int64 were all converted to float64 by StandardScaler.\n",
      "  return self.partial_fit(X, y)\n",
      "/Users/michael/anaconda/lib/python2.7/site-packages/sklearn/base.py:462: DataConversionWarning: Data with input dtype int64 were all converted to float64 by StandardScaler.\n",
      "  return self.fit(X, **fit_params).transform(X)\n",
      "/Users/michael/anaconda/lib/python2.7/site-packages/ipykernel_launcher.py:4: DataConversionWarning: Data with input dtype int64 were all converted to float64 by StandardScaler.\n",
      "  after removing the cwd from sys.path.\n",
      "/Users/michael/anaconda/lib/python2.7/site-packages/ipykernel_launcher.py:5: DataConversionWarning: Data with input dtype int64 were all converted to float64 by StandardScaler.\n",
      "  \"\"\"\n",
      "/Users/michael/anaconda/lib/python2.7/site-packages/sklearn/linear_model/stochastic_gradient.py:144: FutureWarning: max_iter and tol parameters have been added in SGDClassifier in 0.19. If both are left unset, they default to max_iter=5 and tol=None. If tol is not None, max_iter defaults to max_iter=1000. From 0.21, default max_iter will be 1000, and default tol will be 1e-3.\n",
      "  FutureWarning)\n"
     ]
    }
   ],
   "source": [
    "from sklearn.preprocessing import StandardScaler\n",
    "from sklearn.linear_model import SGDClassifier\n",
    "\n",
    "ss = StandardScaler()\n",
    "\n",
    "labeled_X_train = ss.fit_transform(labeled_X_train)\n",
    "unlabeled_X = ss.transform(unlabeled_X)\n",
    "X_test = ss.transform(X_test)\n",
    "\n",
    "\n",
    "sgdc = SGDClassifier(random_state=2019, loss='log')\n",
    "\n",
    "sgdc.fit(labeled_X_train, labeled_y_train)\n",
    "y_predict = sgdc.predict(X_test)\n"
   ]
  },
  {
   "cell_type": "code",
   "execution_count": 12,
   "metadata": {},
   "outputs": [
    {
     "data": {
      "text/plain": [
       "0.9127777777777778"
      ]
     },
     "execution_count": 12,
     "metadata": {},
     "output_type": "execute_result"
    }
   ],
   "source": [
    "from sklearn.metrics import accuracy_score\n",
    "\n",
    "accuracy_score(y_test, y_predict)\n"
   ]
  },
  {
   "cell_type": "code",
   "execution_count": 13,
   "metadata": {},
   "outputs": [
    {
     "data": {
      "text/plain": [
       "0.9087301587301587"
      ]
     },
     "execution_count": 13,
     "metadata": {},
     "output_type": "execute_result"
    }
   ],
   "source": [
    "import numpy as np\n",
    "unlabeled_y_predict = sgdc.predict(unlabeled_X)\n",
    "labeled_X_train = np.concatenate((labeled_X_train, unlabeled_X), axis=0)\n",
    "labeled_y_train = np.concatenate((labeled_y_train, unlabeled_y_predict), axis=0)\n",
    "\n",
    "sgdc = SGDClassifier(random_state=2019, loss='log')\n",
    "\n",
    "sgdc.fit(labeled_X_train, labeled_y_train)\n",
    "y_predict = sgdc.predict(X_test)\n",
    "accuracy_score(y_test, y_predict)\n"
   ]
  },
  {
   "cell_type": "code",
   "execution_count": null,
   "metadata": {
    "collapsed": true
   },
   "outputs": [],
   "source": [
    "##############################"
   ]
  },
  {
   "cell_type": "code",
   "execution_count": 14,
   "metadata": {},
   "outputs": [
    {
     "name": "stderr",
     "output_type": "stream",
     "text": [
      "/Users/michael/anaconda/lib/python2.7/site-packages/ipykernel_launcher.py:23: DataConversionWarning: Data with input dtype int64 were all converted to float64 by StandardScaler.\n",
      "/Users/michael/anaconda/lib/python2.7/site-packages/ipykernel_launcher.py:25: DataConversionWarning: Data with input dtype int64 were all converted to float64 by StandardScaler.\n",
      "/Users/michael/anaconda/lib/python2.7/site-packages/sklearn/linear_model/base.py:297: RuntimeWarning: overflow encountered in exp\n",
      "  np.exp(prob, prob)\n",
      "/Users/michael/anaconda/lib/python2.7/site-packages/sklearn/linear_model/base.py:304: RuntimeWarning: invalid value encountered in true_divide\n",
      "  prob /= prob.sum(axis=1).reshape((prob.shape[0], -1))\n"
     ]
    }
   ],
   "source": [
    "import pandas as pd\n",
    "\n",
    "labeled_mnist = pd.read_csv('../datasets/mnist/labeled.csv')\n",
    "\n",
    "unlabeled_mnist = pd.read_csv('../datasets/mnist/unlabeled.csv')\n",
    "\n",
    "labeled_y = labeled_mnist['label']\n",
    "labeled_X = labeled_mnist.drop('label', axis=1)\n",
    "\n",
    "unlabeled_X = unlabeled_mnist\n",
    "\n",
    "from sklearn.model_selection import train_test_split\n",
    "\n",
    "labeled_X_train, X_test, labeled_y_train, y_test = train_test_split(labeled_X, labeled_y, test_size=0.3, random_state=2019)\n",
    "\n",
    "\n",
    "from sklearn.preprocessing import StandardScaler\n",
    "from sklearn.linear_model import SGDClassifier\n",
    "\n",
    "ss = StandardScaler()\n",
    "\n",
    "labeled_X_train = ss.fit_transform(labeled_X_train)\n",
    "unlabeled_X = ss.transform(unlabeled_X)\n",
    "\n",
    "X_test = ss.transform(X_test)\n",
    "\n",
    "\n",
    "sgdc = SGDClassifier(random_state=2019, loss='log')\n",
    "\n",
    "sgdc.fit(labeled_X_train, labeled_y_train)\n",
    "\n",
    "unlabeled_y_predict = sgdc.predict(unlabeled_X)\n",
    "unlabeled_y_pred_prob = sgdc.predict_proba(unlabeled_X)\n",
    "\n"
   ]
  },
  {
   "cell_type": "code",
   "execution_count": 23,
   "metadata": {},
   "outputs": [
    {
     "name": "stdout",
     "output_type": "stream",
     "text": [
      "0.94325\n"
     ]
    }
   ],
   "source": [
    "count = 0\n",
    "for i in range(len(unlabeled_y_predict)):\n",
    "    if unlabeled_y_pred_prob[i][unlabeled_y_predict[i]] >= 0.999999:\n",
    "        count += 1\n",
    "print count * 1.0 / len(unlabeled_y_predict)"
   ]
  },
  {
   "cell_type": "code",
   "execution_count": 15,
   "metadata": {},
   "outputs": [
    {
     "data": {
      "text/plain": [
       "array([[8.38008629e-273, 0.00000000e+000, 1.00000000e+000, ...,\n",
       "        0.00000000e+000, 0.00000000e+000, 0.00000000e+000],\n",
       "       [1.00000000e+000, 0.00000000e+000, 0.00000000e+000, ...,\n",
       "        0.00000000e+000, 0.00000000e+000, 0.00000000e+000],\n",
       "       [0.00000000e+000, 2.48663957e-248, 0.00000000e+000, ...,\n",
       "        1.15956881e-204, 2.44683228e-198, 1.00000000e+000],\n",
       "       ...,\n",
       "       [0.00000000e+000, 0.00000000e+000, 0.00000000e+000, ...,\n",
       "        0.00000000e+000, 3.81904111e-186, 0.00000000e+000],\n",
       "       [0.00000000e+000, 0.00000000e+000, 0.00000000e+000, ...,\n",
       "        8.91801495e-243, 1.81828087e-289, 1.00000000e+000],\n",
       "       [0.00000000e+000, 0.00000000e+000, 1.00000000e+000, ...,\n",
       "        0.00000000e+000, 0.00000000e+000, 0.00000000e+000]])"
      ]
     },
     "execution_count": 15,
     "metadata": {},
     "output_type": "execute_result"
    }
   ],
   "source": [
    "unlabeled_y_pred_prob"
   ]
  },
  {
   "cell_type": "code",
   "execution_count": null,
   "metadata": {
    "collapsed": true
   },
   "outputs": [],
   "source": [
    "unlabeled_y_pred_prob = sgdc.predict_proba(unlabeled_X)\n",
    "\n",
    "for i in range(len(unlabeled_y_predict)):\n",
    "    unlabel_y_pred_unlabeled_y_predict[i]"
   ]
  },
  {
   "cell_type": "code",
   "execution_count": null,
   "metadata": {
    "collapsed": true
   },
   "outputs": [],
   "source": []
  }
 ],
 "metadata": {
  "kernelspec": {
   "display_name": "Python 2",
   "language": "python",
   "name": "python2"
  },
  "language_info": {
   "codemirror_mode": {
    "name": "ipython",
    "version": 2
   },
   "file_extension": ".py",
   "mimetype": "text/x-python",
   "name": "python",
   "nbconvert_exporter": "python",
   "pygments_lexer": "ipython2",
   "version": "2.7.13"
  }
 },
 "nbformat": 4,
 "nbformat_minor": 2
}
