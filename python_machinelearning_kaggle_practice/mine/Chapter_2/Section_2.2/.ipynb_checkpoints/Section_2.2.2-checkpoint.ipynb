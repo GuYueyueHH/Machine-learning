{
 "cells": [
  {
   "cell_type": "code",
   "execution_count": 1,
   "metadata": {
    "collapsed": true
   },
   "outputs": [],
   "source": [
    "import pandas as pd\n",
    "\n",
    "white_wines = pd.read_csv('../datasets/wine-quality/winequality-white.csv', delimiter=';')\n",
    "\n",
    "white_wines.shape\n",
    "\n",
    "import numpy as np\n",
    "\n",
    "white_y = np.where(white_wines['quality'] > 5,1,0)\n",
    "\n",
    "white_X = white_wines.drop(['quality'], axis=1)\n",
    "\n",
    "from sklearn.model_selection import train_test_split\n",
    "\n",
    "white_X_train, white_X_test, white_y_train, white_y_test = train_test_split(white_X, white_y, test_size=0.1, random_state=2019)\n",
    "\n",
    "white_X_labeled_train, white_X_unlabeled_train, white_y_labeled_train, white_y_unlabeled_test = train_test_split(white_X_train, white_y_train, test_size=0.8, random_state=2019)\n",
    "\n",
    "from sklearn.preprocessing import StandardScaler\n",
    "\n",
    "ss = StandardScaler()\n",
    "\n",
    "white_X_labeled_train = ss.fit_transform(white_X_labeled_train)\n",
    "white_X_unlabeled_train = ss.transform(white_X_unlabeled_train)\n",
    "white_X_test = ss.transform(white_X_test)"
   ]
  },
  {
   "cell_type": "code",
   "execution_count": 2,
   "metadata": {},
   "outputs": [
    {
     "name": "stderr",
     "output_type": "stream",
     "text": [
      "/Users/michael/anaconda/lib/python2.7/site-packages/sklearn/linear_model/logistic.py:432: FutureWarning: Default solver will be changed to 'lbfgs' in 0.22. Specify a solver to silence this warning.\n",
      "  FutureWarning)\n"
     ]
    },
    {
     "data": {
      "text/plain": [
       "0.7816326530612245"
      ]
     },
     "execution_count": 2,
     "metadata": {},
     "output_type": "execute_result"
    }
   ],
   "source": [
    "from sklearn.linear_model import LogisticRegression\n",
    "\n",
    "lr_labeled = LogisticRegression(random_state=2019)\n",
    "\n",
    "lr_labeled.fit(white_X_labeled_train, white_y_labeled_train)\n",
    "\n",
    "white_y_predict = lr_labeled.predict(white_X_test)\n",
    "\n",
    "from sklearn.metrics import accuracy_score\n",
    "\n",
    "accuracy_score(white_y_test, white_y_predict)"
   ]
  },
  {
   "cell_type": "code",
   "execution_count": 5,
   "metadata": {},
   "outputs": [
    {
     "data": {
      "text/plain": [
       "0.7476609016161043"
      ]
     },
     "execution_count": 5,
     "metadata": {},
     "output_type": "execute_result"
    }
   ],
   "source": [
    "white_y_unlabeled_predict = lr_labeled.predict(white_X_unlabeled_train)\n",
    "white_y_unlabeled_predict_prob = lr_labeled.predict_proba(white_X_unlabeled_train)\n",
    "accuracy_score(white_y_unlabeled_test, white_y_unlabeled_predict)"
   ]
  },
  {
   "cell_type": "code",
   "execution_count": 7,
   "metadata": {
    "collapsed": true
   },
   "outputs": [],
   "source": [
    "X_train = np.concatenate([white_X_labeled_train, white_X_unlabeled_train], axis=0)\n",
    "y_train = np.concatenate([white_y_labeled_train, white_y_unlabeled_predict], axis=0)"
   ]
  },
  {
   "cell_type": "code",
   "execution_count": 8,
   "metadata": {},
   "outputs": [
    {
     "data": {
      "text/plain": [
       "0.7795918367346939"
      ]
     },
     "execution_count": 8,
     "metadata": {},
     "output_type": "execute_result"
    }
   ],
   "source": [
    "from sklearn.preprocessing import StandardScaler\n",
    "\n",
    "ss = StandardScaler()\n",
    "\n",
    "X_train = ss.fit_transform(X_train)\n",
    "#white_X_unlabeled_train = ss.transform(white_X_unlabeled_train)\n",
    "white_X_test = ss.transform(white_X_test)\n",
    "\n",
    "lr_mixed = LogisticRegression(random_state=2019)\n",
    "\n",
    "lr_mixed.fit(X_train, y_train)\n",
    "\n",
    "white_y_predict = lr_mixed.predict(white_X_test)\n",
    "\n",
    "from sklearn.metrics import accuracy_score\n",
    "\n",
    "accuracy_score(white_y_predict, white_y_test)"
   ]
  },
  {
   "cell_type": "code",
   "execution_count": null,
   "metadata": {
    "collapsed": true
   },
   "outputs": [],
   "source": [
    "import numpy as np\n",
    "white_y = np.where(white_wines['quality'] > 5,1,0)\n",
    "\n",
    "white_X = white_wines.drop(['quality'], axis=1)\n",
    "\n",
    "from sklearn.model_selection import train_test_split\n",
    "\n",
    "white_X_train, white_X_test, white_y_train, white_y_test = train_test_split(white_X, white_y, test_size=0.1, random_state=2019)"
   ]
  },
  {
   "cell_type": "code",
   "execution_count": null,
   "metadata": {
    "collapsed": true
   },
   "outputs": [],
   "source": [
    "white_X_train.shape, white_X_test.shape"
   ]
  },
  {
   "cell_type": "code",
   "execution_count": null,
   "metadata": {
    "collapsed": true
   },
   "outputs": [],
   "source": [
    "white_X_labeled_train, white_X_unlabeled_train, white_y_labeled_train, white_y_unlabeled_test = train_test_split(white_X_train, white_y_train, test_size=0.8, random_state=2019)"
   ]
  },
  {
   "cell_type": "code",
   "execution_count": null,
   "metadata": {
    "collapsed": true
   },
   "outputs": [],
   "source": []
  },
  {
   "cell_type": "code",
   "execution_count": null,
   "metadata": {
    "collapsed": true
   },
   "outputs": [],
   "source": [
    "white_X_labeled_train.shape, white_X_unlabeled_train.shape"
   ]
  },
  {
   "cell_type": "code",
   "execution_count": null,
   "metadata": {
    "collapsed": true
   },
   "outputs": [],
   "source": [
    "white_y_unlabeled_predict = lr.predict(white_X_unlabeled_train)\n",
    "white_y_unlabeled_predict_prob = lr.predict_proba(white_X_unlabeled_train)"
   ]
  },
  {
   "cell_type": "code",
   "execution_count": null,
   "metadata": {
    "collapsed": true
   },
   "outputs": [],
   "source": [
    "accuracy_score(white_y_unlabeled_test, white_y_unlabeled_predict)"
   ]
  },
  {
   "cell_type": "code",
   "execution_count": null,
   "metadata": {
    "collapsed": true
   },
   "outputs": [],
   "source": [
    "X_train = np.concatenate([white_X_labeled_train, white_X_unlabeled_train], axis=0)\n",
    "y_train = np.concatenate([white_y_labeled_train, white_y_unlabeled_predict], axis=0)"
   ]
  },
  {
   "cell_type": "code",
   "execution_count": null,
   "metadata": {
    "collapsed": true
   },
   "outputs": [],
   "source": [
    "X_train.shape"
   ]
  },
  {
   "cell_type": "code",
   "execution_count": null,
   "metadata": {
    "collapsed": true
   },
   "outputs": [],
   "source": [
    "y_train.shape"
   ]
  },
  {
   "cell_type": "code",
   "execution_count": null,
   "metadata": {
    "collapsed": true
   },
   "outputs": [],
   "source": [
    "lr = LogisticRegression()\n",
    "\n",
    "lr.fit(X_train, y_train)\n",
    "\n",
    "white_y_predict = lr.predict(white_X_test)\n",
    "\n",
    "from sklearn.metrics import accuracy_score\n",
    "accuracy_score(white_y_predict, white_y_test)"
   ]
  },
  {
   "cell_type": "code",
   "execution_count": 11,
   "metadata": {},
   "outputs": [
    {
     "name": "stdout",
     "output_type": "stream",
     "text": [
      "225\n"
     ]
    }
   ],
   "source": [
    "X_train = white_X_labeled_train\n",
    "y_train = white_y_labeled_train\n",
    "count = 0\n",
    "\n",
    "for i in range(len(white_y_unlabeled_predict_prob)):\n",
    "    if np.max(white_y_unlabeled_predict_prob[i]) > 0.97:\n",
    "        count += 1\n",
    "        X_train = np.concatenate([X_train, [white_X_unlabeled_train[i]]], axis=0)\n",
    "        y_train = np.concatenate([y_train, [white_y_unlabeled_predict[i]]], axis=0)\n",
    "print count"
   ]
  },
  {
   "cell_type": "code",
   "execution_count": 12,
   "metadata": {},
   "outputs": [
    {
     "data": {
      "text/plain": [
       "(1106, 11)"
      ]
     },
     "execution_count": 12,
     "metadata": {},
     "output_type": "execute_result"
    }
   ],
   "source": [
    "X_train.shape"
   ]
  },
  {
   "cell_type": "code",
   "execution_count": 13,
   "metadata": {},
   "outputs": [
    {
     "data": {
      "text/plain": [
       "(1106,)"
      ]
     },
     "execution_count": 13,
     "metadata": {},
     "output_type": "execute_result"
    }
   ],
   "source": [
    "y_train.shape"
   ]
  },
  {
   "cell_type": "code",
   "execution_count": 15,
   "metadata": {},
   "outputs": [
    {
     "data": {
      "text/plain": [
       "0.7836734693877551"
      ]
     },
     "execution_count": 15,
     "metadata": {},
     "output_type": "execute_result"
    }
   ],
   "source": [
    "lr = LogisticRegression(random_state=2019)\n",
    "\n",
    "lr.fit(X_train, y_train)\n",
    "\n",
    "white_y_predict = lr.predict(white_X_test)\n",
    "\n",
    "from sklearn.metrics import accuracy_score\n",
    "accuracy_score(white_y_predict, white_y_test)"
   ]
  },
  {
   "cell_type": "code",
   "execution_count": null,
   "metadata": {
    "collapsed": true
   },
   "outputs": [],
   "source": [
    "y_train"
   ]
  },
  {
   "cell_type": "code",
   "execution_count": null,
   "metadata": {
    "collapsed": true
   },
   "outputs": [],
   "source": [
    "white_y_predict"
   ]
  },
  {
   "cell_type": "code",
   "execution_count": null,
   "metadata": {
    "collapsed": true
   },
   "outputs": [],
   "source": []
  }
 ],
 "metadata": {
  "kernelspec": {
   "display_name": "Python 2",
   "language": "python",
   "name": "python2"
  },
  "language_info": {
   "codemirror_mode": {
    "name": "ipython",
    "version": 2
   },
   "file_extension": ".py",
   "mimetype": "text/x-python",
   "name": "python",
   "nbconvert_exporter": "python",
   "pygments_lexer": "ipython2",
   "version": "2.7.13"
  }
 },
 "nbformat": 4,
 "nbformat_minor": 2
}
