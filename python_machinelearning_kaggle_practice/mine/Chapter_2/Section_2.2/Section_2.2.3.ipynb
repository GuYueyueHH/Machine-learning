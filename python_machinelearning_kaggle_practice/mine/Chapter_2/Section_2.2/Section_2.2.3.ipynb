{
 "cells": [
  {
   "cell_type": "code",
   "execution_count": 1,
   "metadata": {
    "collapsed": true
   },
   "outputs": [],
   "source": [
    "import pandas as pd"
   ]
  },
  {
   "cell_type": "code",
   "execution_count": 2,
   "metadata": {
    "collapsed": true
   },
   "outputs": [],
   "source": [
    "from sklearn.semi_supervised import LabelPropagation, LabelSpreading\n"
   ]
  },
  {
   "cell_type": "code",
   "execution_count": 3,
   "metadata": {
    "collapsed": true
   },
   "outputs": [],
   "source": [
    "import pandas as pd\n",
    "\n",
    "white_wines = pd.read_csv('../datasets/wine-quality/winequality-white.csv', delimiter=';')\n",
    "\n",
    "white_wines.shape\n",
    "\n",
    "import numpy as np\n",
    "\n",
    "white_y = np.where(white_wines['quality'] > 6,1,0)\n",
    "\n",
    "white_X = white_wines.drop(['quality'], axis=1)\n",
    "\n",
    "from sklearn.model_selection import train_test_split\n",
    "\n",
    "white_X_train, white_X_test, white_y_train, white_y_test = train_test_split(white_X, white_y, test_size=0.1, random_state=2019)\n",
    "\n",
    "white_X_labeled_train, white_X_unlabeled_train, white_y_labeled_train, white_y_unlabeled_test = train_test_split(white_X_train, white_y_train, test_size=0.99, random_state=2019)\n",
    "\n",
    "from sklearn.preprocessing import StandardScaler\n",
    "\n",
    "ss = StandardScaler()\n",
    "\n",
    "white_X_labeled_train = ss.fit_transform(white_X_labeled_train)\n",
    "white_X_test = ss.transform(white_X_test)"
   ]
  },
  {
   "cell_type": "code",
   "execution_count": 4,
   "metadata": {},
   "outputs": [
    {
     "data": {
      "text/plain": [
       "0.7306122448979592"
      ]
     },
     "execution_count": 4,
     "metadata": {},
     "output_type": "execute_result"
    }
   ],
   "source": [
    "from sklearn.neighbors import KNeighborsClassifier\n",
    "\n",
    "knc = KNeighborsClassifier(n_neighbors=9)\n",
    "\n",
    "knc.fit(white_X_labeled_train, white_y_labeled_train)\n",
    "\n",
    "white_y_predict = knc.predict(white_X_test)\n",
    "\n",
    "from sklearn.metrics import accuracy_score\n",
    "\n",
    "accuracy_score(white_y_test, white_y_predict)"
   ]
  },
  {
   "cell_type": "code",
   "execution_count": 5,
   "metadata": {},
   "outputs": [
    {
     "name": "stdout",
     "output_type": "stream",
     "text": [
      "(44, 11) (4364, 11)\n"
     ]
    }
   ],
   "source": [
    "X_train = np.concatenate([white_X_labeled_train, white_X_unlabeled_train], axis=0)\n",
    "y_train = np.concatenate([white_y_labeled_train, -np.ones(white_y_unlabeled_test.shape)], axis=0)\n",
    "print white_X_labeled_train.shape, white_X_unlabeled_train.shape"
   ]
  },
  {
   "cell_type": "code",
   "execution_count": 6,
   "metadata": {},
   "outputs": [
    {
     "name": "stderr",
     "output_type": "stream",
     "text": [
      "/Users/michael/anaconda/lib/python2.7/site-packages/sklearn/semi_supervised/label_propagation.py:281: RuntimeWarning: invalid value encountered in divide\n",
      "  self.label_distributions_ /= normalizer\n",
      "/Users/michael/anaconda/lib/python2.7/site-packages/sklearn/semi_supervised/label_propagation.py:292: ConvergenceWarning: max_iter=1000 was reached without convergence.\n",
      "  category=ConvergenceWarning\n"
     ]
    },
    {
     "data": {
      "text/plain": [
       "0.736734693877551"
      ]
     },
     "execution_count": 6,
     "metadata": {},
     "output_type": "execute_result"
    }
   ],
   "source": [
    "from sklearn.preprocessing import StandardScaler\n",
    "\n",
    "ss = StandardScaler()\n",
    "\n",
    "X_train = ss.fit_transform(X_train)\n",
    "\n",
    "white_X_test = ss.transform(white_X_test)\n",
    "\n",
    "lp = LabelPropagation(kernel='knn', n_neighbors=9)\n",
    "\n",
    "lp.fit(X_train, y_train)\n",
    "\n",
    "white_y_predict = lp.predict(white_X_test)\n",
    "\n",
    "from sklearn.metrics import accuracy_score\n",
    "\n",
    "accuracy_score(white_y_predict, white_y_test)"
   ]
  },
  {
   "cell_type": "code",
   "execution_count": 7,
   "metadata": {},
   "outputs": [
    {
     "name": "stderr",
     "output_type": "stream",
     "text": [
      "/Users/michael/anaconda/lib/python2.7/site-packages/sklearn/semi_supervised/label_propagation.py:297: RuntimeWarning: invalid value encountered in divide\n",
      "  self.label_distributions_ /= normalizer\n"
     ]
    },
    {
     "data": {
      "text/plain": [
       "0.736734693877551"
      ]
     },
     "execution_count": 7,
     "metadata": {},
     "output_type": "execute_result"
    }
   ],
   "source": [
    "from sklearn.preprocessing import StandardScaler\n",
    "\n",
    "ss = StandardScaler()\n",
    "\n",
    "X_train = ss.fit_transform(X_train)\n",
    "\n",
    "white_X_test = ss.transform(white_X_test)\n",
    "\n",
    "ls = LabelSpreading(kernel='knn', n_neighbors=9)\n",
    "\n",
    "ls.fit(X_train, y_train)\n",
    "\n",
    "white_y_predict = ls.predict(white_X_test)\n",
    "\n",
    "from sklearn.metrics import accuracy_score\n",
    "\n",
    "accuracy_score(white_y_predict, white_y_test)"
   ]
  },
  {
   "cell_type": "code",
   "execution_count": null,
   "metadata": {
    "collapsed": true
   },
   "outputs": [],
   "source": []
  }
 ],
 "metadata": {
  "kernelspec": {
   "display_name": "Python 2",
   "language": "python",
   "name": "python2"
  },
  "language_info": {
   "codemirror_mode": {
    "name": "ipython",
    "version": 2
   },
   "file_extension": ".py",
   "mimetype": "text/x-python",
   "name": "python",
   "nbconvert_exporter": "python",
   "pygments_lexer": "ipython2",
   "version": "2.7.13"
  }
 },
 "nbformat": 4,
 "nbformat_minor": 2
}
