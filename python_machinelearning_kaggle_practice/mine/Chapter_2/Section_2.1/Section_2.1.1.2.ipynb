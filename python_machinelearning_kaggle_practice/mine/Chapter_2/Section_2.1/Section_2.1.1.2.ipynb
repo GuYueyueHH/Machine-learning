{
 "cells": [
  {
   "cell_type": "code",
   "execution_count": 1,
   "metadata": {
    "collapsed": true
   },
   "outputs": [],
   "source": [
    "#导入pandas包，并重命名为pd。\n",
    "import pandas as pd\n"
   ]
  },
  {
   "cell_type": "code",
   "execution_count": 2,
   "metadata": {
    "collapsed": true
   },
   "outputs": [],
   "source": [
    "#通过查阅breast-cancer-wisconsin.names文件，给出每个特征列的名称。\n",
    "column_names = ['Sample code number', 'Clump Thickness', 'Uniformity of Cell Size', 'Uniformity of Cell Shape', 'Marginal Adhesion', 'Single Epithelial Cell Size', 'Bare Nuclei', 'Bland Chromatin', 'Normal Nucleoli', 'Mitoses', 'Class']\n",
    "#采用read_csv函数读取breast-cancer-wisconsin.data文件，默认用逗号分隔数据；并存入变量data。\n",
    "data = pd.read_csv('../datasets/breast-cancer-wisconsin/breast-cancer-wisconsin.data', names=column_names)"
   ]
  },
  {
   "cell_type": "code",
   "execution_count": 3,
   "metadata": {
    "collapsed": true
   },
   "outputs": [],
   "source": [
    "#导入numpy包，并重命名为np。\n",
    "import numpy as np\n",
    "#舍弃掉16行有空值的数据。\n",
    "data = data.replace(to_replace='?', value=np.nan)\n",
    "data = data.dropna(how='any')\n"
   ]
  },
  {
   "cell_type": "code",
   "execution_count": 4,
   "metadata": {
    "collapsed": true
   },
   "outputs": [],
   "source": [
    "# data['Class'] = data['Class'].replace(4, 1)\n",
    "# data['Class'] = data['Class'].replace(2, 0)"
   ]
  },
  {
   "cell_type": "code",
   "execution_count": 5,
   "metadata": {},
   "outputs": [
    {
     "name": "stderr",
     "output_type": "stream",
     "text": [
      "/Users/michael/anaconda/lib/python2.7/site-packages/sklearn/preprocessing/data.py:617: DataConversionWarning: Data with input dtype int64, object were all converted to float64 by StandardScaler.\n",
      "  return self.partial_fit(X, y)\n",
      "/Users/michael/anaconda/lib/python2.7/site-packages/sklearn/base.py:462: DataConversionWarning: Data with input dtype int64, object were all converted to float64 by StandardScaler.\n",
      "  return self.fit(X, **fit_params).transform(X)\n",
      "/Users/michael/anaconda/lib/python2.7/site-packages/ipykernel_launcher.py:10: DataConversionWarning: Data with input dtype int64, object were all converted to float64 by StandardScaler.\n",
      "  # Remove the CWD from sys.path while we load stuff.\n"
     ]
    }
   ],
   "source": [
    "from sklearn.model_selection import train_test_split\n",
    "#采用与2.1.1.1节相同的方式分割数据；随机种子值保持为2019。\n",
    "X_train, X_test, y_train, y_test = train_test_split(data[column_names[1:10]], data[column_names[10]], test_size=0.3, random_state=2019)\n",
    "\n",
    "from sklearn.preprocessing import StandardScaler\n",
    "\n",
    "ss = StandardScaler()\n",
    "\n",
    "X_train = ss.fit_transform(X_train)\n",
    "X_test = ss.transform(X_test)"
   ]
  },
  {
   "cell_type": "code",
   "execution_count": 6,
   "metadata": {},
   "outputs": [
    {
     "name": "stdout",
     "output_type": "stream",
     "text": [
      "使用支持向量分类器的准确率为: 0.975610\n"
     ]
    }
   ],
   "source": [
    "# 从sklearn.svm导入SVC，用来构建支持向量分类器。\n",
    "from sklearn.svm import SVC\n",
    "# 从sklearn.metrics导入accuracy_score，用来做分类准确率的评估。\n",
    "from sklearn.metrics import accuracy_score\n",
    "\n",
    "# 初始化支持向量分类器，采用linear核函数。\n",
    "svc = SVC(kernel='linear')\n",
    "\n",
    "svc.fit(X_train, y_train)\n",
    "\n",
    "y_predict = svc.predict(X_test)\n",
    "\n",
    "# 采用支持向量分类器，在相同的训练集和测试集的条件下，比逻辑斯蒂回归模型准确率提高了0.5%左右。\n",
    "print '%s: %f' %('使用支持向量分类器的准确率为', accuracy_score(y_test, y_predict))"
   ]
  },
  {
   "cell_type": "code",
   "execution_count": 7,
   "metadata": {},
   "outputs": [
    {
     "name": "stdout",
     "output_type": "stream",
     "text": [
      "[[129   3]\n",
      " [  2  71]]\n"
     ]
    }
   ],
   "source": [
    "from sklearn.metrics import confusion_matrix\n",
    "\n",
    "con_mat = confusion_matrix(y_test, y_predict, labels=[2,4])\n",
    "print con_mat"
   ]
  },
  {
   "cell_type": "code",
   "execution_count": 8,
   "metadata": {},
   "outputs": [
    {
     "name": "stdout",
     "output_type": "stream",
     "text": [
      "0.9594594594594594\n",
      "0.9726027397260274\n"
     ]
    }
   ],
   "source": [
    "from sklearn.metrics import recall_score, precision_score, precision_recall_curve\n",
    "import numpy as np\n",
    "print precision_score(y_test, y_predict, pos_label=4)\n",
    "print recall_score(y_test, y_predict, pos_label=4)\n",
    "# precisions, recalls, thresholds = precision_recall_curve(y_test, np.max(y_predict_prob, axis=1), pos_label=4)\n",
    "# from matplotlib import pyplot as plt\n",
    "# plt.rcParams['figure.dpi'] = 300 \n",
    "# plt.plot(recalls, precisions)\n",
    "# plt.show()"
   ]
  },
  {
   "cell_type": "code",
   "execution_count": null,
   "metadata": {
    "collapsed": true
   },
   "outputs": [],
   "source": []
  }
 ],
 "metadata": {
  "kernelspec": {
   "display_name": "Python 2",
   "language": "python",
   "name": "python2"
  },
  "language_info": {
   "codemirror_mode": {
    "name": "ipython",
    "version": 2
   },
   "file_extension": ".py",
   "mimetype": "text/x-python",
   "name": "python",
   "nbconvert_exporter": "python",
   "pygments_lexer": "ipython2",
   "version": "2.7.13"
  }
 },
 "nbformat": 4,
 "nbformat_minor": 2
}
